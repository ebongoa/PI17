{
 "cells": [
  {
   "cell_type": "code",
   "execution_count": null,
   "id": "7a55a402",
   "metadata": {
    "papermill": {
     "duration": 0.042884,
     "end_time": "2022-02-28T09:24:59.499697",
     "exception": false,
     "start_time": "2022-02-28T09:24:59.456813",
     "status": "completed"
    },
    "tags": []
   },
   "outputs": [],
   "source": []
  },
  {
   "cell_type": "code",
   "execution_count": 1,
   "id": "9071e266",
   "metadata": {
    "execution": {
     "iopub.execute_input": "2022-02-28T09:24:59.588673Z",
     "iopub.status.busy": "2022-02-28T09:24:59.587416Z",
     "iopub.status.idle": "2022-02-28T09:25:41.288522Z",
     "shell.execute_reply": "2022-02-28T09:25:41.287651Z",
     "shell.execute_reply.started": "2022-02-28T09:20:31.857701Z"
    },
    "papermill": {
     "duration": 41.745687,
     "end_time": "2022-02-28T09:25:41.288702",
     "exception": false,
     "start_time": "2022-02-28T09:24:59.543015",
     "status": "completed"
    },
    "tags": []
   },
   "outputs": [
    {
     "name": "stdout",
     "output_type": "stream",
     "text": [
      "Requirement already satisfied: fasttext in /opt/conda/lib/python3.7/site-packages (0.9.2)\r\n",
      "Requirement already satisfied: setuptools>=0.7.0 in /opt/conda/lib/python3.7/site-packages (from fasttext) (59.5.0)\r\n",
      "Requirement already satisfied: pybind11>=2.2 in /opt/conda/lib/python3.7/site-packages (from fasttext) (2.9.1)\r\n",
      "Requirement already satisfied: numpy in /opt/conda/lib/python3.7/site-packages (from fasttext) (1.20.3)\r\n",
      "\u001b[33mWARNING: Running pip as the 'root' user can result in broken permissions and conflicting behaviour with the system package manager. It is recommended to use a virtual environment instead: https://pip.pypa.io/warnings/venv\u001b[0m\r\n",
      "Collecting langdetect\r\n",
      "  Downloading langdetect-1.0.9.tar.gz (981 kB)\r\n",
      "     |████████████████████████████████| 981 kB 916 kB/s            \r\n",
      "\u001b[?25h  Preparing metadata (setup.py) ... \u001b[?25l-\b \bdone\r\n",
      "\u001b[?25hRequirement already satisfied: six in /opt/conda/lib/python3.7/site-packages (from langdetect) (1.16.0)\r\n",
      "Building wheels for collected packages: langdetect\r\n",
      "  Building wheel for langdetect (setup.py) ... \u001b[?25l-\b \b\\\b \b|\b \b/\b \b-\b \bdone\r\n",
      "\u001b[?25h  Created wheel for langdetect: filename=langdetect-1.0.9-py3-none-any.whl size=993242 sha256=fc36b7aa13a9be3bba1e9ae78ba199bc9a5957058bdfdbd0986d52a45460b33e\r\n",
      "  Stored in directory: /root/.cache/pip/wheels/c5/96/8a/f90c59ed25d75e50a8c10a1b1c2d4c402e4dacfa87f3aff36a\r\n",
      "Successfully built langdetect\r\n",
      "Installing collected packages: langdetect\r\n",
      "Successfully installed langdetect-1.0.9\r\n",
      "\u001b[33mWARNING: Running pip as the 'root' user can result in broken permissions and conflicting behaviour with the system package manager. It is recommended to use a virtual environment instead: https://pip.pypa.io/warnings/venv\u001b[0m\r\n",
      "Requirement already satisfied: langid in /opt/conda/lib/python3.7/site-packages (1.1.6)\r\n",
      "Requirement already satisfied: numpy in /opt/conda/lib/python3.7/site-packages (from langid) (1.20.3)\r\n",
      "\u001b[33mWARNING: Running pip as the 'root' user can result in broken permissions and conflicting behaviour with the system package manager. It is recommended to use a virtual environment instead: https://pip.pypa.io/warnings/venv\u001b[0m\r\n",
      "Collecting pycld3\r\n",
      "  Downloading pycld3-0.22-cp37-cp37m-manylinux1_x86_64.whl (13.6 MB)\r\n",
      "     |████████████████████████████████| 13.6 MB 1.3 MB/s            \r\n",
      "\u001b[?25hInstalling collected packages: pycld3\r\n",
      "Successfully installed pycld3-0.22\r\n",
      "\u001b[33mWARNING: Running pip as the 'root' user can result in broken permissions and conflicting behaviour with the system package manager. It is recommended to use a virtual environment instead: https://pip.pypa.io/warnings/venv\u001b[0m\r\n"
     ]
    }
   ],
   "source": [
    "!pip install fasttext\n",
    "!pip install langdetect\n",
    "!pip install langid\n",
    "!pip install pycld3"
   ]
  },
  {
   "cell_type": "code",
   "execution_count": null,
   "id": "c94bc27e",
   "metadata": {
    "papermill": {
     "duration": 0.056803,
     "end_time": "2022-02-28T09:25:41.404707",
     "exception": false,
     "start_time": "2022-02-28T09:25:41.347904",
     "status": "completed"
    },
    "tags": []
   },
   "outputs": [],
   "source": []
  },
  {
   "cell_type": "markdown",
   "id": "98fb8abb",
   "metadata": {
    "papermill": {
     "duration": 0.056626,
     "end_time": "2022-02-28T09:25:41.519046",
     "exception": false,
     "start_time": "2022-02-28T09:25:41.462420",
     "status": "completed"
    },
    "tags": []
   },
   "source": [
    "# **Langues supportées**"
   ]
  },
  {
   "cell_type": "markdown",
   "id": "8fb59e16",
   "metadata": {
    "papermill": {
     "duration": 0.055222,
     "end_time": "2022-02-28T09:25:41.630767",
     "exception": false,
     "start_time": "2022-02-28T09:25:41.575545",
     "status": "completed"
    },
    "tags": []
   },
   "source": [
    "* **langdetect** supports 55 languages out of the box (ISO 639-1 codes) : af, ar, bg, bn, ca, cs, cy, da, de, el, en, es, et, fa, fi, fr, gu, he, hi, hr, hu, id, it, ja, kn, ko, lt, lv, mk, ml, mr, ne, nl, no, pa, pl, pt, ro, ru, sk, sl, so, sq, sv, sw, ta, te, th, tl, tr, uk, ur, vi, zh-cn, zh-tw\n",
    "* **langid** comes pre-trained on 97 languages (ISO 639-1 codes given) : af, am, an, ar, as, az, be, bg, bn, br, bs, ca, cs, cy, da, de, dz, el, en, eo, es, et, eu, fa, fi, fo, fr, ga, gl, gu, he, hi, hr, ht, hu, hy, id, is, it, ja, jv, ka, kk, km, kn, ko, ku, ky, la, lb, lo, lt, lv, mg, mk, ml, mn, mr, ms, mt, nb, ne, nl, nn, no, oc, or, pa, pl, ps, pt, qu, ro, ru, rw, se, si, sk, sl, sq, sr, sv, sw, ta, te, th, tl, tr, ug, uk, ur, vi, vo, wa, xh, zh, zu\n",
    "* **fasttext** renvoie le code ISO de la langue la plus probable parmi les 170 langues : af als am an ar arz as ast av az azb ba bar bcl be bg bh bn bo bpy br bs bxr ca cbk ce ceb ckb co cs cv cy da de diq dsb dty dv el eml en eo es et eu fa fi fr frr fy ga gd gl gn gom gu gv he hi hif hr hsb ht hu hy ia id ie ilo io is it ja jbo jv ka kk km kn ko krc ku kv kw ky la lb lez li lmo lo lrc lt lv mai mg mhr min mk ml mn mr mrj ms mt mwl my myv mzn nah nap nds ne new nl nn no oc or os pa pam pfl pl pms pnb ps pt qu rm ro ru rue sa sah sc scn sco sd sh si sk sl so sq sr su sv sw ta te tg th tk tl tr tt tyv ug uk ur uz vec vep vi vls vo wa war wuu xal xmf yi yo yue zh\n",
    "* **cld3** supporte 107 langues : af am ar bg bg-Latn bn bs ca ceb co cs cy da de el el-Latn en eo es et eu fa fi fil fr fy ga gd gl gu ha haw hi hi-Latn hmn hr ht hu hy id ig is it iw ja ja-Latn jv ka kk km kn ko ku ky la lb lo lt lv mg mi mk ml mn mr ms mt my ne nl no ny pa pl ps pt ro ru ru-Latn sd si sk sl sm sn so sq sr st su sv sw ta te tg th tr uk ur uz vi xh yi yo zh zh-Latn zu"
   ]
  },
  {
   "cell_type": "code",
   "execution_count": 2,
   "id": "b88042b4",
   "metadata": {
    "execution": {
     "iopub.execute_input": "2022-02-28T09:25:41.749345Z",
     "iopub.status.busy": "2022-02-28T09:25:41.748672Z",
     "iopub.status.idle": "2022-02-28T09:25:41.751015Z",
     "shell.execute_reply": "2022-02-28T09:25:41.750400Z",
     "shell.execute_reply.started": "2022-02-28T09:21:10.970278Z"
    },
    "papermill": {
     "duration": 0.064587,
     "end_time": "2022-02-28T09:25:41.751155",
     "exception": false,
     "start_time": "2022-02-28T09:25:41.686568",
     "status": "completed"
    },
    "tags": []
   },
   "outputs": [],
   "source": [
    "X = ['langdetect', 'langid', 'fasttext', 'cld3']\n",
    "langs = [55,97, 170, 107]"
   ]
  },
  {
   "cell_type": "code",
   "execution_count": 3,
   "id": "4d709292",
   "metadata": {
    "execution": {
     "iopub.execute_input": "2022-02-28T09:25:41.885593Z",
     "iopub.status.busy": "2022-02-28T09:25:41.884524Z",
     "iopub.status.idle": "2022-02-28T09:25:41.886477Z",
     "shell.execute_reply": "2022-02-28T09:25:41.887041Z",
     "shell.execute_reply.started": "2022-02-28T09:21:10.976451Z"
    },
    "papermill": {
     "duration": 0.07854,
     "end_time": "2022-02-28T09:25:41.887264",
     "exception": false,
     "start_time": "2022-02-28T09:25:41.808724",
     "status": "completed"
    },
    "tags": []
   },
   "outputs": [],
   "source": [
    "import matplotlib.pyplot as plt\n",
    "import pandas as pd"
   ]
  },
  {
   "cell_type": "code",
   "execution_count": 4,
   "id": "11130b45",
   "metadata": {
    "execution": {
     "iopub.execute_input": "2022-02-28T09:25:42.026529Z",
     "iopub.status.busy": "2022-02-28T09:25:42.025826Z",
     "iopub.status.idle": "2022-02-28T09:25:42.346479Z",
     "shell.execute_reply": "2022-02-28T09:25:42.345876Z",
     "shell.execute_reply.started": "2022-02-28T09:21:10.990036Z"
    },
    "papermill": {
     "duration": 0.39207,
     "end_time": "2022-02-28T09:25:42.346628",
     "exception": false,
     "start_time": "2022-02-28T09:25:41.954558",
     "status": "completed"
    },
    "tags": []
   },
   "outputs": [
    {
     "data": {
      "text/plain": [
       "Text(0.5, 1.0, 'Comparaison des solutions sur le nombre de langues supportées')"
      ]
     },
     "execution_count": 4,
     "metadata": {},
     "output_type": "execute_result"
    },
    {
     "data": {
      "text/plain": [
       "<Figure size 1080x576 with 0 Axes>"
      ]
     },
     "metadata": {},
     "output_type": "display_data"
    },
    {
     "data": {
      "image/png": "[encoded data removed]",
      "text/plain": [
       "<Figure size 432x288 with 1 Axes>"
      ]
     },
     "metadata": {},
     "output_type": "display_data"
    }
   ],
   "source": [
    "plt.style.use('fivethirtyeight')\n",
    "fig = plt.figure(figsize = (15, 8))\n",
    "\n",
    "model_comparison = pd.DataFrame({'model': X,'langs': langs})\n",
    "model_comparison.sort_values('langs', ascending = False).plot(x = 'model', y = 'langs', kind = 'barh', color = 'orange', edgecolor = 'black')\n",
    "\n",
    "plt.ylabel('')\n",
    "plt.yticks(size = 10)\n",
    "plt.xlabel('Langs')\n",
    "plt.xticks(size = 10)\n",
    "plt.title('Comparaison des solutions sur le nombre de langues supportées', size=20)   "
   ]
  },
  {
   "cell_type": "code",
   "execution_count": null,
   "id": "f987a3f6",
   "metadata": {
    "papermill": {
     "duration": 0.058086,
     "end_time": "2022-02-28T09:25:42.462939",
     "exception": false,
     "start_time": "2022-02-28T09:25:42.404853",
     "status": "completed"
    },
    "tags": []
   },
   "outputs": [],
   "source": []
  },
  {
   "cell_type": "markdown",
   "id": "a4149634",
   "metadata": {
    "papermill": {
     "duration": 0.057323,
     "end_time": "2022-02-28T09:25:42.578150",
     "exception": false,
     "start_time": "2022-02-28T09:25:42.520827",
     "status": "completed"
    },
    "tags": []
   },
   "source": [
    "# **Précision**"
   ]
  },
  {
   "cell_type": "code",
   "execution_count": 5,
   "id": "e93f4082",
   "metadata": {
    "execution": {
     "iopub.execute_input": "2022-02-28T09:25:42.700910Z",
     "iopub.status.busy": "2022-02-28T09:25:42.697717Z",
     "iopub.status.idle": "2022-02-28T09:25:42.704070Z",
     "shell.execute_reply": "2022-02-28T09:25:42.703501Z",
     "shell.execute_reply.started": "2022-02-28T09:21:11.319799Z"
    },
    "papermill": {
     "duration": 0.068262,
     "end_time": "2022-02-28T09:25:42.704250",
     "exception": false,
     "start_time": "2022-02-28T09:25:42.635988",
     "status": "completed"
    },
    "tags": []
   },
   "outputs": [],
   "source": [
    "en = \"This text is written in English\"\n",
    "fr = \"Ce texte est écrit en Français\"\n",
    "es = \"Este texto está escrito en español\"\n",
    "it = \"Questo testo è scritto in italiano\"\n",
    "zh = \"这段文字是用中文写的\"\n",
    "ja = \"この文章は日本語で書かれています\"\n",
    "de = \"Dieser Text ist auf Deutsch geschrieben\"\n",
    "sv = \"Denna text är skriven på svenska\"\n",
    "pl = \"Denna text är skriven på polska.\"\n",
    "nl = \"Deze tekst is geschreven in het Nederlands\"\n",
    "texts = [en, fr, es, it, zh, ja, de, sv, pl, nl]"
   ]
  },
  {
   "cell_type": "markdown",
   "id": "6a2900a0",
   "metadata": {
    "papermill": {
     "duration": 0.058736,
     "end_time": "2022-02-28T09:25:42.822056",
     "exception": false,
     "start_time": "2022-02-28T09:25:42.763320",
     "status": "completed"
    },
    "tags": []
   },
   "source": [
    "## **langdetect**"
   ]
  },
  {
   "cell_type": "code",
   "execution_count": 6,
   "id": "c131d11a",
   "metadata": {
    "execution": {
     "iopub.execute_input": "2022-02-28T09:25:42.944303Z",
     "iopub.status.busy": "2022-02-28T09:25:42.943223Z",
     "iopub.status.idle": "2022-02-28T09:25:42.956380Z",
     "shell.execute_reply": "2022-02-28T09:25:42.956937Z",
     "shell.execute_reply.started": "2022-02-28T09:21:11.326899Z"
    },
    "papermill": {
     "duration": 0.076579,
     "end_time": "2022-02-28T09:25:42.957117",
     "exception": false,
     "start_time": "2022-02-28T09:25:42.880538",
     "status": "completed"
    },
    "tags": []
   },
   "outputs": [],
   "source": [
    "from langdetect import detect_langs\n",
    "import langdetect"
   ]
  },
  {
   "cell_type": "code",
   "execution_count": 7,
   "id": "d9450a92",
   "metadata": {
    "execution": {
     "iopub.execute_input": "2022-02-28T09:25:43.078118Z",
     "iopub.status.busy": "2022-02-28T09:25:43.077083Z",
     "iopub.status.idle": "2022-02-28T09:25:43.080850Z",
     "shell.execute_reply": "2022-02-28T09:25:43.081393Z",
     "shell.execute_reply.started": "2022-02-28T09:21:11.464445Z"
    },
    "papermill": {
     "duration": 0.066468,
     "end_time": "2022-02-28T09:25:43.081584",
     "exception": false,
     "start_time": "2022-02-28T09:25:43.015116",
     "status": "completed"
    },
    "tags": []
   },
   "outputs": [],
   "source": [
    "accuracy = []"
   ]
  },
  {
   "cell_type": "code",
   "execution_count": 8,
   "id": "67cfa637",
   "metadata": {
    "execution": {
     "iopub.execute_input": "2022-02-28T09:25:43.203144Z",
     "iopub.status.busy": "2022-02-28T09:25:43.202098Z",
     "iopub.status.idle": "2022-02-28T09:25:43.829541Z",
     "shell.execute_reply": "2022-02-28T09:25:43.830334Z",
     "shell.execute_reply.started": "2022-02-28T09:21:11.470117Z"
    },
    "papermill": {
     "duration": 0.69104,
     "end_time": "2022-02-28T09:25:43.830572",
     "exception": false,
     "start_time": "2022-02-28T09:25:43.139532",
     "status": "completed"
    },
    "tags": []
   },
   "outputs": [
    {
     "name": "stdout",
     "output_type": "stream",
     "text": [
      "[en:0.9999961873644766]\n",
      "[fr:0.9999970048888653]\n",
      "[es:0.9999969198031681]\n",
      "[it:0.9999985871728144]\n",
      "[zh-cn:0.9999964027097562]\n",
      "[ja:0.999999693685353]\n",
      "[de:0.9999987807339703]\n",
      "[sv:0.9999985503050657]\n",
      "[sv:0.9999962963156952]\n",
      "[nl:0.9999983639322885]\n"
     ]
    }
   ],
   "source": [
    "for text in texts :\n",
    "    print(detect_langs(text))\n",
    "    # accuracy.append(detect_langs(text))"
   ]
  },
  {
   "cell_type": "code",
   "execution_count": null,
   "id": "cc9f3a4f",
   "metadata": {
    "papermill": {
     "duration": 0.058901,
     "end_time": "2022-02-28T09:25:43.949930",
     "exception": false,
     "start_time": "2022-02-28T09:25:43.891029",
     "status": "completed"
    },
    "tags": []
   },
   "outputs": [],
   "source": []
  },
  {
   "cell_type": "markdown",
   "id": "65f01ece",
   "metadata": {
    "papermill": {
     "duration": 0.05872,
     "end_time": "2022-02-28T09:25:44.068189",
     "exception": false,
     "start_time": "2022-02-28T09:25:44.009469",
     "status": "completed"
    },
    "tags": []
   },
   "source": [
    "## **langid**"
   ]
  },
  {
   "cell_type": "code",
   "execution_count": 9,
   "id": "07911aef",
   "metadata": {
    "execution": {
     "iopub.execute_input": "2022-02-28T09:25:44.189044Z",
     "iopub.status.busy": "2022-02-28T09:25:44.188294Z",
     "iopub.status.idle": "2022-02-28T09:25:47.238970Z",
     "shell.execute_reply": "2022-02-28T09:25:47.238356Z",
     "shell.execute_reply.started": "2022-02-28T09:21:11.992697Z"
    },
    "papermill": {
     "duration": 3.112184,
     "end_time": "2022-02-28T09:25:47.239116",
     "exception": false,
     "start_time": "2022-02-28T09:25:44.126932",
     "status": "completed"
    },
    "tags": []
   },
   "outputs": [],
   "source": [
    "from langid.langid import LanguageIdentifier, model\n",
    "identifier = LanguageIdentifier.from_modelstring(model, norm_probs=True)"
   ]
  },
  {
   "cell_type": "code",
   "execution_count": 10,
   "id": "dc80110d",
   "metadata": {
    "execution": {
     "iopub.execute_input": "2022-02-28T09:25:47.362408Z",
     "iopub.status.busy": "2022-02-28T09:25:47.360245Z",
     "iopub.status.idle": "2022-02-28T09:25:47.397787Z",
     "shell.execute_reply": "2022-02-28T09:25:47.398901Z",
     "shell.execute_reply.started": "2022-02-28T09:21:14.563692Z"
    },
    "papermill": {
     "duration": 0.100741,
     "end_time": "2022-02-28T09:25:47.399213",
     "exception": false,
     "start_time": "2022-02-28T09:25:47.298472",
     "status": "completed"
    },
    "tags": []
   },
   "outputs": [
    {
     "name": "stdout",
     "output_type": "stream",
     "text": [
      "('en', 0.9999999958233259)\n",
      "('fr', 0.9999999975825273)\n",
      "('es', 0.7067285616921579)\n",
      "('it', 1.0)\n",
      "('zh', 0.9999999999929539)\n",
      "('ja', 1.0)\n",
      "('de', 1.0)\n",
      "('sv', 0.9999999999996949)\n",
      "('sv', 0.9999999999996021)\n",
      "('nl', 0.9999999999997848)\n"
     ]
    }
   ],
   "source": [
    "for text in texts:\n",
    "    print(identifier.classify(text))"
   ]
  },
  {
   "cell_type": "code",
   "execution_count": null,
   "id": "9bc9dc03",
   "metadata": {
    "papermill": {
     "duration": 0.059611,
     "end_time": "2022-02-28T09:25:47.569935",
     "exception": false,
     "start_time": "2022-02-28T09:25:47.510324",
     "status": "completed"
    },
    "tags": []
   },
   "outputs": [],
   "source": []
  },
  {
   "cell_type": "markdown",
   "id": "c22aa275",
   "metadata": {
    "papermill": {
     "duration": 0.058469,
     "end_time": "2022-02-28T09:25:47.687086",
     "exception": false,
     "start_time": "2022-02-28T09:25:47.628617",
     "status": "completed"
    },
    "tags": []
   },
   "source": [
    "## **Fasttext**"
   ]
  },
  {
   "cell_type": "code",
   "execution_count": 11,
   "id": "3ed1195e",
   "metadata": {
    "execution": {
     "iopub.execute_input": "2022-02-28T09:25:47.810230Z",
     "iopub.status.busy": "2022-02-28T09:25:47.807482Z",
     "iopub.status.idle": "2022-02-28T09:25:50.106058Z",
     "shell.execute_reply": "2022-02-28T09:25:50.105000Z",
     "shell.execute_reply.started": "2022-02-28T09:21:14.601365Z"
    },
    "papermill": {
     "duration": 2.360373,
     "end_time": "2022-02-28T09:25:50.106254",
     "exception": false,
     "start_time": "2022-02-28T09:25:47.745881",
     "status": "completed"
    },
    "tags": []
   },
   "outputs": [
    {
     "name": "stdout",
     "output_type": "stream",
     "text": [
      "--2022-02-28 09:25:48--  https://dl.fbaipublicfiles.com/fasttext/supervised-models/lid.176.bin\r\n",
      "Resolving dl.fbaipublicfiles.com (dl.fbaipublicfiles.com)... 104.22.75.142, 172.67.9.4, 104.22.74.142, ...\r\n",
      "Connecting to dl.fbaipublicfiles.com (dl.fbaipublicfiles.com)|104.22.75.142|:443... connected.\r\n",
      "HTTP request sent, awaiting response... 200 OK\r\n",
      "Length: 131266198 (125M) [application/octet-stream]\r\n",
      "Saving to: ‘/tmp/lid.176.bin’\r\n",
      "\r\n",
      "/tmp/lid.176.bin    100%[===================>] 125.18M  98.0MB/s    in 1.3s    \r\n",
      "\r\n",
      "2022-02-28 09:25:49 (98.0 MB/s) - ‘/tmp/lid.176.bin’ saved [131266198/131266198]\r\n",
      "\r\n"
     ]
    }
   ],
   "source": [
    "!wget -O /tmp/lid.176.bin https://dl.fbaipublicfiles.com/fasttext/supervised-models/lid.176.bin"
   ]
  },
  {
   "cell_type": "code",
   "execution_count": 12,
   "id": "2f96f28b",
   "metadata": {
    "execution": {
     "iopub.execute_input": "2022-02-28T09:25:50.237925Z",
     "iopub.status.busy": "2022-02-28T09:25:50.236875Z",
     "iopub.status.idle": "2022-02-28T09:25:50.444948Z",
     "shell.execute_reply": "2022-02-28T09:25:50.445475Z",
     "shell.execute_reply.started": "2022-02-28T09:21:17.188716Z"
    },
    "papermill": {
     "duration": 0.275265,
     "end_time": "2022-02-28T09:25:50.445664",
     "exception": false,
     "start_time": "2022-02-28T09:25:50.170399",
     "status": "completed"
    },
    "tags": []
   },
   "outputs": [
    {
     "name": "stderr",
     "output_type": "stream",
     "text": [
      "Warning : `load_model` does not return WordVectorModel or SupervisedModel any more, but a `FastText` object which is very similar.\n"
     ]
    }
   ],
   "source": [
    "import fasttext\n",
    "\n",
    "PRETRAINED_MODEL_PATH = '/tmp/lid.176.bin'\n",
    "model = fasttext.load_model(PRETRAINED_MODEL_PATH)"
   ]
  },
  {
   "cell_type": "code",
   "execution_count": 13,
   "id": "30111018",
   "metadata": {
    "execution": {
     "iopub.execute_input": "2022-02-28T09:25:50.582374Z",
     "iopub.status.busy": "2022-02-28T09:25:50.581359Z",
     "iopub.status.idle": "2022-02-28T09:25:50.587084Z",
     "shell.execute_reply": "2022-02-28T09:25:50.585874Z",
     "shell.execute_reply.started": "2022-02-28T09:21:17.384236Z"
    },
    "papermill": {
     "duration": 0.076931,
     "end_time": "2022-02-28T09:25:50.587373",
     "exception": false,
     "start_time": "2022-02-28T09:25:50.510442",
     "status": "completed"
    },
    "tags": []
   },
   "outputs": [
    {
     "name": "stdout",
     "output_type": "stream",
     "text": [
      "(('__label__en',), array([0.98926002]))\n",
      "(('__label__fr',), array([0.99990958]))\n",
      "(('__label__es',), array([0.97720885]))\n",
      "(('__label__it',), array([1.00002849]))\n",
      "(('__label__zh',), array([1.0000397]))\n",
      "(('__label__ja',), array([1.00000489]))\n",
      "(('__label__de',), array([0.9999488]))\n",
      "(('__label__sv',), array([0.99980599]))\n",
      "(('__label__sv',), array([0.9998917]))\n",
      "(('__label__nl',), array([0.9972297]))\n"
     ]
    }
   ],
   "source": [
    "for text in texts:\n",
    "    prediction = model.predict(text)\n",
    "    print(prediction)"
   ]
  },
  {
   "cell_type": "code",
   "execution_count": null,
   "id": "200c7733",
   "metadata": {
    "papermill": {
     "duration": 0.063735,
     "end_time": "2022-02-28T09:25:50.716483",
     "exception": false,
     "start_time": "2022-02-28T09:25:50.652748",
     "status": "completed"
    },
    "tags": []
   },
   "outputs": [],
   "source": []
  },
  {
   "cell_type": "markdown",
   "id": "f68459b9",
   "metadata": {
    "papermill": {
     "duration": 0.063548,
     "end_time": "2022-02-28T09:25:50.844467",
     "exception": false,
     "start_time": "2022-02-28T09:25:50.780919",
     "status": "completed"
    },
    "tags": []
   },
   "source": [
    "## **cld3**"
   ]
  },
  {
   "cell_type": "code",
   "execution_count": 14,
   "id": "b907c55d",
   "metadata": {
    "execution": {
     "iopub.execute_input": "2022-02-28T09:25:50.977403Z",
     "iopub.status.busy": "2022-02-28T09:25:50.976672Z",
     "iopub.status.idle": "2022-02-28T09:25:50.983065Z",
     "shell.execute_reply": "2022-02-28T09:25:50.983587Z",
     "shell.execute_reply.started": "2022-02-28T09:21:17.394594Z"
    },
    "papermill": {
     "duration": 0.075698,
     "end_time": "2022-02-28T09:25:50.983776",
     "exception": false,
     "start_time": "2022-02-28T09:25:50.908078",
     "status": "completed"
    },
    "tags": []
   },
   "outputs": [],
   "source": [
    "import cld3"
   ]
  },
  {
   "cell_type": "code",
   "execution_count": 15,
   "id": "2699c540",
   "metadata": {
    "execution": {
     "iopub.execute_input": "2022-02-28T09:25:51.114394Z",
     "iopub.status.busy": "2022-02-28T09:25:51.113733Z",
     "iopub.status.idle": "2022-02-28T09:25:51.121219Z",
     "shell.execute_reply": "2022-02-28T09:25:51.121688Z",
     "shell.execute_reply.started": "2022-02-28T09:21:17.406954Z"
    },
    "papermill": {
     "duration": 0.074155,
     "end_time": "2022-02-28T09:25:51.121869",
     "exception": false,
     "start_time": "2022-02-28T09:25:51.047714",
     "status": "completed"
    },
    "tags": []
   },
   "outputs": [
    {
     "name": "stdout",
     "output_type": "stream",
     "text": [
      "LanguagePrediction(language='en', probability=0.9996357560157776, is_reliable=True, proportion=1.0)\n",
      "LanguagePrediction(language='fr', probability=0.9999961853027344, is_reliable=True, proportion=1.0)\n",
      "LanguagePrediction(language='gl', probability=0.974843442440033, is_reliable=True, proportion=1.0)\n",
      "LanguagePrediction(language='it', probability=1.0, is_reliable=True, proportion=1.0)\n",
      "LanguagePrediction(language='zh', probability=0.9999504089355469, is_reliable=True, proportion=1.0)\n",
      "LanguagePrediction(language='ja', probability=1.0, is_reliable=True, proportion=1.0)\n",
      "LanguagePrediction(language='de', probability=0.9998397827148438, is_reliable=True, proportion=1.0)\n",
      "LanguagePrediction(language='sv', probability=1.0, is_reliable=True, proportion=1.0)\n",
      "LanguagePrediction(language='sv', probability=1.0, is_reliable=True, proportion=1.0)\n",
      "LanguagePrediction(language='nl', probability=0.9999980926513672, is_reliable=True, proportion=1.0)\n"
     ]
    }
   ],
   "source": [
    "for text in texts :\n",
    "    print(cld3.get_language(text))"
   ]
  },
  {
   "cell_type": "code",
   "execution_count": null,
   "id": "83485886",
   "metadata": {
    "papermill": {
     "duration": 0.063632,
     "end_time": "2022-02-28T09:25:51.249572",
     "exception": false,
     "start_time": "2022-02-28T09:25:51.185940",
     "status": "completed"
    },
    "tags": []
   },
   "outputs": [],
   "source": []
  },
  {
   "cell_type": "markdown",
   "id": "906317a7",
   "metadata": {
    "papermill": {
     "duration": 0.063694,
     "end_time": "2022-02-28T09:25:51.377619",
     "exception": false,
     "start_time": "2022-02-28T09:25:51.313925",
     "status": "completed"
    },
    "tags": []
   },
   "source": [
    "# **Performance**"
   ]
  },
  {
   "cell_type": "code",
   "execution_count": 16,
   "id": "a800ff1c",
   "metadata": {
    "execution": {
     "iopub.execute_input": "2022-02-28T09:25:51.542855Z",
     "iopub.status.busy": "2022-02-28T09:25:51.542128Z",
     "iopub.status.idle": "2022-02-28T09:25:51.547525Z",
     "shell.execute_reply": "2022-02-28T09:25:51.548099Z",
     "shell.execute_reply.started": "2022-02-28T09:21:17.420335Z"
    },
    "papermill": {
     "duration": 0.091665,
     "end_time": "2022-02-28T09:25:51.548326",
     "exception": false,
     "start_time": "2022-02-28T09:25:51.456661",
     "status": "completed"
    },
    "tags": []
   },
   "outputs": [],
   "source": [
    "X = ['langdetect', 'langid', 'fasttext', 'cld3']\n",
    "times = []\n",
    "cpu = []\n",
    "memory = []"
   ]
  },
  {
   "cell_type": "code",
   "execution_count": 17,
   "id": "282ffe40",
   "metadata": {
    "execution": {
     "iopub.execute_input": "2022-02-28T09:25:51.698826Z",
     "iopub.status.busy": "2022-02-28T09:25:51.698105Z",
     "iopub.status.idle": "2022-02-28T09:25:51.702399Z",
     "shell.execute_reply": "2022-02-28T09:25:51.703023Z",
     "shell.execute_reply.started": "2022-02-28T09:21:17.427959Z"
    },
    "papermill": {
     "duration": 0.072125,
     "end_time": "2022-02-28T09:25:51.703274",
     "exception": false,
     "start_time": "2022-02-28T09:25:51.631149",
     "status": "completed"
    },
    "tags": []
   },
   "outputs": [],
   "source": [
    "from __future__ import print_function\n",
    "import time\n",
    "import psutil\n",
    "import os"
   ]
  },
  {
   "cell_type": "markdown",
   "id": "7090885b",
   "metadata": {
    "papermill": {
     "duration": 0.064144,
     "end_time": "2022-02-28T09:25:51.832246",
     "exception": false,
     "start_time": "2022-02-28T09:25:51.768102",
     "status": "completed"
    },
    "tags": []
   },
   "source": [
    "## **Langdetect**"
   ]
  },
  {
   "cell_type": "code",
   "execution_count": 18,
   "id": "c6594811",
   "metadata": {
    "execution": {
     "iopub.execute_input": "2022-02-28T09:25:51.969350Z",
     "iopub.status.busy": "2022-02-28T09:25:51.968343Z",
     "iopub.status.idle": "2022-02-28T09:25:52.016527Z",
     "shell.execute_reply": "2022-02-28T09:25:52.015950Z",
     "shell.execute_reply.started": "2022-02-28T09:21:17.439466Z"
    },
    "papermill": {
     "duration": 0.119352,
     "end_time": "2022-02-28T09:25:52.016677",
     "exception": false,
     "start_time": "2022-02-28T09:25:51.897325",
     "status": "completed"
    },
    "tags": []
   },
   "outputs": [
    {
     "name": "stdout",
     "output_type": "stream",
     "text": [
      "[en:0.9999953850344157]\n",
      "[fr:0.9999964034284173]\n",
      "[es:0.9999966955598549]\n",
      "[it:0.9999975513447261]\n",
      "[zh-cn:0.9999985838979728]\n",
      "[ja:0.9999976907153167]\n",
      "[de:0.9999981841571034]\n",
      "[sv:0.9999993265925372]\n",
      "[sv:0.999996821502196]\n",
      "[nl:0.9999972494047913]\n"
     ]
    }
   ],
   "source": [
    "start = time.time()\n",
    "\n",
    "for text in texts :\n",
    "    print(detect_langs(text))\n",
    "    \n",
    "end = time.time()\n",
    "times.append(end-start)\n",
    "cpu.append(psutil.cpu_percent())\n",
    "pid = os.getpid()\n",
    "py = psutil.Process(pid)\n",
    "memory.append(py.memory_info()[0]/2.**30) #  physical memory usage"
   ]
  },
  {
   "cell_type": "markdown",
   "id": "68775025",
   "metadata": {
    "papermill": {
     "duration": 0.06361,
     "end_time": "2022-02-28T09:25:52.146653",
     "exception": false,
     "start_time": "2022-02-28T09:25:52.083043",
     "status": "completed"
    },
    "tags": []
   },
   "source": [
    "## **Langid**"
   ]
  },
  {
   "cell_type": "code",
   "execution_count": 19,
   "id": "6b5ce492",
   "metadata": {
    "execution": {
     "iopub.execute_input": "2022-02-28T09:25:52.278692Z",
     "iopub.status.busy": "2022-02-28T09:25:52.278023Z",
     "iopub.status.idle": "2022-02-28T09:25:52.318839Z",
     "shell.execute_reply": "2022-02-28T09:25:52.320578Z",
     "shell.execute_reply.started": "2022-02-28T09:21:17.493168Z"
    },
    "papermill": {
     "duration": 0.110226,
     "end_time": "2022-02-28T09:25:52.321217",
     "exception": false,
     "start_time": "2022-02-28T09:25:52.210991",
     "status": "completed"
    },
    "tags": []
   },
   "outputs": [
    {
     "name": "stdout",
     "output_type": "stream",
     "text": [
      "('en', 0.9999999958233259)\n",
      "('fr', 0.9999999975825273)\n",
      "('es', 0.7067285616921579)\n",
      "('it', 1.0)\n",
      "('zh', 0.9999999999929539)\n",
      "('ja', 1.0)\n",
      "('de', 1.0)\n",
      "('sv', 0.9999999999996949)\n",
      "('sv', 0.9999999999996021)\n",
      "('nl', 0.9999999999997848)\n"
     ]
    }
   ],
   "source": [
    "start = time.time()\n",
    "\n",
    "for text in texts:\n",
    "    print(identifier.classify(text))\n",
    "    \n",
    "end = time.time()\n",
    "times.append(end-start)\n",
    "cpu.append(psutil.cpu_percent())\n",
    "pid = os.getpid()\n",
    "py = psutil.Process(pid)\n",
    "memory.append(py.memory_info()[0]/2.**30) #  physical memory usage"
   ]
  },
  {
   "cell_type": "markdown",
   "id": "8b410346",
   "metadata": {
    "papermill": {
     "duration": 0.092101,
     "end_time": "2022-02-28T09:25:52.531668",
     "exception": false,
     "start_time": "2022-02-28T09:25:52.439567",
     "status": "completed"
    },
    "tags": []
   },
   "source": [
    "## **Fasttext**"
   ]
  },
  {
   "cell_type": "code",
   "execution_count": 20,
   "id": "283a767b",
   "metadata": {
    "execution": {
     "iopub.execute_input": "2022-02-28T09:25:52.708598Z",
     "iopub.status.busy": "2022-02-28T09:25:52.707477Z",
     "iopub.status.idle": "2022-02-28T09:25:52.714672Z",
     "shell.execute_reply": "2022-02-28T09:25:52.715475Z",
     "shell.execute_reply.started": "2022-02-28T09:21:17.551047Z"
    },
    "papermill": {
     "duration": 0.080635,
     "end_time": "2022-02-28T09:25:52.715713",
     "exception": false,
     "start_time": "2022-02-28T09:25:52.635078",
     "status": "completed"
    },
    "tags": []
   },
   "outputs": [
    {
     "name": "stdout",
     "output_type": "stream",
     "text": [
      "(('__label__en',), array([0.98926002]))\n",
      "(('__label__fr',), array([0.99990958]))\n",
      "(('__label__es',), array([0.97720885]))\n",
      "(('__label__it',), array([1.00002849]))\n",
      "(('__label__zh',), array([1.0000397]))\n",
      "(('__label__ja',), array([1.00000489]))\n",
      "(('__label__de',), array([0.9999488]))\n",
      "(('__label__sv',), array([0.99980599]))\n",
      "(('__label__sv',), array([0.9998917]))\n",
      "(('__label__nl',), array([0.9972297]))\n"
     ]
    }
   ],
   "source": [
    "start = time.time()\n",
    "\n",
    "for text in texts:\n",
    "    prediction = model.predict(text)\n",
    "    print(prediction)\n",
    "    \n",
    "end = time.time()\n",
    "times.append(end-start)\n",
    "cpu.append(psutil.cpu_percent())\n",
    "pid = os.getpid()\n",
    "py = psutil.Process(pid)\n",
    "memory.append(py.memory_info()[0]/2.**30) #  physical memory usage"
   ]
  },
  {
   "cell_type": "markdown",
   "id": "7b589341",
   "metadata": {
    "papermill": {
     "duration": 0.082492,
     "end_time": "2022-02-28T09:25:52.864682",
     "exception": false,
     "start_time": "2022-02-28T09:25:52.782190",
     "status": "completed"
    },
    "tags": []
   },
   "source": [
    "## **CLD3**"
   ]
  },
  {
   "cell_type": "code",
   "execution_count": 21,
   "id": "bfff438f",
   "metadata": {
    "execution": {
     "iopub.execute_input": "2022-02-28T09:25:53.010556Z",
     "iopub.status.busy": "2022-02-28T09:25:53.009528Z",
     "iopub.status.idle": "2022-02-28T09:25:53.020854Z",
     "shell.execute_reply": "2022-02-28T09:25:53.021754Z",
     "shell.execute_reply.started": "2022-02-28T09:21:17.569895Z"
    },
    "papermill": {
     "duration": 0.081128,
     "end_time": "2022-02-28T09:25:53.021990",
     "exception": false,
     "start_time": "2022-02-28T09:25:52.940862",
     "status": "completed"
    },
    "tags": []
   },
   "outputs": [
    {
     "name": "stdout",
     "output_type": "stream",
     "text": [
      "LanguagePrediction(language='en', probability=0.9996357560157776, is_reliable=True, proportion=1.0)\n",
      "LanguagePrediction(language='fr', probability=0.9999961853027344, is_reliable=True, proportion=1.0)\n",
      "LanguagePrediction(language='gl', probability=0.974843442440033, is_reliable=True, proportion=1.0)\n",
      "LanguagePrediction(language='it', probability=1.0, is_reliable=True, proportion=1.0)\n",
      "LanguagePrediction(language='zh', probability=0.9999504089355469, is_reliable=True, proportion=1.0)\n",
      "LanguagePrediction(language='ja', probability=1.0, is_reliable=True, proportion=1.0)\n",
      "LanguagePrediction(language='de', probability=0.9998397827148438, is_reliable=True, proportion=1.0)\n",
      "LanguagePrediction(language='sv', probability=1.0, is_reliable=True, proportion=1.0)\n",
      "LanguagePrediction(language='sv', probability=1.0, is_reliable=True, proportion=1.0)\n",
      "LanguagePrediction(language='nl', probability=0.9999980926513672, is_reliable=True, proportion=1.0)\n"
     ]
    }
   ],
   "source": [
    "start = time.time()\n",
    "\n",
    "for text in texts :\n",
    "    print(cld3.get_language(text))\n",
    "    \n",
    "end = time.time()\n",
    "times.append(end-start)\n",
    "cpu.append(psutil.cpu_percent())\n",
    "pid = os.getpid()\n",
    "py = psutil.Process(pid)\n",
    "memory.append(py.memory_info()[0]/2.**30) #  physical memory usage"
   ]
  },
  {
   "cell_type": "markdown",
   "id": "eed33280",
   "metadata": {
    "papermill": {
     "duration": 0.066264,
     "end_time": "2022-02-28T09:25:53.155543",
     "exception": false,
     "start_time": "2022-02-28T09:25:53.089279",
     "status": "completed"
    },
    "tags": []
   },
   "source": [
    "## **Visualisation**"
   ]
  },
  {
   "cell_type": "code",
   "execution_count": 22,
   "id": "7d0d5af7",
   "metadata": {
    "execution": {
     "iopub.execute_input": "2022-02-28T09:25:53.292647Z",
     "iopub.status.busy": "2022-02-28T09:25:53.291942Z",
     "iopub.status.idle": "2022-02-28T09:25:53.295291Z",
     "shell.execute_reply": "2022-02-28T09:25:53.295835Z",
     "shell.execute_reply.started": "2022-02-28T09:21:17.587502Z"
    },
    "papermill": {
     "duration": 0.073043,
     "end_time": "2022-02-28T09:25:53.296011",
     "exception": false,
     "start_time": "2022-02-28T09:25:53.222968",
     "status": "completed"
    },
    "tags": []
   },
   "outputs": [],
   "source": [
    "import matplotlib.pyplot as plt\n",
    "import pandas as pd"
   ]
  },
  {
   "cell_type": "code",
   "execution_count": 23,
   "id": "cad6c84e",
   "metadata": {
    "execution": {
     "iopub.execute_input": "2022-02-28T09:25:53.432179Z",
     "iopub.status.busy": "2022-02-28T09:25:53.431466Z",
     "iopub.status.idle": "2022-02-28T09:25:53.703236Z",
     "shell.execute_reply": "2022-02-28T09:25:53.702132Z",
     "shell.execute_reply.started": "2022-02-28T09:21:17.594590Z"
    },
    "papermill": {
     "duration": 0.340378,
     "end_time": "2022-02-28T09:25:53.703412",
     "exception": false,
     "start_time": "2022-02-28T09:25:53.363034",
     "status": "completed"
    },
    "tags": []
   },
   "outputs": [
    {
     "name": "stdout",
     "output_type": "stream",
     "text": [
      "['langdetect', 'langid', 'fasttext', 'cld3']\n",
      "[0.04433917999267578, 0.030298471450805664, 0.005546092987060547, 0.0036208629608154297]\n",
      "[25.1, 31.9, 44.7, 37.2]\n",
      "[0.41825103759765625, 0.4226799011230469, 0.4226799011230469, 0.4226799011230469]\n"
     ]
    },
    {
     "data": {
      "text/plain": [
       "<Figure size 1080x576 with 0 Axes>"
      ]
     },
     "metadata": {},
     "output_type": "display_data"
    },
    {
     "data": {
      "image/png": "[encoded data removed]",
      "text/plain": [
       "<Figure size 432x288 with 1 Axes>"
      ]
     },
     "metadata": {},
     "output_type": "display_data"
    }
   ],
   "source": [
    "plt.style.use('fivethirtyeight')\n",
    "fig = plt.figure(figsize = (15, 8))\n",
    "\n",
    "model_comparison = pd.DataFrame({'model': X,'time': times, 'cpu': cpu, 'memory': memory})\n",
    "model_comparison.sort_values('time', ascending = False).plot(x = 'model', y = ['time', 'cpu', 'memory'], kind = 'barh', color = 'rgb', edgecolor = 'black')\n",
    "\n",
    "plt.ylabel('')\n",
    "plt.yticks(size = 10)\n",
    "plt.xlabel('')\n",
    "plt.xticks(size = 10)\n",
    "plt.title('Comparaison des solutions', size=20)\n",
    "print(X)\n",
    "print(times)\n",
    "print(cpu)\n",
    "print(memory)"
   ]
  },
  {
   "cell_type": "code",
   "execution_count": 24,
   "id": "6732b457",
   "metadata": {
    "execution": {
     "iopub.execute_input": "2022-02-28T09:25:53.847118Z",
     "iopub.status.busy": "2022-02-28T09:25:53.846085Z",
     "iopub.status.idle": "2022-02-28T09:25:54.060300Z",
     "shell.execute_reply": "2022-02-28T09:25:54.060818Z",
     "shell.execute_reply.started": "2022-02-28T09:21:17.872869Z"
    },
    "papermill": {
     "duration": 0.286858,
     "end_time": "2022-02-28T09:25:54.061006",
     "exception": false,
     "start_time": "2022-02-28T09:25:53.774148",
     "status": "completed"
    },
    "tags": []
   },
   "outputs": [
    {
     "name": "stdout",
     "output_type": "stream",
     "text": [
      "['langdetect', 'langid', 'fasttext', 'cld3']\n",
      "[0.04433917999267578, 0.030298471450805664, 0.005546092987060547, 0.0036208629608154297]\n"
     ]
    },
    {
     "data": {
      "text/plain": [
       "<Figure size 1080x576 with 0 Axes>"
      ]
     },
     "metadata": {},
     "output_type": "display_data"
    },
    {
     "data": {
      "image/png": "[encoded data removed]",
      "text/plain": [
       "<Figure size 432x288 with 1 Axes>"
      ]
     },
     "metadata": {},
     "output_type": "display_data"
    }
   ],
   "source": [
    "plt.style.use('fivethirtyeight')\n",
    "fig = plt.figure(figsize = (15, 8))\n",
    "\n",
    "model_comparison = pd.DataFrame({'model': X,'time': times})\n",
    "model_comparison.sort_values('time', ascending = False).plot(x = 'model', y ='time', kind = 'barh', color = 'blue', edgecolor = 'black')\n",
    "\n",
    "plt.ylabel('')\n",
    "plt.yticks(size = 10)\n",
    "plt.xlabel('Time')\n",
    "plt.xticks(size = 10)\n",
    "plt.title('Comparaison des solutions sur le temps', size=20) \n",
    "print(X)\n",
    "print(times)"
   ]
  },
  {
   "cell_type": "code",
   "execution_count": 25,
   "id": "e6c4d4e5",
   "metadata": {
    "execution": {
     "iopub.execute_input": "2022-02-28T09:25:54.204890Z",
     "iopub.status.busy": "2022-02-28T09:25:54.203860Z",
     "iopub.status.idle": "2022-02-28T09:25:54.387493Z",
     "shell.execute_reply": "2022-02-28T09:25:54.388087Z",
     "shell.execute_reply.started": "2022-02-28T09:21:18.099253Z"
    },
    "papermill": {
     "duration": 0.257157,
     "end_time": "2022-02-28T09:25:54.388292",
     "exception": false,
     "start_time": "2022-02-28T09:25:54.131135",
     "status": "completed"
    },
    "tags": []
   },
   "outputs": [
    {
     "name": "stdout",
     "output_type": "stream",
     "text": [
      "['langdetect', 'langid', 'fasttext', 'cld3']\n",
      "[0.41825103759765625, 0.4226799011230469, 0.4226799011230469, 0.4226799011230469]\n"
     ]
    },
    {
     "data": {
      "text/plain": [
       "<Figure size 1080x576 with 0 Axes>"
      ]
     },
     "metadata": {},
     "output_type": "display_data"
    },
    {
     "data": {
      "image/png": "[encoded data removed]",
      "text/plain": [
       "<Figure size 432x288 with 1 Axes>"
      ]
     },
     "metadata": {},
     "output_type": "display_data"
    }
   ],
   "source": [
    "plt.style.use('fivethirtyeight')\n",
    "fig = plt.figure(figsize = (15, 8))\n",
    "\n",
    "model_comparison = pd.DataFrame({'model': X,'memory': memory})\n",
    "model_comparison.sort_values('memory', ascending = False).plot(x = 'model', y ='memory', kind = 'barh', color = 'green', edgecolor = 'black')\n",
    "\n",
    "plt.ylabel('')\n",
    "plt.yticks(size = 10)\n",
    "plt.xlabel('Memory')\n",
    "plt.xticks(size = 10)\n",
    "plt.title('Comparaison des solutions sur la mémoire', size=20)  \n",
    "print(X)\n",
    "print(memory)"
   ]
  },
  {
   "cell_type": "code",
   "execution_count": 26,
   "id": "2fba8be1",
   "metadata": {
    "execution": {
     "iopub.execute_input": "2022-02-28T09:25:54.541223Z",
     "iopub.status.busy": "2022-02-28T09:25:54.540193Z",
     "iopub.status.idle": "2022-02-28T09:25:54.722479Z",
     "shell.execute_reply": "2022-02-28T09:25:54.723017Z",
     "shell.execute_reply.started": "2022-02-28T09:21:18.328075Z"
    },
    "papermill": {
     "duration": 0.261735,
     "end_time": "2022-02-28T09:25:54.723221",
     "exception": false,
     "start_time": "2022-02-28T09:25:54.461486",
     "status": "completed"
    },
    "tags": []
   },
   "outputs": [
    {
     "name": "stdout",
     "output_type": "stream",
     "text": [
      "['langdetect', 'langid', 'fasttext', 'cld3']\n",
      "[25.1, 31.9, 44.7, 37.2]\n"
     ]
    },
    {
     "data": {
      "text/plain": [
       "<Figure size 1080x576 with 0 Axes>"
      ]
     },
     "metadata": {},
     "output_type": "display_data"
    },
    {
     "data": {
      "image/png": "[encoded data removed]",
      "text/plain": [
       "<Figure size 432x288 with 1 Axes>"
      ]
     },
     "metadata": {},
     "output_type": "display_data"
    }
   ],
   "source": [
    "plt.style.use('fivethirtyeight')\n",
    "fig = plt.figure(figsize = (15, 8))\n",
    "\n",
    "model_comparison = pd.DataFrame({'model': X,'cpu': cpu})\n",
    "model_comparison.sort_values('cpu', ascending = False).plot(x = 'model', y ='cpu', kind = 'barh', color = 'red', edgecolor = 'black')\n",
    "\n",
    "plt.ylabel('')\n",
    "plt.yticks(size = 10)\n",
    "plt.xlabel('CPU')\n",
    "plt.xticks(size = 10)\n",
    "plt.title('Comparaison des solutions sur le processeur', size=20)  \n",
    "print(X)\n",
    "print(cpu)"
   ]
  }
 ],
 "metadata": {
  "kernelspec": {
   "display_name": "Python 3",
   "language": "python",
   "name": "python3"
  },
  "language_info": {
   "codemirror_mode": {
    "name": "ipython",
    "version": 3
   },
   "file_extension": ".py",
   "mimetype": "text/x-python",
   "name": "python",
   "nbconvert_exporter": "python",
   "pygments_lexer": "ipython3",
   "version": "3.7.12"
  },
  "papermill": {
   "default_parameters": {},
   "duration": 67.07052,
   "end_time": "2022-02-28T09:25:55.708811",
   "environment_variables": {},
   "exception": null,
   "input_path": "__notebook__.ipynb",
   "output_path": "__notebook__.ipynb",
   "parameters": {},
   "start_time": "2022-02-28T09:24:48.638291",
   "version": "2.3.3"
  }
 },
 "nbformat": 4,
 "nbformat_minor": 5
}

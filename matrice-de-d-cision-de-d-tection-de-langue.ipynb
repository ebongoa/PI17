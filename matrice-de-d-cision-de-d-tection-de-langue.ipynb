{
 "cells": [
  {
   "cell_type": "code",
   "execution_count": null,
   "id": "9e7de695",
   "metadata": {
    "papermill": {
     "duration": 0.031944,
     "end_time": "2022-02-28T12:05:02.069716",
     "exception": false,
     "start_time": "2022-02-28T12:05:02.037772",
     "status": "completed"
    },
    "tags": []
   },
   "outputs": [],
   "source": []
  },
  {
   "cell_type": "code",
   "execution_count": 1,
   "id": "0cf49daf",
   "metadata": {
    "execution": {
     "iopub.execute_input": "2022-02-28T12:05:02.151644Z",
     "iopub.status.busy": "2022-02-28T12:05:02.139073Z",
     "iopub.status.idle": "2022-02-28T12:05:34.617727Z",
     "shell.execute_reply": "2022-02-28T12:05:34.616973Z",
     "shell.execute_reply.started": "2022-02-28T12:03:40.651940Z"
    },
    "papermill": {
     "duration": 32.516549,
     "end_time": "2022-02-28T12:05:34.617881",
     "exception": false,
     "start_time": "2022-02-28T12:05:02.101332",
     "status": "completed"
    },
    "tags": []
   },
   "outputs": [
    {
     "name": "stdout",
     "output_type": "stream",
     "text": [
      "Requirement already satisfied: fasttext in /opt/conda/lib/python3.7/site-packages (0.9.2)\r\n",
      "Requirement already satisfied: setuptools>=0.7.0 in /opt/conda/lib/python3.7/site-packages (from fasttext) (59.5.0)\r\n",
      "Requirement already satisfied: numpy in /opt/conda/lib/python3.7/site-packages (from fasttext) (1.20.3)\r\n",
      "Requirement already satisfied: pybind11>=2.2 in /opt/conda/lib/python3.7/site-packages (from fasttext) (2.9.1)\r\n",
      "\u001b[33mWARNING: Running pip as the 'root' user can result in broken permissions and conflicting behaviour with the system package manager. It is recommended to use a virtual environment instead: https://pip.pypa.io/warnings/venv\u001b[0m\r\n",
      "Collecting langdetect\r\n",
      "  Downloading langdetect-1.0.9.tar.gz (981 kB)\r\n",
      "     |████████████████████████████████| 981 kB 4.9 MB/s            \r\n",
      "\u001b[?25h  Preparing metadata (setup.py) ... \u001b[?25l-\b \bdone\r\n",
      "\u001b[?25hRequirement already satisfied: six in /opt/conda/lib/python3.7/site-packages (from langdetect) (1.16.0)\r\n",
      "Building wheels for collected packages: langdetect\r\n",
      "  Building wheel for langdetect (setup.py) ... \u001b[?25l-\b \b\\\b \b|\b \b/\b \bdone\r\n",
      "\u001b[?25h  Created wheel for langdetect: filename=langdetect-1.0.9-py3-none-any.whl size=993242 sha256=52bb128d784c2c4500364decf25a3e294e83f7ec103431666c73b4690a81787c\r\n",
      "  Stored in directory: /root/.cache/pip/wheels/c5/96/8a/f90c59ed25d75e50a8c10a1b1c2d4c402e4dacfa87f3aff36a\r\n",
      "Successfully built langdetect\r\n",
      "Installing collected packages: langdetect\r\n",
      "Successfully installed langdetect-1.0.9\r\n",
      "\u001b[33mWARNING: Running pip as the 'root' user can result in broken permissions and conflicting behaviour with the system package manager. It is recommended to use a virtual environment instead: https://pip.pypa.io/warnings/venv\u001b[0m\r\n",
      "Requirement already satisfied: langid in /opt/conda/lib/python3.7/site-packages (1.1.6)\r\n",
      "Requirement already satisfied: numpy in /opt/conda/lib/python3.7/site-packages (from langid) (1.20.3)\r\n",
      "\u001b[33mWARNING: Running pip as the 'root' user can result in broken permissions and conflicting behaviour with the system package manager. It is recommended to use a virtual environment instead: https://pip.pypa.io/warnings/venv\u001b[0m\r\n",
      "Collecting pycld3\r\n",
      "  Downloading pycld3-0.22-cp37-cp37m-manylinux1_x86_64.whl (13.6 MB)\r\n",
      "     |████████████████████████████████| 13.6 MB 3.0 MB/s            \r\n",
      "\u001b[?25hInstalling collected packages: pycld3\r\n",
      "Successfully installed pycld3-0.22\r\n",
      "\u001b[33mWARNING: Running pip as the 'root' user can result in broken permissions and conflicting behaviour with the system package manager. It is recommended to use a virtual environment instead: https://pip.pypa.io/warnings/venv\u001b[0m\r\n"
     ]
    }
   ],
   "source": [
    "!pip install fasttext\n",
    "!pip install langdetect\n",
    "!pip install langid\n",
    "!pip install pycld3"
   ]
  },
  {
   "cell_type": "code",
   "execution_count": null,
   "id": "a2c7f0ca",
   "metadata": {
    "papermill": {
     "duration": 0.064016,
     "end_time": "2022-02-28T12:05:34.748858",
     "exception": false,
     "start_time": "2022-02-28T12:05:34.684842",
     "status": "completed"
    },
    "tags": []
   },
   "outputs": [],
   "source": []
  },
  {
   "cell_type": "markdown",
   "id": "1e2e9e19",
   "metadata": {
    "papermill": {
     "duration": 0.063425,
     "end_time": "2022-02-28T12:05:34.876331",
     "exception": false,
     "start_time": "2022-02-28T12:05:34.812906",
     "status": "completed"
    },
    "tags": []
   },
   "source": [
    "# **Langues supportées**"
   ]
  },
  {
   "cell_type": "markdown",
   "id": "31e44c3a",
   "metadata": {
    "papermill": {
     "duration": 0.064935,
     "end_time": "2022-02-28T12:05:35.005117",
     "exception": false,
     "start_time": "2022-02-28T12:05:34.940182",
     "status": "completed"
    },
    "tags": []
   },
   "source": [
    "* **langdetect** supports 55 languages out of the box (ISO 639-1 codes) : af, ar, bg, bn, ca, cs, cy, da, de, el, en, es, et, fa, fi, fr, gu, he, hi, hr, hu, id, it, ja, kn, ko, lt, lv, mk, ml, mr, ne, nl, no, pa, pl, pt, ro, ru, sk, sl, so, sq, sv, sw, ta, te, th, tl, tr, uk, ur, vi, zh-cn, zh-tw\n",
    "* **langid** comes pre-trained on 97 languages (ISO 639-1 codes given) : af, am, an, ar, as, az, be, bg, bn, br, bs, ca, cs, cy, da, de, dz, el, en, eo, es, et, eu, fa, fi, fo, fr, ga, gl, gu, he, hi, hr, ht, hu, hy, id, is, it, ja, jv, ka, kk, km, kn, ko, ku, ky, la, lb, lo, lt, lv, mg, mk, ml, mn, mr, ms, mt, nb, ne, nl, nn, no, oc, or, pa, pl, ps, pt, qu, ro, ru, rw, se, si, sk, sl, sq, sr, sv, sw, ta, te, th, tl, tr, ug, uk, ur, vi, vo, wa, xh, zh, zu\n",
    "* **fasttext** renvoie le code ISO de la langue la plus probable parmi les 170 langues : af als am an ar arz as ast av az azb ba bar bcl be bg bh bn bo bpy br bs bxr ca cbk ce ceb ckb co cs cv cy da de diq dsb dty dv el eml en eo es et eu fa fi fr frr fy ga gd gl gn gom gu gv he hi hif hr hsb ht hu hy ia id ie ilo io is it ja jbo jv ka kk km kn ko krc ku kv kw ky la lb lez li lmo lo lrc lt lv mai mg mhr min mk ml mn mr mrj ms mt mwl my myv mzn nah nap nds ne new nl nn no oc or os pa pam pfl pl pms pnb ps pt qu rm ro ru rue sa sah sc scn sco sd sh si sk sl so sq sr su sv sw ta te tg th tk tl tr tt tyv ug uk ur uz vec vep vi vls vo wa war wuu xal xmf yi yo yue zh\n",
    "* **cld3** supporte 107 langues : af am ar bg bg-Latn bn bs ca ceb co cs cy da de el el-Latn en eo es et eu fa fi fil fr fy ga gd gl gu ha haw hi hi-Latn hmn hr ht hu hy id ig is it iw ja ja-Latn jv ka kk km kn ko ku ky la lb lo lt lv mg mi mk ml mn mr ms mt my ne nl no ny pa pl ps pt ro ru ru-Latn sd si sk sl sm sn so sq sr st su sv sw ta te tg th tr uk ur uz vi xh yi yo zh zh-Latn zu"
   ]
  },
  {
   "cell_type": "code",
   "execution_count": 2,
   "id": "593d7196",
   "metadata": {
    "execution": {
     "iopub.execute_input": "2022-02-28T12:05:35.142198Z",
     "iopub.status.busy": "2022-02-28T12:05:35.141610Z",
     "iopub.status.idle": "2022-02-28T12:05:35.145078Z",
     "shell.execute_reply": "2022-02-28T12:05:35.144432Z",
     "shell.execute_reply.started": "2022-02-28T12:04:24.274947Z"
    },
    "papermill": {
     "duration": 0.075334,
     "end_time": "2022-02-28T12:05:35.145211",
     "exception": false,
     "start_time": "2022-02-28T12:05:35.069877",
     "status": "completed"
    },
    "tags": []
   },
   "outputs": [],
   "source": [
    "X = ['langdetect', 'langid', 'fasttext', 'cld3']\n",
    "langs = [55,97, 170, 107]"
   ]
  },
  {
   "cell_type": "code",
   "execution_count": 3,
   "id": "103a8a35",
   "metadata": {
    "execution": {
     "iopub.execute_input": "2022-02-28T12:05:35.253296Z",
     "iopub.status.busy": "2022-02-28T12:05:35.252504Z",
     "iopub.status.idle": "2022-02-28T12:05:35.255150Z",
     "shell.execute_reply": "2022-02-28T12:05:35.254637Z",
     "shell.execute_reply.started": "2022-02-28T12:04:24.284772Z"
    },
    "papermill": {
     "duration": 0.055203,
     "end_time": "2022-02-28T12:05:35.255273",
     "exception": false,
     "start_time": "2022-02-28T12:05:35.200070",
     "status": "completed"
    },
    "tags": []
   },
   "outputs": [],
   "source": [
    "import matplotlib.pyplot as plt\n",
    "import pandas as pd"
   ]
  },
  {
   "cell_type": "code",
   "execution_count": 4,
   "id": "3a8c79ef",
   "metadata": {
    "execution": {
     "iopub.execute_input": "2022-02-28T12:05:35.350851Z",
     "iopub.status.busy": "2022-02-28T12:05:35.350127Z",
     "iopub.status.idle": "2022-02-28T12:05:35.595795Z",
     "shell.execute_reply": "2022-02-28T12:05:35.595342Z",
     "shell.execute_reply.started": "2022-02-28T12:04:24.298459Z"
    },
    "papermill": {
     "duration": 0.298018,
     "end_time": "2022-02-28T12:05:35.595911",
     "exception": false,
     "start_time": "2022-02-28T12:05:35.297893",
     "status": "completed"
    },
    "tags": []
   },
   "outputs": [
    {
     "data": {
      "text/plain": [
       "Text(0.5, 1.0, 'Comparaison des solutions sur le nombre de langues supportées')"
      ]
     },
     "execution_count": 4,
     "metadata": {},
     "output_type": "execute_result"
    },
    {
     "data": {
      "text/plain": [
       "<Figure size 1080x576 with 0 Axes>"
      ]
     },
     "metadata": {},
     "output_type": "display_data"
    },
    {
     "data": {
      "image/png": "[encoded data removed]",
      "text/plain": [
       "<Figure size 432x288 with 1 Axes>"
      ]
     },
     "metadata": {},
     "output_type": "display_data"
    }
   ],
   "source": [
    "plt.style.use('fivethirtyeight')\n",
    "fig = plt.figure(figsize = (15, 8))\n",
    "\n",
    "model_comparison = pd.DataFrame({'model': X,'langs': langs})\n",
    "model_comparison.sort_values('langs', ascending = False).plot(x = 'model', y = 'langs', kind = 'barh', color = 'orange', edgecolor = 'black')\n",
    "\n",
    "plt.ylabel('')\n",
    "plt.yticks(size = 10)\n",
    "plt.xlabel('Langs')\n",
    "plt.xticks(size = 10)\n",
    "plt.title('Comparaison des solutions sur le nombre de langues supportées', size=20)   "
   ]
  },
  {
   "cell_type": "code",
   "execution_count": null,
   "id": "68fb018d",
   "metadata": {
    "papermill": {
     "duration": 0.044262,
     "end_time": "2022-02-28T12:05:35.684622",
     "exception": false,
     "start_time": "2022-02-28T12:05:35.640360",
     "status": "completed"
    },
    "tags": []
   },
   "outputs": [],
   "source": []
  },
  {
   "cell_type": "markdown",
   "id": "5905e408",
   "metadata": {
    "papermill": {
     "duration": 0.043534,
     "end_time": "2022-02-28T12:05:35.773492",
     "exception": false,
     "start_time": "2022-02-28T12:05:35.729958",
     "status": "completed"
    },
    "tags": []
   },
   "source": [
    "# **Précision**"
   ]
  },
  {
   "cell_type": "code",
   "execution_count": 5,
   "id": "ce6ca5e2",
   "metadata": {
    "execution": {
     "iopub.execute_input": "2022-02-28T12:05:35.864466Z",
     "iopub.status.busy": "2022-02-28T12:05:35.863960Z",
     "iopub.status.idle": "2022-02-28T12:05:35.869917Z",
     "shell.execute_reply": "2022-02-28T12:05:35.870335Z",
     "shell.execute_reply.started": "2022-02-28T12:04:24.644657Z"
    },
    "papermill": {
     "duration": 0.053354,
     "end_time": "2022-02-28T12:05:35.870473",
     "exception": false,
     "start_time": "2022-02-28T12:05:35.817119",
     "status": "completed"
    },
    "tags": []
   },
   "outputs": [],
   "source": [
    "en = \"This text is written in English\"\n",
    "fr = \"Ce texte est écrit en Français\"\n",
    "es = \"Este texto está escrito en español\"\n",
    "it = \"Questo testo è scritto in italiano\"\n",
    "zh = \"这段文字是用中文写的\"\n",
    "ja = \"この文章は日本語で書かれています\"\n",
    "de = \"Dieser Text ist auf Deutsch geschrieben\"\n",
    "sv = \"Denna text är skriven på svenska\"\n",
    "pl = \"Ten tekst jest w języku polskim\"\n",
    "nl = \"Deze tekst is geschreven in het Nederlands\"\n",
    "texts = [en, fr, es, it, zh, ja, de, sv, pl, nl]"
   ]
  },
  {
   "cell_type": "markdown",
   "id": "6c6ac1ce",
   "metadata": {
    "papermill": {
     "duration": 0.043749,
     "end_time": "2022-02-28T12:05:35.958203",
     "exception": false,
     "start_time": "2022-02-28T12:05:35.914454",
     "status": "completed"
    },
    "tags": []
   },
   "source": [
    "## **langdetect**"
   ]
  },
  {
   "cell_type": "code",
   "execution_count": 6,
   "id": "d4fc3193",
   "metadata": {
    "execution": {
     "iopub.execute_input": "2022-02-28T12:05:36.052409Z",
     "iopub.status.busy": "2022-02-28T12:05:36.049962Z",
     "iopub.status.idle": "2022-02-28T12:05:36.065431Z",
     "shell.execute_reply": "2022-02-28T12:05:36.065875Z",
     "shell.execute_reply.started": "2022-02-28T12:04:24.654454Z"
    },
    "papermill": {
     "duration": 0.063411,
     "end_time": "2022-02-28T12:05:36.066011",
     "exception": false,
     "start_time": "2022-02-28T12:05:36.002600",
     "status": "completed"
    },
    "tags": []
   },
   "outputs": [],
   "source": [
    "from langdetect import detect_langs\n",
    "import langdetect"
   ]
  },
  {
   "cell_type": "code",
   "execution_count": 7,
   "id": "63103e0a",
   "metadata": {
    "execution": {
     "iopub.execute_input": "2022-02-28T12:05:36.157690Z",
     "iopub.status.busy": "2022-02-28T12:05:36.157168Z",
     "iopub.status.idle": "2022-02-28T12:05:36.160789Z",
     "shell.execute_reply": "2022-02-28T12:05:36.161159Z",
     "shell.execute_reply.started": "2022-02-28T12:04:24.679662Z"
    },
    "papermill": {
     "duration": 0.051379,
     "end_time": "2022-02-28T12:05:36.161313",
     "exception": false,
     "start_time": "2022-02-28T12:05:36.109934",
     "status": "completed"
    },
    "tags": []
   },
   "outputs": [],
   "source": [
    "accuracy = []"
   ]
  },
  {
   "cell_type": "code",
   "execution_count": 8,
   "id": "d3789e77",
   "metadata": {
    "execution": {
     "iopub.execute_input": "2022-02-28T12:05:36.251856Z",
     "iopub.status.busy": "2022-02-28T12:05:36.251301Z",
     "iopub.status.idle": "2022-02-28T12:05:36.938013Z",
     "shell.execute_reply": "2022-02-28T12:05:36.938809Z",
     "shell.execute_reply.started": "2022-02-28T12:04:24.686395Z"
    },
    "papermill": {
     "duration": 0.734119,
     "end_time": "2022-02-28T12:05:36.939072",
     "exception": false,
     "start_time": "2022-02-28T12:05:36.204953",
     "status": "completed"
    },
    "tags": []
   },
   "outputs": [
    {
     "name": "stdout",
     "output_type": "stream",
     "text": [
      "[en:0.9999972038678869]\n",
      "[fr:0.9999980683041829]\n",
      "[es:0.9999968425384707]\n",
      "[it:0.9999979921782616]\n",
      "[zh-cn:0.9999965552474768]\n",
      "[ja:0.9999993757841568]\n",
      "[de:0.999997687593735]\n",
      "[sv:0.9999959371793758]\n",
      "[pl:0.9999980344784465]\n",
      "[nl:0.9999962239982207]\n"
     ]
    }
   ],
   "source": [
    "for text in texts :\n",
    "    print(detect_langs(text))\n",
    "    # accuracy.append(detect_langs(text))"
   ]
  },
  {
   "cell_type": "code",
   "execution_count": null,
   "id": "f5499f5a",
   "metadata": {
    "papermill": {
     "duration": 0.045745,
     "end_time": "2022-02-28T12:05:37.030892",
     "exception": false,
     "start_time": "2022-02-28T12:05:36.985147",
     "status": "completed"
    },
    "tags": []
   },
   "outputs": [],
   "source": []
  },
  {
   "cell_type": "markdown",
   "id": "a5341298",
   "metadata": {
    "papermill": {
     "duration": 0.043468,
     "end_time": "2022-02-28T12:05:37.118979",
     "exception": false,
     "start_time": "2022-02-28T12:05:37.075511",
     "status": "completed"
    },
    "tags": []
   },
   "source": [
    "## **langid**"
   ]
  },
  {
   "cell_type": "code",
   "execution_count": 9,
   "id": "28fe9d26",
   "metadata": {
    "execution": {
     "iopub.execute_input": "2022-02-28T12:05:37.257471Z",
     "iopub.status.busy": "2022-02-28T12:05:37.256810Z",
     "iopub.status.idle": "2022-02-28T12:05:39.083538Z",
     "shell.execute_reply": "2022-02-28T12:05:39.083114Z",
     "shell.execute_reply.started": "2022-02-28T12:04:25.342399Z"
    },
    "papermill": {
     "duration": 1.897867,
     "end_time": "2022-02-28T12:05:39.083666",
     "exception": false,
     "start_time": "2022-02-28T12:05:37.185799",
     "status": "completed"
    },
    "tags": []
   },
   "outputs": [],
   "source": [
    "from langid.langid import LanguageIdentifier, model\n",
    "identifier = LanguageIdentifier.from_modelstring(model, norm_probs=True)"
   ]
  },
  {
   "cell_type": "code",
   "execution_count": 10,
   "id": "1ae5c3f1",
   "metadata": {
    "execution": {
     "iopub.execute_input": "2022-02-28T12:05:39.224948Z",
     "iopub.status.busy": "2022-02-28T12:05:39.224247Z",
     "iopub.status.idle": "2022-02-28T12:05:39.277447Z",
     "shell.execute_reply": "2022-02-28T12:05:39.278075Z",
     "shell.execute_reply.started": "2022-02-28T12:04:28.829553Z"
    },
    "papermill": {
     "duration": 0.128213,
     "end_time": "2022-02-28T12:05:39.278256",
     "exception": false,
     "start_time": "2022-02-28T12:05:39.150043",
     "status": "completed"
    },
    "tags": []
   },
   "outputs": [
    {
     "name": "stdout",
     "output_type": "stream",
     "text": [
      "('en', 0.9999999958233259)\n",
      "('fr', 0.9999999975825273)\n",
      "('es', 0.7067285616921579)\n",
      "('it', 1.0)\n",
      "('zh', 0.9999999999929539)\n",
      "('ja', 1.0)\n",
      "('de', 1.0)\n",
      "('sv', 0.9999999999996949)\n",
      "('pl', 0.9999999999998621)\n",
      "('nl', 0.9999999999997848)\n"
     ]
    }
   ],
   "source": [
    "for text in texts:\n",
    "    print(identifier.classify(text))"
   ]
  },
  {
   "cell_type": "code",
   "execution_count": null,
   "id": "9d99f8f4",
   "metadata": {
    "papermill": {
     "duration": 0.070231,
     "end_time": "2022-02-28T12:05:39.487297",
     "exception": false,
     "start_time": "2022-02-28T12:05:39.417066",
     "status": "completed"
    },
    "tags": []
   },
   "outputs": [],
   "source": []
  },
  {
   "cell_type": "markdown",
   "id": "132cd88f",
   "metadata": {
    "papermill": {
     "duration": 0.06931,
     "end_time": "2022-02-28T12:05:39.627764",
     "exception": false,
     "start_time": "2022-02-28T12:05:39.558454",
     "status": "completed"
    },
    "tags": []
   },
   "source": [
    "## **Fasttext**"
   ]
  },
  {
   "cell_type": "code",
   "execution_count": 11,
   "id": "2744b8b9",
   "metadata": {
    "execution": {
     "iopub.execute_input": "2022-02-28T12:05:39.765051Z",
     "iopub.status.busy": "2022-02-28T12:05:39.764448Z",
     "iopub.status.idle": "2022-02-28T12:05:44.205541Z",
     "shell.execute_reply": "2022-02-28T12:05:44.204963Z",
     "shell.execute_reply.started": "2022-02-28T12:04:28.869298Z"
    },
    "papermill": {
     "duration": 4.510138,
     "end_time": "2022-02-28T12:05:44.205693",
     "exception": false,
     "start_time": "2022-02-28T12:05:39.695555",
     "status": "completed"
    },
    "tags": []
   },
   "outputs": [
    {
     "name": "stdout",
     "output_type": "stream",
     "text": [
      "--2022-02-28 12:05:39--  https://dl.fbaipublicfiles.com/fasttext/supervised-models/lid.176.bin\r\n",
      "Resolving dl.fbaipublicfiles.com (dl.fbaipublicfiles.com)... 104.22.75.142, 172.67.9.4, 104.22.74.142, ...\r\n",
      "Connecting to dl.fbaipublicfiles.com (dl.fbaipublicfiles.com)|104.22.75.142|:443... connected.\r\n",
      "HTTP request sent, awaiting response... 200 OK\r\n",
      "Length: 131266198 (125M) [application/octet-stream]\r\n",
      "Saving to: ‘/tmp/lid.176.bin’\r\n",
      "\r\n",
      "/tmp/lid.176.bin    100%[===================>] 125.18M  35.1MB/s    in 3.6s    \r\n",
      "\r\n",
      "2022-02-28 12:05:44 (35.1 MB/s) - ‘/tmp/lid.176.bin’ saved [131266198/131266198]\r\n",
      "\r\n"
     ]
    }
   ],
   "source": [
    "!wget -O /tmp/lid.176.bin https://dl.fbaipublicfiles.com/fasttext/supervised-models/lid.176.bin"
   ]
  },
  {
   "cell_type": "code",
   "execution_count": 12,
   "id": "ccef6cda",
   "metadata": {
    "execution": {
     "iopub.execute_input": "2022-02-28T12:05:44.368283Z",
     "iopub.status.busy": "2022-02-28T12:05:44.367369Z",
     "iopub.status.idle": "2022-02-28T12:05:44.629644Z",
     "shell.execute_reply": "2022-02-28T12:05:44.630203Z",
     "shell.execute_reply.started": "2022-02-28T12:04:37.836171Z"
    },
    "papermill": {
     "duration": 0.346664,
     "end_time": "2022-02-28T12:05:44.630384",
     "exception": false,
     "start_time": "2022-02-28T12:05:44.283720",
     "status": "completed"
    },
    "tags": []
   },
   "outputs": [
    {
     "name": "stderr",
     "output_type": "stream",
     "text": [
      "Warning : `load_model` does not return WordVectorModel or SupervisedModel any more, but a `FastText` object which is very similar.\n"
     ]
    }
   ],
   "source": [
    "import fasttext\n",
    "\n",
    "PRETRAINED_MODEL_PATH = '/tmp/lid.176.bin'\n",
    "model = fasttext.load_model(PRETRAINED_MODEL_PATH)"
   ]
  },
  {
   "cell_type": "code",
   "execution_count": 13,
   "id": "148216b4",
   "metadata": {
    "execution": {
     "iopub.execute_input": "2022-02-28T12:05:44.796288Z",
     "iopub.status.busy": "2022-02-28T12:05:44.795509Z",
     "iopub.status.idle": "2022-02-28T12:05:44.799382Z",
     "shell.execute_reply": "2022-02-28T12:05:44.798764Z",
     "shell.execute_reply.started": "2022-02-28T12:04:38.050734Z"
    },
    "papermill": {
     "duration": 0.090067,
     "end_time": "2022-02-28T12:05:44.799512",
     "exception": false,
     "start_time": "2022-02-28T12:05:44.709445",
     "status": "completed"
    },
    "tags": []
   },
   "outputs": [
    {
     "name": "stdout",
     "output_type": "stream",
     "text": [
      "(('__label__en',), array([0.98926002]))\n",
      "(('__label__fr',), array([0.99990958]))\n",
      "(('__label__es',), array([0.97720885]))\n",
      "(('__label__it',), array([1.00002849]))\n",
      "(('__label__zh',), array([1.0000397]))\n",
      "(('__label__ja',), array([1.00000489]))\n",
      "(('__label__de',), array([0.9999488]))\n",
      "(('__label__sv',), array([0.99980599]))\n",
      "(('__label__pl',), array([0.99914205]))\n",
      "(('__label__nl',), array([0.9972297]))\n"
     ]
    }
   ],
   "source": [
    "for text in texts:\n",
    "    prediction = model.predict(text)\n",
    "    print(prediction)"
   ]
  },
  {
   "cell_type": "code",
   "execution_count": null,
   "id": "7ed93fa6",
   "metadata": {
    "papermill": {
     "duration": 0.076752,
     "end_time": "2022-02-28T12:05:44.953182",
     "exception": false,
     "start_time": "2022-02-28T12:05:44.876430",
     "status": "completed"
    },
    "tags": []
   },
   "outputs": [],
   "source": []
  },
  {
   "cell_type": "markdown",
   "id": "71ce84c6",
   "metadata": {
    "papermill": {
     "duration": 0.075829,
     "end_time": "2022-02-28T12:05:45.105349",
     "exception": false,
     "start_time": "2022-02-28T12:05:45.029520",
     "status": "completed"
    },
    "tags": []
   },
   "source": [
    "## **cld3**"
   ]
  },
  {
   "cell_type": "code",
   "execution_count": 14,
   "id": "f27c34d7",
   "metadata": {
    "execution": {
     "iopub.execute_input": "2022-02-28T12:05:45.264228Z",
     "iopub.status.busy": "2022-02-28T12:05:45.263554Z",
     "iopub.status.idle": "2022-02-28T12:05:45.269458Z",
     "shell.execute_reply": "2022-02-28T12:05:45.268935Z",
     "shell.execute_reply.started": "2022-02-28T12:04:38.062848Z"
    },
    "papermill": {
     "duration": 0.086756,
     "end_time": "2022-02-28T12:05:45.269589",
     "exception": false,
     "start_time": "2022-02-28T12:05:45.182833",
     "status": "completed"
    },
    "tags": []
   },
   "outputs": [],
   "source": [
    "import cld3"
   ]
  },
  {
   "cell_type": "code",
   "execution_count": 15,
   "id": "9211d0d7",
   "metadata": {
    "execution": {
     "iopub.execute_input": "2022-02-28T12:05:45.428170Z",
     "iopub.status.busy": "2022-02-28T12:05:45.427552Z",
     "iopub.status.idle": "2022-02-28T12:05:45.432485Z",
     "shell.execute_reply": "2022-02-28T12:05:45.431987Z",
     "shell.execute_reply.started": "2022-02-28T12:04:38.078915Z"
    },
    "papermill": {
     "duration": 0.087287,
     "end_time": "2022-02-28T12:05:45.432615",
     "exception": false,
     "start_time": "2022-02-28T12:05:45.345328",
     "status": "completed"
    },
    "tags": []
   },
   "outputs": [
    {
     "name": "stdout",
     "output_type": "stream",
     "text": [
      "LanguagePrediction(language='en', probability=0.9996357560157776, is_reliable=True, proportion=1.0)\n",
      "LanguagePrediction(language='fr', probability=0.9999961853027344, is_reliable=True, proportion=1.0)\n",
      "LanguagePrediction(language='gl', probability=0.974843442440033, is_reliable=True, proportion=1.0)\n",
      "LanguagePrediction(language='it', probability=1.0, is_reliable=True, proportion=1.0)\n",
      "LanguagePrediction(language='zh', probability=0.9999504089355469, is_reliable=True, proportion=1.0)\n",
      "LanguagePrediction(language='ja', probability=1.0, is_reliable=True, proportion=1.0)\n",
      "LanguagePrediction(language='de', probability=0.9998397827148438, is_reliable=True, proportion=1.0)\n",
      "LanguagePrediction(language='sv', probability=1.0, is_reliable=True, proportion=1.0)\n",
      "LanguagePrediction(language='pl', probability=0.9998817443847656, is_reliable=True, proportion=1.0)\n",
      "LanguagePrediction(language='nl', probability=0.9999980926513672, is_reliable=True, proportion=1.0)\n"
     ]
    }
   ],
   "source": [
    "for text in texts :\n",
    "    print(cld3.get_language(text))"
   ]
  },
  {
   "cell_type": "code",
   "execution_count": null,
   "id": "25e1297f",
   "metadata": {
    "papermill": {
     "duration": 0.076139,
     "end_time": "2022-02-28T12:05:45.585993",
     "exception": false,
     "start_time": "2022-02-28T12:05:45.509854",
     "status": "completed"
    },
    "tags": []
   },
   "outputs": [],
   "source": []
  },
  {
   "cell_type": "markdown",
   "id": "92f9e412",
   "metadata": {
    "papermill": {
     "duration": 0.077143,
     "end_time": "2022-02-28T12:05:45.740535",
     "exception": false,
     "start_time": "2022-02-28T12:05:45.663392",
     "status": "completed"
    },
    "tags": []
   },
   "source": [
    "# **Performance**"
   ]
  },
  {
   "cell_type": "code",
   "execution_count": 16,
   "id": "085d3e1e",
   "metadata": {
    "execution": {
     "iopub.execute_input": "2022-02-28T12:05:45.904298Z",
     "iopub.status.busy": "2022-02-28T12:05:45.903607Z",
     "iopub.status.idle": "2022-02-28T12:05:45.906861Z",
     "shell.execute_reply": "2022-02-28T12:05:45.906264Z",
     "shell.execute_reply.started": "2022-02-28T12:04:38.097049Z"
    },
    "papermill": {
     "duration": 0.086883,
     "end_time": "2022-02-28T12:05:45.906993",
     "exception": false,
     "start_time": "2022-02-28T12:05:45.820110",
     "status": "completed"
    },
    "tags": []
   },
   "outputs": [],
   "source": [
    "X = ['langdetect', 'langid', 'fasttext', 'cld3']\n",
    "times = []\n",
    "cpu = []\n",
    "memory = []"
   ]
  },
  {
   "cell_type": "code",
   "execution_count": 17,
   "id": "561588cf",
   "metadata": {
    "execution": {
     "iopub.execute_input": "2022-02-28T12:05:46.075166Z",
     "iopub.status.busy": "2022-02-28T12:05:46.074479Z",
     "iopub.status.idle": "2022-02-28T12:05:46.076985Z",
     "shell.execute_reply": "2022-02-28T12:05:46.076359Z",
     "shell.execute_reply.started": "2022-02-28T12:04:38.110345Z"
    },
    "papermill": {
     "duration": 0.093492,
     "end_time": "2022-02-28T12:05:46.077122",
     "exception": false,
     "start_time": "2022-02-28T12:05:45.983630",
     "status": "completed"
    },
    "tags": []
   },
   "outputs": [],
   "source": [
    "from __future__ import print_function\n",
    "import time\n",
    "import psutil\n",
    "import os"
   ]
  },
  {
   "cell_type": "markdown",
   "id": "88fa54eb",
   "metadata": {
    "papermill": {
     "duration": 0.091214,
     "end_time": "2022-02-28T12:05:46.254633",
     "exception": false,
     "start_time": "2022-02-28T12:05:46.163419",
     "status": "completed"
    },
    "tags": []
   },
   "source": [
    "## **Langdetect**"
   ]
  },
  {
   "cell_type": "code",
   "execution_count": 18,
   "id": "5fcdca7d",
   "metadata": {
    "execution": {
     "iopub.execute_input": "2022-02-28T12:05:46.423886Z",
     "iopub.status.busy": "2022-02-28T12:05:46.423183Z",
     "iopub.status.idle": "2022-02-28T12:05:46.450996Z",
     "shell.execute_reply": "2022-02-28T12:05:46.451522Z",
     "shell.execute_reply.started": "2022-02-28T12:04:38.129738Z"
    },
    "papermill": {
     "duration": 0.120492,
     "end_time": "2022-02-28T12:05:46.451709",
     "exception": false,
     "start_time": "2022-02-28T12:05:46.331217",
     "status": "completed"
    },
    "tags": []
   },
   "outputs": [
    {
     "name": "stdout",
     "output_type": "stream",
     "text": [
      "[en:0.9999975911171972]\n",
      "[fr:0.9999960793761318]\n",
      "[es:0.9999955356212775]\n",
      "[it:0.9999964442470693]\n",
      "[zh-cn:0.9999967795995066]\n",
      "[ja:0.9999999362592054]\n",
      "[de:0.9999976565186786]\n",
      "[sv:0.9999988481568423]\n",
      "[pl:0.9999978291797558]\n",
      "[nl:0.9999964197570864]\n"
     ]
    }
   ],
   "source": [
    "start = time.time()\n",
    "\n",
    "for text in texts :\n",
    "    print(detect_langs(text))\n",
    "    \n",
    "end = time.time()\n",
    "times.append(end-start)\n",
    "cpu.append(psutil.cpu_percent())\n",
    "pid = os.getpid()\n",
    "py = psutil.Process(pid)\n",
    "memory.append(py.memory_info()[0]/2.**30) #  physical memory usage"
   ]
  },
  {
   "cell_type": "markdown",
   "id": "da8ba202",
   "metadata": {
    "papermill": {
     "duration": 0.077343,
     "end_time": "2022-02-28T12:05:46.605807",
     "exception": false,
     "start_time": "2022-02-28T12:05:46.528464",
     "status": "completed"
    },
    "tags": []
   },
   "source": [
    "## **Langid**"
   ]
  },
  {
   "cell_type": "code",
   "execution_count": 19,
   "id": "6f442e14",
   "metadata": {
    "execution": {
     "iopub.execute_input": "2022-02-28T12:05:46.769723Z",
     "iopub.status.busy": "2022-02-28T12:05:46.765381Z",
     "iopub.status.idle": "2022-02-28T12:05:46.807938Z",
     "shell.execute_reply": "2022-02-28T12:05:46.808546Z",
     "shell.execute_reply.started": "2022-02-28T12:04:38.196769Z"
    },
    "papermill": {
     "duration": 0.125191,
     "end_time": "2022-02-28T12:05:46.808752",
     "exception": false,
     "start_time": "2022-02-28T12:05:46.683561",
     "status": "completed"
    },
    "tags": []
   },
   "outputs": [
    {
     "name": "stdout",
     "output_type": "stream",
     "text": [
      "('en', 0.9999999958233259)\n",
      "('fr', 0.9999999975825273)\n",
      "('es', 0.7067285616921579)\n",
      "('it', 1.0)\n",
      "('zh', 0.9999999999929539)\n",
      "('ja', 1.0)\n",
      "('de', 1.0)\n",
      "('sv', 0.9999999999996949)\n",
      "('pl', 0.9999999999998621)\n",
      "('nl', 0.9999999999997848)\n"
     ]
    }
   ],
   "source": [
    "start = time.time()\n",
    "\n",
    "for text in texts:\n",
    "    print(identifier.classify(text))\n",
    "    \n",
    "end = time.time()\n",
    "times.append(end-start)\n",
    "cpu.append(psutil.cpu_percent())\n",
    "pid = os.getpid()\n",
    "py = psutil.Process(pid)\n",
    "memory.append(py.memory_info()[0]/2.**30) #  physical memory usage"
   ]
  },
  {
   "cell_type": "markdown",
   "id": "6fdba808",
   "metadata": {
    "papermill": {
     "duration": 0.083118,
     "end_time": "2022-02-28T12:05:46.987401",
     "exception": false,
     "start_time": "2022-02-28T12:05:46.904283",
     "status": "completed"
    },
    "tags": []
   },
   "source": [
    "## **Fasttext**"
   ]
  },
  {
   "cell_type": "code",
   "execution_count": 20,
   "id": "d9ac28fa",
   "metadata": {
    "execution": {
     "iopub.execute_input": "2022-02-28T12:05:47.150445Z",
     "iopub.status.busy": "2022-02-28T12:05:47.149796Z",
     "iopub.status.idle": "2022-02-28T12:05:47.157980Z",
     "shell.execute_reply": "2022-02-28T12:05:47.157326Z",
     "shell.execute_reply.started": "2022-02-28T12:04:38.242049Z"
    },
    "papermill": {
     "duration": 0.091802,
     "end_time": "2022-02-28T12:05:47.158119",
     "exception": false,
     "start_time": "2022-02-28T12:05:47.066317",
     "status": "completed"
    },
    "tags": []
   },
   "outputs": [
    {
     "name": "stdout",
     "output_type": "stream",
     "text": [
      "(('__label__en',), array([0.98926002]))\n",
      "(('__label__fr',), array([0.99990958]))\n",
      "(('__label__es',), array([0.97720885]))\n",
      "(('__label__it',), array([1.00002849]))\n",
      "(('__label__zh',), array([1.0000397]))\n",
      "(('__label__ja',), array([1.00000489]))\n",
      "(('__label__de',), array([0.9999488]))\n",
      "(('__label__sv',), array([0.99980599]))\n",
      "(('__label__pl',), array([0.99914205]))\n",
      "(('__label__nl',), array([0.9972297]))\n"
     ]
    }
   ],
   "source": [
    "start = time.time()\n",
    "\n",
    "for text in texts:\n",
    "    prediction = model.predict(text)\n",
    "    print(prediction)\n",
    "    \n",
    "end = time.time()\n",
    "times.append(end-start)\n",
    "cpu.append(psutil.cpu_percent())\n",
    "pid = os.getpid()\n",
    "py = psutil.Process(pid)\n",
    "memory.append(py.memory_info()[0]/2.**30) #  physical memory usage"
   ]
  },
  {
   "cell_type": "markdown",
   "id": "f213fd96",
   "metadata": {
    "papermill": {
     "duration": 0.078516,
     "end_time": "2022-02-28T12:05:47.316236",
     "exception": false,
     "start_time": "2022-02-28T12:05:47.237720",
     "status": "completed"
    },
    "tags": []
   },
   "source": [
    "## **CLD3**"
   ]
  },
  {
   "cell_type": "code",
   "execution_count": 21,
   "id": "9177b0e8",
   "metadata": {
    "execution": {
     "iopub.execute_input": "2022-02-28T12:05:47.479455Z",
     "iopub.status.busy": "2022-02-28T12:05:47.478632Z",
     "iopub.status.idle": "2022-02-28T12:05:47.487079Z",
     "shell.execute_reply": "2022-02-28T12:05:47.486483Z",
     "shell.execute_reply.started": "2022-02-28T12:04:38.269823Z"
    },
    "papermill": {
     "duration": 0.092208,
     "end_time": "2022-02-28T12:05:47.487232",
     "exception": false,
     "start_time": "2022-02-28T12:05:47.395024",
     "status": "completed"
    },
    "tags": []
   },
   "outputs": [
    {
     "name": "stdout",
     "output_type": "stream",
     "text": [
      "LanguagePrediction(language='en', probability=0.9996357560157776, is_reliable=True, proportion=1.0)\n",
      "LanguagePrediction(language='fr', probability=0.9999961853027344, is_reliable=True, proportion=1.0)\n",
      "LanguagePrediction(language='gl', probability=0.974843442440033, is_reliable=True, proportion=1.0)\n",
      "LanguagePrediction(language='it', probability=1.0, is_reliable=True, proportion=1.0)\n",
      "LanguagePrediction(language='zh', probability=0.9999504089355469, is_reliable=True, proportion=1.0)\n",
      "LanguagePrediction(language='ja', probability=1.0, is_reliable=True, proportion=1.0)\n",
      "LanguagePrediction(language='de', probability=0.9998397827148438, is_reliable=True, proportion=1.0)\n",
      "LanguagePrediction(language='sv', probability=1.0, is_reliable=True, proportion=1.0)\n",
      "LanguagePrediction(language='pl', probability=0.9998817443847656, is_reliable=True, proportion=1.0)\n",
      "LanguagePrediction(language='nl', probability=0.9999980926513672, is_reliable=True, proportion=1.0)\n"
     ]
    }
   ],
   "source": [
    "start = time.time()\n",
    "\n",
    "for text in texts :\n",
    "    print(cld3.get_language(text))\n",
    "    \n",
    "end = time.time()\n",
    "times.append(end-start)\n",
    "cpu.append(psutil.cpu_percent())\n",
    "pid = os.getpid()\n",
    "py = psutil.Process(pid)\n",
    "memory.append(py.memory_info()[0]/2.**30) #  physical memory usage"
   ]
  },
  {
   "cell_type": "markdown",
   "id": "fb3e6794",
   "metadata": {
    "papermill": {
     "duration": 0.080518,
     "end_time": "2022-02-28T12:05:47.649927",
     "exception": false,
     "start_time": "2022-02-28T12:05:47.569409",
     "status": "completed"
    },
    "tags": []
   },
   "source": [
    "## **Visualisation**"
   ]
  },
  {
   "cell_type": "code",
   "execution_count": 22,
   "id": "3f20df95",
   "metadata": {
    "execution": {
     "iopub.execute_input": "2022-02-28T12:05:47.812103Z",
     "iopub.status.busy": "2022-02-28T12:05:47.811253Z",
     "iopub.status.idle": "2022-02-28T12:05:47.813375Z",
     "shell.execute_reply": "2022-02-28T12:05:47.812838Z",
     "shell.execute_reply.started": "2022-02-28T12:04:38.290563Z"
    },
    "papermill": {
     "duration": 0.089997,
     "end_time": "2022-02-28T12:05:47.813505",
     "exception": false,
     "start_time": "2022-02-28T12:05:47.723508",
     "status": "completed"
    },
    "tags": []
   },
   "outputs": [],
   "source": [
    "import matplotlib.pyplot as plt\n",
    "import pandas as pd"
   ]
  },
  {
   "cell_type": "code",
   "execution_count": 23,
   "id": "3f6b79a1",
   "metadata": {
    "execution": {
     "iopub.execute_input": "2022-02-28T12:05:47.982200Z",
     "iopub.status.busy": "2022-02-28T12:05:47.981472Z",
     "iopub.status.idle": "2022-02-28T12:05:48.201811Z",
     "shell.execute_reply": "2022-02-28T12:05:48.201359Z",
     "shell.execute_reply.started": "2022-02-28T12:04:38.299564Z"
    },
    "papermill": {
     "duration": 0.308003,
     "end_time": "2022-02-28T12:05:48.201928",
     "exception": false,
     "start_time": "2022-02-28T12:05:47.893925",
     "status": "completed"
    },
    "tags": []
   },
   "outputs": [
    {
     "name": "stdout",
     "output_type": "stream",
     "text": [
      "['langdetect', 'langid', 'fasttext', 'cld3']\n",
      "[0.033472537994384766, 0.03687167167663574, 0.0042994022369384766, 0.003327608108520508]\n",
      "[23.9, 32.4, 50.7, 25.8]\n",
      "[0.4186363220214844, 0.42304229736328125, 0.42304229736328125, 0.42304229736328125]\n"
     ]
    },
    {
     "data": {
      "text/plain": [
       "<Figure size 1080x576 with 0 Axes>"
      ]
     },
     "metadata": {},
     "output_type": "display_data"
    },
    {
     "data": {
      "image/png": "[encoded data removed]",
      "text/plain": [
       "<Figure size 432x288 with 1 Axes>"
      ]
     },
     "metadata": {},
     "output_type": "display_data"
    }
   ],
   "source": [
    "plt.style.use('fivethirtyeight')\n",
    "fig = plt.figure(figsize = (15, 8))\n",
    "\n",
    "model_comparison = pd.DataFrame({'model': X,'time': times, 'cpu': cpu, 'memory': memory})\n",
    "model_comparison.sort_values('time', ascending = False).plot(x = 'model', y = ['time', 'cpu', 'memory'], kind = 'barh', color = 'rgb', edgecolor = 'black')\n",
    "\n",
    "plt.ylabel('')\n",
    "plt.yticks(size = 10)\n",
    "plt.xlabel('')\n",
    "plt.xticks(size = 10)\n",
    "plt.title('Comparaison des solutions', size=20)\n",
    "print(X)\n",
    "print(times)\n",
    "print(cpu)\n",
    "print(memory)"
   ]
  },
  {
   "cell_type": "code",
   "execution_count": 24,
   "id": "389ce076",
   "metadata": {
    "execution": {
     "iopub.execute_input": "2022-02-28T12:05:48.319977Z",
     "iopub.status.busy": "2022-02-28T12:05:48.318747Z",
     "iopub.status.idle": "2022-02-28T12:05:48.506408Z",
     "shell.execute_reply": "2022-02-28T12:05:48.506790Z",
     "shell.execute_reply.started": "2022-02-28T12:04:38.606465Z"
    },
    "papermill": {
     "duration": 0.251243,
     "end_time": "2022-02-28T12:05:48.506922",
     "exception": false,
     "start_time": "2022-02-28T12:05:48.255679",
     "status": "completed"
    },
    "tags": []
   },
   "outputs": [
    {
     "name": "stdout",
     "output_type": "stream",
     "text": [
      "['langdetect', 'langid', 'fasttext', 'cld3']\n",
      "[0.033472537994384766, 0.03687167167663574, 0.0042994022369384766, 0.003327608108520508]\n"
     ]
    },
    {
     "data": {
      "text/plain": [
       "<Figure size 1080x576 with 0 Axes>"
      ]
     },
     "metadata": {},
     "output_type": "display_data"
    },
    {
     "data": {
      "image/png": "[encoded data removed]",
      "text/plain": [
       "<Figure size 432x288 with 1 Axes>"
      ]
     },
     "metadata": {},
     "output_type": "display_data"
    }
   ],
   "source": [
    "plt.style.use('fivethirtyeight')\n",
    "fig = plt.figure(figsize = (15, 8))\n",
    "\n",
    "model_comparison = pd.DataFrame({'model': X,'time': times})\n",
    "model_comparison.sort_values('time', ascending = False).plot(x = 'model', y ='time', kind = 'barh', color = 'blue', edgecolor = 'black')\n",
    "\n",
    "plt.ylabel('')\n",
    "plt.yticks(size = 10)\n",
    "plt.xlabel('Time')\n",
    "plt.xticks(size = 10)\n",
    "plt.title('Comparaison des solutions sur le temps', size=20) \n",
    "print(X)\n",
    "print(times)"
   ]
  },
  {
   "cell_type": "code",
   "execution_count": 25,
   "id": "53ad43f5",
   "metadata": {
    "execution": {
     "iopub.execute_input": "2022-02-28T12:05:48.618927Z",
     "iopub.status.busy": "2022-02-28T12:05:48.618466Z",
     "iopub.status.idle": "2022-02-28T12:05:48.807117Z",
     "shell.execute_reply": "2022-02-28T12:05:48.806731Z",
     "shell.execute_reply.started": "2022-02-28T12:04:38.848926Z"
    },
    "papermill": {
     "duration": 0.246006,
     "end_time": "2022-02-28T12:05:48.807227",
     "exception": false,
     "start_time": "2022-02-28T12:05:48.561221",
     "status": "completed"
    },
    "tags": []
   },
   "outputs": [
    {
     "name": "stdout",
     "output_type": "stream",
     "text": [
      "['langdetect', 'langid', 'fasttext', 'cld3']\n",
      "[0.4186363220214844, 0.42304229736328125, 0.42304229736328125, 0.42304229736328125]\n"
     ]
    },
    {
     "data": {
      "text/plain": [
       "<Figure size 1080x576 with 0 Axes>"
      ]
     },
     "metadata": {},
     "output_type": "display_data"
    },
    {
     "data": {
      "image/png": "[encoded data removed]",
      "text/plain": [
       "<Figure size 432x288 with 1 Axes>"
      ]
     },
     "metadata": {},
     "output_type": "display_data"
    }
   ],
   "source": [
    "plt.style.use('fivethirtyeight')\n",
    "fig = plt.figure(figsize = (15, 8))\n",
    "\n",
    "model_comparison = pd.DataFrame({'model': X,'memory': memory})\n",
    "model_comparison.sort_values('memory', ascending = False).plot(x = 'model', y ='memory', kind = 'barh', color = 'green', edgecolor = 'black')\n",
    "\n",
    "plt.ylabel('')\n",
    "plt.yticks(size = 10)\n",
    "plt.xlabel('Memory')\n",
    "plt.xticks(size = 10)\n",
    "plt.title('Comparaison des solutions sur la mémoire', size=20)  \n",
    "print(X)\n",
    "print(memory)"
   ]
  },
  {
   "cell_type": "code",
   "execution_count": 26,
   "id": "7ab0d3ef",
   "metadata": {
    "execution": {
     "iopub.execute_input": "2022-02-28T12:05:48.925324Z",
     "iopub.status.busy": "2022-02-28T12:05:48.924855Z",
     "iopub.status.idle": "2022-02-28T12:05:49.116011Z",
     "shell.execute_reply": "2022-02-28T12:05:49.115528Z",
     "shell.execute_reply.started": "2022-02-28T12:04:39.091793Z"
    },
    "papermill": {
     "duration": 0.251549,
     "end_time": "2022-02-28T12:05:49.116121",
     "exception": false,
     "start_time": "2022-02-28T12:05:48.864572",
     "status": "completed"
    },
    "tags": []
   },
   "outputs": [
    {
     "name": "stdout",
     "output_type": "stream",
     "text": [
      "['langdetect', 'langid', 'fasttext', 'cld3']\n",
      "[23.9, 32.4, 50.7, 25.8]\n"
     ]
    },
    {
     "data": {
      "text/plain": [
       "<Figure size 1080x576 with 0 Axes>"
      ]
     },
     "metadata": {},
     "output_type": "display_data"
    },
    {
     "data": {
      "image/png": "[encoded data removed]",
      "text/plain": [
       "<Figure size 432x288 with 1 Axes>"
      ]
     },
     "metadata": {},
     "output_type": "display_data"
    }
   ],
   "source": [
    "plt.style.use('fivethirtyeight')\n",
    "fig = plt.figure(figsize = (15, 8))\n",
    "\n",
    "model_comparison = pd.DataFrame({'model': X,'cpu': cpu})\n",
    "model_comparison.sort_values('cpu', ascending = False).plot(x = 'model', y ='cpu', kind = 'barh', color = 'red', edgecolor = 'black')\n",
    "\n",
    "plt.ylabel('')\n",
    "plt.yticks(size = 10)\n",
    "plt.xlabel('CPU')\n",
    "plt.xticks(size = 10)\n",
    "plt.title('Comparaison des solutions sur le processeur', size=20)  \n",
    "print(X)\n",
    "print(cpu)"
   ]
  }
 ],
 "metadata": {
  "kernelspec": {
   "display_name": "Python 3",
   "language": "python",
   "name": "python3"
  },
  "language_info": {
   "codemirror_mode": {
    "name": "ipython",
    "version": 3
   },
   "file_extension": ".py",
   "mimetype": "text/x-python",
   "name": "python",
   "nbconvert_exporter": "python",
   "pygments_lexer": "ipython3",
   "version": "3.7.12"
  },
  "papermill": {
   "default_parameters": {},
   "duration": 57.378324,
   "end_time": "2022-02-28T12:05:50.487072",
   "environment_variables": {},
   "exception": null,
   "input_path": "__notebook__.ipynb",
   "output_path": "__notebook__.ipynb",
   "parameters": {},
   "start_time": "2022-02-28T12:04:53.108748",
   "version": "2.3.3"
  }
 },
 "nbformat": 4,
 "nbformat_minor": 5
}

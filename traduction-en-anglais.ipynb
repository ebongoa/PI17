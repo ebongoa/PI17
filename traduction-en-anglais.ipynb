{
 "cells": [
  {
   "cell_type": "code",
   "execution_count": null,
   "id": "66b1ba64",
   "metadata": {
    "papermill": {
     "duration": 0.018543,
     "end_time": "2022-06-17T07:03:20.125592",
     "exception": false,
     "start_time": "2022-06-17T07:03:20.107049",
     "status": "completed"
    },
    "tags": []
   },
   "outputs": [],
   "source": []
  },
  {
   "cell_type": "markdown",
   "id": "0244f9b5",
   "metadata": {
    "papermill": {
     "duration": 0.015914,
     "end_time": "2022-06-17T07:03:20.158655",
     "exception": false,
     "start_time": "2022-06-17T07:03:20.142741",
     "status": "completed"
    },
    "tags": []
   },
   "source": [
    "# **Installation des bibliothèques**"
   ]
  },
  {
   "cell_type": "code",
   "execution_count": 1,
   "id": "7f1d9631",
   "metadata": {
    "execution": {
     "iopub.execute_input": "2022-06-17T07:03:20.204676Z",
     "iopub.status.busy": "2022-06-17T07:03:20.203910Z",
     "iopub.status.idle": "2022-06-17T07:03:39.076923Z",
     "shell.execute_reply": "2022-06-17T07:03:39.076097Z",
     "shell.execute_reply.started": "2022-06-17T06:51:16.360610Z"
    },
    "papermill": {
     "duration": 18.900062,
     "end_time": "2022-06-17T07:03:39.077084",
     "exception": false,
     "start_time": "2022-06-17T07:03:20.177022",
     "status": "completed"
    },
    "tags": []
   },
   "outputs": [
    {
     "name": "stdout",
     "output_type": "stream",
     "text": [
      "Collecting goslate\r\n",
      "  Downloading goslate-1.5.4.tar.gz (14 kB)\r\n",
      "  Preparing metadata (setup.py) ... \u001b[?25l-\b \bdone\r\n",
      "\u001b[?25hCollecting futures\r\n",
      "  Downloading futures-3.0.5.tar.gz (25 kB)\r\n",
      "  Preparing metadata (setup.py) ... \u001b[?25l-\b \berror\r\n",
      "\u001b[31m  ERROR: Command errored out with exit status 1:\r\n",
      "   command: /opt/conda/bin/python3.7 -c 'import io, os, sys, setuptools, tokenize; sys.argv[0] = '\"'\"'/tmp/pip-install-gxp3wl_w/futures_ff106939ddde4844ad17111a218918b2/setup.py'\"'\"'; __file__='\"'\"'/tmp/pip-install-gxp3wl_w/futures_ff106939ddde4844ad17111a218918b2/setup.py'\"'\"';f = getattr(tokenize, '\"'\"'open'\"'\"', open)(__file__) if os.path.exists(__file__) else io.StringIO('\"'\"'from setuptools import setup; setup()'\"'\"');code = f.read().replace('\"'\"'\\r\\n'\"'\"', '\"'\"'\\n'\"'\"');f.close();exec(compile(code, __file__, '\"'\"'exec'\"'\"'))' egg_info --egg-base /tmp/pip-pip-egg-info-s9tzot9e\r\n",
      "       cwd: /tmp/pip-install-gxp3wl_w/futures_ff106939ddde4844ad17111a218918b2/\r\n",
      "  Complete output (24 lines):\r\n",
      "  Traceback (most recent call last):\r\n",
      "    File \"<string>\", line 1, in <module>\r\n",
      "    File \"/opt/conda/lib/python3.7/site-packages/setuptools/__init__.py\", line 18, in <module>\r\n",
      "      from setuptools.dist import Distribution\r\n",
      "    File \"/opt/conda/lib/python3.7/site-packages/setuptools/dist.py\", line 32, in <module>\r\n",
      "      from setuptools.extern.more_itertools import unique_everseen\r\n",
      "    File \"<frozen importlib._bootstrap>\", line 983, in _find_and_load\r\n",
      "    File \"<frozen importlib._bootstrap>\", line 967, in _find_and_load_unlocked\r\n",
      "    File \"<frozen importlib._bootstrap>\", line 670, in _load_unlocked\r\n",
      "    File \"<frozen importlib._bootstrap>\", line 583, in module_from_spec\r\n",
      "    File \"/opt/conda/lib/python3.7/site-packages/setuptools/extern/__init__.py\", line 52, in create_module\r\n",
      "      return self.load_module(spec.name)\r\n",
      "    File \"/opt/conda/lib/python3.7/site-packages/setuptools/extern/__init__.py\", line 37, in load_module\r\n",
      "      __import__(extant)\r\n",
      "    File \"/opt/conda/lib/python3.7/site-packages/setuptools/_vendor/more_itertools/__init__.py\", line 1, in <module>\r\n",
      "      from .more import *  # noqa\r\n",
      "    File \"/opt/conda/lib/python3.7/site-packages/setuptools/_vendor/more_itertools/more.py\", line 5, in <module>\r\n",
      "      from concurrent.futures import ThreadPoolExecutor\r\n",
      "    File \"/tmp/pip-install-gxp3wl_w/futures_ff106939ddde4844ad17111a218918b2/concurrent/futures/__init__.py\", line 8, in <module>\r\n",
      "      from concurrent.futures._base import (FIRST_COMPLETED,\r\n",
      "    File \"/tmp/pip-install-gxp3wl_w/futures_ff106939ddde4844ad17111a218918b2/concurrent/futures/_base.py\", line 357\r\n",
      "      raise type(self._exception), self._exception, self._traceback\r\n",
      "                                 ^\r\n",
      "  SyntaxError: invalid syntax\r\n",
      "  ----------------------------------------\u001b[0m\r\n",
      "\u001b[33mWARNING: Discarding https://files.pythonhosted.org/packages/55/db/97c1ca37edab586a1ae03d6892b6633d8eaa23b23ac40c7e5bbc55423c78/futures-3.0.5.tar.gz#sha256=0542525145d5afc984c88f914a0c85c77527f65946617edb5274f72406f981df (from https://pypi.org/simple/futures/). Command errored out with exit status 1: python setup.py egg_info Check the logs for full command output.\u001b[0m\r\n",
      "\u001b[?25h  Downloading futures-3.0.4.tar.gz (25 kB)\r\n",
      "  Preparing metadata (setup.py) ... \u001b[?25l-\b \berror\r\n",
      "\u001b[31m  ERROR: Command errored out with exit status 1:\r\n",
      "   command: /opt/conda/bin/python3.7 -c 'import io, os, sys, setuptools, tokenize; sys.argv[0] = '\"'\"'/tmp/pip-install-gxp3wl_w/futures_46abb65b5dd248d6869bcc833c00bcc9/setup.py'\"'\"'; __file__='\"'\"'/tmp/pip-install-gxp3wl_w/futures_46abb65b5dd248d6869bcc833c00bcc9/setup.py'\"'\"';f = getattr(tokenize, '\"'\"'open'\"'\"', open)(__file__) if os.path.exists(__file__) else io.StringIO('\"'\"'from setuptools import setup; setup()'\"'\"');code = f.read().replace('\"'\"'\\r\\n'\"'\"', '\"'\"'\\n'\"'\"');f.close();exec(compile(code, __file__, '\"'\"'exec'\"'\"'))' egg_info --egg-base /tmp/pip-pip-egg-info-qznst4dk\r\n",
      "       cwd: /tmp/pip-install-gxp3wl_w/futures_46abb65b5dd248d6869bcc833c00bcc9/\r\n",
      "  Complete output (24 lines):\r\n",
      "  Traceback (most recent call last):\r\n",
      "    File \"<string>\", line 1, in <module>\r\n",
      "    File \"/opt/conda/lib/python3.7/site-packages/setuptools/__init__.py\", line 18, in <module>\r\n",
      "      from setuptools.dist import Distribution\r\n",
      "    File \"/opt/conda/lib/python3.7/site-packages/setuptools/dist.py\", line 32, in <module>\r\n",
      "      from setuptools.extern.more_itertools import unique_everseen\r\n",
      "    File \"<frozen importlib._bootstrap>\", line 983, in _find_and_load\r\n",
      "    File \"<frozen importlib._bootstrap>\", line 967, in _find_and_load_unlocked\r\n",
      "    File \"<frozen importlib._bootstrap>\", line 670, in _load_unlocked\r\n",
      "    File \"<frozen importlib._bootstrap>\", line 583, in module_from_spec\r\n",
      "    File \"/opt/conda/lib/python3.7/site-packages/setuptools/extern/__init__.py\", line 52, in create_module\r\n",
      "      return self.load_module(spec.name)\r\n",
      "    File \"/opt/conda/lib/python3.7/site-packages/setuptools/extern/__init__.py\", line 37, in load_module\r\n",
      "      __import__(extant)\r\n",
      "    File \"/opt/conda/lib/python3.7/site-packages/setuptools/_vendor/more_itertools/__init__.py\", line 1, in <module>\r\n",
      "      from .more import *  # noqa\r\n",
      "    File \"/opt/conda/lib/python3.7/site-packages/setuptools/_vendor/more_itertools/more.py\", line 5, in <module>\r\n",
      "      from concurrent.futures import ThreadPoolExecutor\r\n",
      "    File \"/tmp/pip-install-gxp3wl_w/futures_46abb65b5dd248d6869bcc833c00bcc9/concurrent/futures/__init__.py\", line 8, in <module>\r\n",
      "      from concurrent.futures._base import (FIRST_COMPLETED,\r\n",
      "    File \"/tmp/pip-install-gxp3wl_w/futures_46abb65b5dd248d6869bcc833c00bcc9/concurrent/futures/_base.py\", line 357\r\n",
      "      raise type(self._exception), self._exception, self._traceback\r\n",
      "                                 ^\r\n",
      "  SyntaxError: invalid syntax\r\n",
      "  ----------------------------------------\u001b[0m\r\n",
      "\u001b[33mWARNING: Discarding https://files.pythonhosted.org/packages/8d/73/b5fff618482bc06c9711e7cdc0d5d7eb1904d35898f48f2d7f9696b08bef/futures-3.0.4.tar.gz#sha256=19485d83f7bd2151c0aeaf88fbba3ee50dadfb222ffc3b66a344ef4952b782a3 (from https://pypi.org/simple/futures/). Command errored out with exit status 1: python setup.py egg_info Check the logs for full command output.\u001b[0m\r\n",
      "\u001b[?25h  Downloading futures-3.0.3.tar.gz (24 kB)\r\n",
      "  Preparing metadata (setup.py) ... \u001b[?25l-\b \berror\r\n",
      "\u001b[31m  ERROR: Command errored out with exit status 1:\r\n",
      "   command: /opt/conda/bin/python3.7 -c 'import io, os, sys, setuptools, tokenize; sys.argv[0] = '\"'\"'/tmp/pip-install-gxp3wl_w/futures_17028131ab724d96b8b824b1b4f0a00d/setup.py'\"'\"'; __file__='\"'\"'/tmp/pip-install-gxp3wl_w/futures_17028131ab724d96b8b824b1b4f0a00d/setup.py'\"'\"';f = getattr(tokenize, '\"'\"'open'\"'\"', open)(__file__) if os.path.exists(__file__) else io.StringIO('\"'\"'from setuptools import setup; setup()'\"'\"');code = f.read().replace('\"'\"'\\r\\n'\"'\"', '\"'\"'\\n'\"'\"');f.close();exec(compile(code, __file__, '\"'\"'exec'\"'\"'))' egg_info --egg-base /tmp/pip-pip-egg-info-ksc5b6w8\r\n",
      "       cwd: /tmp/pip-install-gxp3wl_w/futures_17028131ab724d96b8b824b1b4f0a00d/\r\n",
      "  Complete output (24 lines):\r\n",
      "  Traceback (most recent call last):\r\n",
      "    File \"<string>\", line 1, in <module>\r\n",
      "    File \"/opt/conda/lib/python3.7/site-packages/setuptools/__init__.py\", line 18, in <module>\r\n",
      "      from setuptools.dist import Distribution\r\n",
      "    File \"/opt/conda/lib/python3.7/site-packages/setuptools/dist.py\", line 32, in <module>\r\n",
      "      from setuptools.extern.more_itertools import unique_everseen\r\n",
      "    File \"<frozen importlib._bootstrap>\", line 983, in _find_and_load\r\n",
      "    File \"<frozen importlib._bootstrap>\", line 967, in _find_and_load_unlocked\r\n",
      "    File \"<frozen importlib._bootstrap>\", line 670, in _load_unlocked\r\n",
      "    File \"<frozen importlib._bootstrap>\", line 583, in module_from_spec\r\n",
      "    File \"/opt/conda/lib/python3.7/site-packages/setuptools/extern/__init__.py\", line 52, in create_module\r\n",
      "      return self.load_module(spec.name)\r\n",
      "    File \"/opt/conda/lib/python3.7/site-packages/setuptools/extern/__init__.py\", line 37, in load_module\r\n",
      "      __import__(extant)\r\n",
      "    File \"/opt/conda/lib/python3.7/site-packages/setuptools/_vendor/more_itertools/__init__.py\", line 1, in <module>\r\n",
      "      from .more import *  # noqa\r\n",
      "    File \"/opt/conda/lib/python3.7/site-packages/setuptools/_vendor/more_itertools/more.py\", line 5, in <module>\r\n",
      "      from concurrent.futures import ThreadPoolExecutor\r\n",
      "    File \"/tmp/pip-install-gxp3wl_w/futures_17028131ab724d96b8b824b1b4f0a00d/concurrent/futures/__init__.py\", line 8, in <module>\r\n",
      "      from concurrent.futures._base import (FIRST_COMPLETED,\r\n",
      "    File \"/tmp/pip-install-gxp3wl_w/futures_17028131ab724d96b8b824b1b4f0a00d/concurrent/futures/_base.py\", line 355\r\n",
      "      raise type(self._exception), self._exception, self._traceback\r\n",
      "                                 ^\r\n",
      "  SyntaxError: invalid syntax\r\n",
      "  ----------------------------------------\u001b[0m\r\n",
      "\u001b[33mWARNING: Discarding https://files.pythonhosted.org/packages/4c/dc/f9473006d4c9c52d4a4e977173fbcbfb1a8ef3a57e32e885edf994fd4a45/futures-3.0.3.tar.gz#sha256=2fe2342bb4fe8b8e217f0d21b5921cbe5408bf966d9f92025e707e881b198bed (from https://pypi.org/simple/futures/). Command errored out with exit status 1: python setup.py egg_info Check the logs for full command output.\u001b[0m\r\n",
      "\u001b[?25h  Downloading futures-3.0.2.tar.gz (24 kB)\r\n",
      "  Preparing metadata (setup.py) ... \u001b[?25l-\b \berror\r\n",
      "\u001b[31m  ERROR: Command errored out with exit status 1:\r\n",
      "   command: /opt/conda/bin/python3.7 -c 'import io, os, sys, setuptools, tokenize; sys.argv[0] = '\"'\"'/tmp/pip-install-gxp3wl_w/futures_0df4c753275e4476b7128c7b600e6223/setup.py'\"'\"'; __file__='\"'\"'/tmp/pip-install-gxp3wl_w/futures_0df4c753275e4476b7128c7b600e6223/setup.py'\"'\"';f = getattr(tokenize, '\"'\"'open'\"'\"', open)(__file__) if os.path.exists(__file__) else io.StringIO('\"'\"'from setuptools import setup; setup()'\"'\"');code = f.read().replace('\"'\"'\\r\\n'\"'\"', '\"'\"'\\n'\"'\"');f.close();exec(compile(code, __file__, '\"'\"'exec'\"'\"'))' egg_info --egg-base /tmp/pip-pip-egg-info-3idnn6zw\r\n",
      "       cwd: /tmp/pip-install-gxp3wl_w/futures_0df4c753275e4476b7128c7b600e6223/\r\n",
      "  Complete output (24 lines):\r\n",
      "  Traceback (most recent call last):\r\n",
      "    File \"<string>\", line 1, in <module>\r\n",
      "    File \"/opt/conda/lib/python3.7/site-packages/setuptools/__init__.py\", line 18, in <module>\r\n",
      "      from setuptools.dist import Distribution\r\n",
      "    File \"/opt/conda/lib/python3.7/site-packages/setuptools/dist.py\", line 32, in <module>\r\n",
      "      from setuptools.extern.more_itertools import unique_everseen\r\n",
      "    File \"<frozen importlib._bootstrap>\", line 983, in _find_and_load\r\n",
      "    File \"<frozen importlib._bootstrap>\", line 967, in _find_and_load_unlocked\r\n",
      "    File \"<frozen importlib._bootstrap>\", line 670, in _load_unlocked\r\n",
      "    File \"<frozen importlib._bootstrap>\", line 583, in module_from_spec\r\n",
      "    File \"/opt/conda/lib/python3.7/site-packages/setuptools/extern/__init__.py\", line 52, in create_module\r\n",
      "      return self.load_module(spec.name)\r\n",
      "    File \"/opt/conda/lib/python3.7/site-packages/setuptools/extern/__init__.py\", line 37, in load_module\r\n",
      "      __import__(extant)\r\n",
      "    File \"/opt/conda/lib/python3.7/site-packages/setuptools/_vendor/more_itertools/__init__.py\", line 1, in <module>\r\n",
      "      from .more import *  # noqa\r\n",
      "    File \"/opt/conda/lib/python3.7/site-packages/setuptools/_vendor/more_itertools/more.py\", line 5, in <module>\r\n",
      "      from concurrent.futures import ThreadPoolExecutor\r\n",
      "    File \"/tmp/pip-install-gxp3wl_w/futures_0df4c753275e4476b7128c7b600e6223/concurrent/futures/__init__.py\", line 8, in <module>\r\n",
      "      from concurrent.futures._base import (FIRST_COMPLETED,\r\n",
      "    File \"/tmp/pip-install-gxp3wl_w/futures_0df4c753275e4476b7128c7b600e6223/concurrent/futures/_base.py\", line 355\r\n",
      "      raise type(self._exception), self._exception, self._traceback\r\n",
      "                                 ^\r\n",
      "  SyntaxError: invalid syntax\r\n",
      "  ----------------------------------------\u001b[0m\r\n",
      "\u001b[33mWARNING: Discarding https://files.pythonhosted.org/packages/f8/e7/fc0fcbeb9193ba2d4de00b065e7fd5aecd0679e93ce95a07322b2b1434f4/futures-3.0.2.tar.gz#sha256=dc3fc91508e49e0fd2f8625f0132d16e49c80f882e7e1d565c56b0d5dfbae257 (from https://pypi.org/simple/futures/). Command errored out with exit status 1: python setup.py egg_info Check the logs for full command output.\u001b[0m\r\n",
      "\u001b[?25h  Downloading futures-3.0.1.tar.gz (24 kB)\r\n",
      "  Preparing metadata (setup.py) ... \u001b[?25l-\b \berror\r\n",
      "\u001b[31m  ERROR: Command errored out with exit status 1:\r\n",
      "   command: /opt/conda/bin/python3.7 -c 'import io, os, sys, setuptools, tokenize; sys.argv[0] = '\"'\"'/tmp/pip-install-gxp3wl_w/futures_e4b973428228452db55adce1fff81206/setup.py'\"'\"'; __file__='\"'\"'/tmp/pip-install-gxp3wl_w/futures_e4b973428228452db55adce1fff81206/setup.py'\"'\"';f = getattr(tokenize, '\"'\"'open'\"'\"', open)(__file__) if os.path.exists(__file__) else io.StringIO('\"'\"'from setuptools import setup; setup()'\"'\"');code = f.read().replace('\"'\"'\\r\\n'\"'\"', '\"'\"'\\n'\"'\"');f.close();exec(compile(code, __file__, '\"'\"'exec'\"'\"'))' egg_info --egg-base /tmp/pip-pip-egg-info-wyt318fq\r\n",
      "       cwd: /tmp/pip-install-gxp3wl_w/futures_e4b973428228452db55adce1fff81206/\r\n",
      "  Complete output (24 lines):\r\n",
      "  Traceback (most recent call last):\r\n",
      "    File \"<string>\", line 1, in <module>\r\n",
      "    File \"/opt/conda/lib/python3.7/site-packages/setuptools/__init__.py\", line 18, in <module>\r\n",
      "      from setuptools.dist import Distribution\r\n",
      "    File \"/opt/conda/lib/python3.7/site-packages/setuptools/dist.py\", line 32, in <module>\r\n",
      "      from setuptools.extern.more_itertools import unique_everseen\r\n",
      "    File \"<frozen importlib._bootstrap>\", line 983, in _find_and_load\r\n",
      "    File \"<frozen importlib._bootstrap>\", line 967, in _find_and_load_unlocked\r\n",
      "    File \"<frozen importlib._bootstrap>\", line 670, in _load_unlocked\r\n",
      "    File \"<frozen importlib._bootstrap>\", line 583, in module_from_spec\r\n",
      "    File \"/opt/conda/lib/python3.7/site-packages/setuptools/extern/__init__.py\", line 52, in create_module\r\n",
      "      return self.load_module(spec.name)\r\n",
      "    File \"/opt/conda/lib/python3.7/site-packages/setuptools/extern/__init__.py\", line 37, in load_module\r\n",
      "      __import__(extant)\r\n",
      "    File \"/opt/conda/lib/python3.7/site-packages/setuptools/_vendor/more_itertools/__init__.py\", line 1, in <module>\r\n",
      "      from .more import *  # noqa\r\n",
      "    File \"/opt/conda/lib/python3.7/site-packages/setuptools/_vendor/more_itertools/more.py\", line 5, in <module>\r\n",
      "      from concurrent.futures import ThreadPoolExecutor\r\n",
      "    File \"/tmp/pip-install-gxp3wl_w/futures_e4b973428228452db55adce1fff81206/concurrent/futures/__init__.py\", line 8, in <module>\r\n",
      "      from concurrent.futures._base import (FIRST_COMPLETED,\r\n",
      "    File \"/tmp/pip-install-gxp3wl_w/futures_e4b973428228452db55adce1fff81206/concurrent/futures/_base.py\", line 355\r\n",
      "      raise type(self._exception), self._exception, self._traceback\r\n",
      "                                 ^\r\n",
      "  SyntaxError: invalid syntax\r\n",
      "  ----------------------------------------\u001b[0m\r\n",
      "\u001b[33mWARNING: Discarding https://files.pythonhosted.org/packages/b2/2c/6b6a57379e47031c6f52e625e0e2b8f6702a8d1f61b6e0daee391e82c187/futures-3.0.1.tar.gz#sha256=f78f2ef458639d72a625cf9c7643cf5442bb222ac11c12bcc445c6ad1cd862e2 (from https://pypi.org/simple/futures/). Command errored out with exit status 1: python setup.py egg_info Check the logs for full command output.\u001b[0m\r\n",
      "\u001b[?25h  Downloading futures-3.0.0.tar.gz (24 kB)\r\n",
      "  Preparing metadata (setup.py) ... \u001b[?25l-\b \berror\r\n",
      "\u001b[31m  ERROR: Command errored out with exit status 1:\r\n",
      "   command: /opt/conda/bin/python3.7 -c 'import io, os, sys, setuptools, tokenize; sys.argv[0] = '\"'\"'/tmp/pip-install-gxp3wl_w/futures_e9f0b19340ef485cb25d1c8e4be4e0b9/setup.py'\"'\"'; __file__='\"'\"'/tmp/pip-install-gxp3wl_w/futures_e9f0b19340ef485cb25d1c8e4be4e0b9/setup.py'\"'\"';f = getattr(tokenize, '\"'\"'open'\"'\"', open)(__file__) if os.path.exists(__file__) else io.StringIO('\"'\"'from setuptools import setup; setup()'\"'\"');code = f.read().replace('\"'\"'\\r\\n'\"'\"', '\"'\"'\\n'\"'\"');f.close();exec(compile(code, __file__, '\"'\"'exec'\"'\"'))' egg_info --egg-base /tmp/pip-pip-egg-info-ifsredr4\r\n",
      "       cwd: /tmp/pip-install-gxp3wl_w/futures_e9f0b19340ef485cb25d1c8e4be4e0b9/\r\n",
      "  Complete output (24 lines):\r\n",
      "  Traceback (most recent call last):\r\n",
      "    File \"<string>\", line 1, in <module>\r\n",
      "    File \"/opt/conda/lib/python3.7/site-packages/setuptools/__init__.py\", line 18, in <module>\r\n",
      "      from setuptools.dist import Distribution\r\n",
      "    File \"/opt/conda/lib/python3.7/site-packages/setuptools/dist.py\", line 32, in <module>\r\n",
      "      from setuptools.extern.more_itertools import unique_everseen\r\n",
      "    File \"<frozen importlib._bootstrap>\", line 983, in _find_and_load\r\n",
      "    File \"<frozen importlib._bootstrap>\", line 967, in _find_and_load_unlocked\r\n",
      "    File \"<frozen importlib._bootstrap>\", line 670, in _load_unlocked\r\n",
      "    File \"<frozen importlib._bootstrap>\", line 583, in module_from_spec\r\n",
      "    File \"/opt/conda/lib/python3.7/site-packages/setuptools/extern/__init__.py\", line 52, in create_module\r\n",
      "      return self.load_module(spec.name)\r\n",
      "    File \"/opt/conda/lib/python3.7/site-packages/setuptools/extern/__init__.py\", line 37, in load_module\r\n",
      "      __import__(extant)\r\n",
      "    File \"/opt/conda/lib/python3.7/site-packages/setuptools/_vendor/more_itertools/__init__.py\", line 1, in <module>\r\n",
      "      from .more import *  # noqa\r\n",
      "    File \"/opt/conda/lib/python3.7/site-packages/setuptools/_vendor/more_itertools/more.py\", line 5, in <module>\r\n",
      "      from concurrent.futures import ThreadPoolExecutor\r\n",
      "    File \"/tmp/pip-install-gxp3wl_w/futures_e9f0b19340ef485cb25d1c8e4be4e0b9/concurrent/futures/__init__.py\", line 8, in <module>\r\n",
      "      from concurrent.futures._base import (FIRST_COMPLETED,\r\n",
      "    File \"/tmp/pip-install-gxp3wl_w/futures_e9f0b19340ef485cb25d1c8e4be4e0b9/concurrent/futures/_base.py\", line 354\r\n",
      "      raise type(self._exception), self._exception, self._traceback\r\n",
      "                                 ^\r\n",
      "  SyntaxError: invalid syntax\r\n",
      "  ----------------------------------------\u001b[0m\r\n",
      "\u001b[33mWARNING: Discarding https://files.pythonhosted.org/packages/ea/c9/35287369718fc05059e7a9d0d73c53745fe981010b4185b3858e7d46eff1/futures-3.0.0.tar.gz#sha256=d9cd7bb09aa01f0e4940af64c31fbd7045098b7b4354420d7838ea39e8b86ee3 (from https://pypi.org/simple/futures/). Command errored out with exit status 1: python setup.py egg_info Check the logs for full command output.\u001b[0m\r\n",
      "\u001b[?25h  Downloading futures-2.2.0-py2.py3-none-any.whl (16 kB)\r\n",
      "Building wheels for collected packages: goslate\r\n",
      "  Building wheel for goslate (setup.py) ... \u001b[?25l-\b \b\\\b \bdone\r\n",
      "\u001b[?25h  Created wheel for goslate: filename=goslate-1.5.4-py3-none-any.whl size=11595 sha256=930f297834e7d270e7ac13c454246acd4ab56ff75d719ec46ba5d53b56e5ea67\r\n",
      "  Stored in directory: /root/.cache/pip/wheels/7e/08/d5/88fc81ecccbff86db9b3dac7ca657c2cc64b5d10db421bd2a2\r\n",
      "Successfully built goslate\r\n",
      "Installing collected packages: futures, goslate\r\n",
      "Successfully installed futures-2.2.0 goslate-1.5.4\r\n",
      "\u001b[33mWARNING: Running pip as the 'root' user can result in broken permissions and conflicting behaviour with the system package manager. It is recommended to use a virtual environment instead: https://pip.pypa.io/warnings/venv\u001b[0m\r\n"
     ]
    }
   ],
   "source": [
    "!pip install goslate"
   ]
  },
  {
   "cell_type": "code",
   "execution_count": 2,
   "id": "74011761",
   "metadata": {
    "execution": {
     "iopub.execute_input": "2022-06-17T07:03:39.145753Z",
     "iopub.status.busy": "2022-06-17T07:03:39.139692Z",
     "iopub.status.idle": "2022-06-17T07:03:54.047736Z",
     "shell.execute_reply": "2022-06-17T07:03:54.046643Z",
     "shell.execute_reply.started": "2022-06-17T06:51:30.150678Z"
    },
    "papermill": {
     "duration": 14.943224,
     "end_time": "2022-06-17T07:03:54.048019",
     "exception": false,
     "start_time": "2022-06-17T07:03:39.104795",
     "status": "completed"
    },
    "tags": []
   },
   "outputs": [
    {
     "name": "stdout",
     "output_type": "stream",
     "text": [
      "Collecting translatepy\r\n",
      "  Downloading translatepy-2.3-py3-none-any.whl (814 kB)\r\n",
      "     |████████████████████████████████| 814 kB 622 kB/s            \r\n",
      "\u001b[?25hRequirement already satisfied: requests in /opt/conda/lib/python3.7/site-packages (from translatepy) (2.26.0)\r\n",
      "Collecting pyuseragents\r\n",
      "  Downloading pyuseragents-1.0.5-py3-none-any.whl (79 kB)\r\n",
      "     |████████████████████████████████| 79 kB 5.9 MB/s             \r\n",
      "\u001b[?25hCollecting safeIO>=1.2\r\n",
      "  Downloading safeIO-1.2.tar.gz (8.0 kB)\r\n",
      "  Preparing metadata (setup.py) ... \u001b[?25l-\b \bdone\r\n",
      "\u001b[?25hRequirement already satisfied: beautifulsoup4 in /opt/conda/lib/python3.7/site-packages (from translatepy) (4.10.0)\r\n",
      "Collecting inquirer>=2.8.0\r\n",
      "  Downloading inquirer-2.9.2-py3-none-any.whl (16 kB)\r\n",
      "Collecting python-editor>=1.0.4\r\n",
      "  Downloading python_editor-1.0.4-py3-none-any.whl (4.9 kB)\r\n",
      "Collecting blessed>=1.19.0\r\n",
      "  Downloading blessed-1.19.1-py2.py3-none-any.whl (58 kB)\r\n",
      "     |████████████████████████████████| 58 kB 3.2 MB/s             \r\n",
      "\u001b[?25hCollecting readchar>=2.0.1\r\n",
      "  Downloading readchar-3.0.5-py3-none-any.whl (7.0 kB)\r\n",
      "Requirement already satisfied: soupsieve>1.2 in /opt/conda/lib/python3.7/site-packages (from beautifulsoup4->translatepy) (2.3.1)\r\n",
      "Requirement already satisfied: certifi>=2017.4.17 in /opt/conda/lib/python3.7/site-packages (from requests->translatepy) (2021.10.8)\r\n",
      "Requirement already satisfied: idna<4,>=2.5 in /opt/conda/lib/python3.7/site-packages (from requests->translatepy) (3.1)\r\n",
      "Requirement already satisfied: charset-normalizer~=2.0.0 in /opt/conda/lib/python3.7/site-packages (from requests->translatepy) (2.0.9)\r\n",
      "Requirement already satisfied: urllib3<1.27,>=1.21.1 in /opt/conda/lib/python3.7/site-packages (from requests->translatepy) (1.26.7)\r\n",
      "Requirement already satisfied: wcwidth>=0.1.4 in /opt/conda/lib/python3.7/site-packages (from blessed>=1.19.0->inquirer>=2.8.0->translatepy) (0.2.5)\r\n",
      "Requirement already satisfied: six>=1.9.0 in /opt/conda/lib/python3.7/site-packages (from blessed>=1.19.0->inquirer>=2.8.0->translatepy) (1.16.0)\r\n",
      "Building wheels for collected packages: safeIO\r\n",
      "  Building wheel for safeIO (setup.py) ... \u001b[?25l-\b \b\\\b \bdone\r\n",
      "\u001b[?25h  Created wheel for safeIO: filename=safeIO-1.2-py3-none-any.whl size=6745 sha256=f10ec256a2d49b00c0bfea95700c25ad609cd45cb000a260ac2409b2c1b384f5\r\n",
      "  Stored in directory: /root/.cache/pip/wheels/18/d7/5e/94b4ff1a846e09f8b4d6f8348c15d5cea7dd951ca04dc4433b\r\n",
      "Successfully built safeIO\r\n",
      "Installing collected packages: readchar, python-editor, blessed, safeIO, pyuseragents, inquirer, translatepy\r\n",
      "Successfully installed blessed-1.19.1 inquirer-2.9.2 python-editor-1.0.4 pyuseragents-1.0.5 readchar-3.0.5 safeIO-1.2 translatepy-2.3\r\n",
      "\u001b[33mWARNING: Running pip as the 'root' user can result in broken permissions and conflicting behaviour with the system package manager. It is recommended to use a virtual environment instead: https://pip.pypa.io/warnings/venv\u001b[0m\r\n"
     ]
    }
   ],
   "source": [
    "!pip install --upgrade translatepy"
   ]
  },
  {
   "cell_type": "markdown",
   "id": "672c1817",
   "metadata": {
    "papermill": {
     "duration": 0.040896,
     "end_time": "2022-06-17T07:03:54.132534",
     "exception": false,
     "start_time": "2022-06-17T07:03:54.091638",
     "status": "completed"
    },
    "tags": []
   },
   "source": [
    "# **Importation des bibliothèques**"
   ]
  },
  {
   "cell_type": "code",
   "execution_count": 3,
   "id": "ff4bc5e7",
   "metadata": {
    "execution": {
     "iopub.execute_input": "2022-06-17T07:03:54.217882Z",
     "iopub.status.busy": "2022-06-17T07:03:54.217187Z",
     "iopub.status.idle": "2022-06-17T07:03:54.696739Z",
     "shell.execute_reply": "2022-06-17T07:03:54.696110Z",
     "shell.execute_reply.started": "2022-06-17T06:51:37.925848Z"
    },
    "papermill": {
     "duration": 0.525073,
     "end_time": "2022-06-17T07:03:54.696903",
     "exception": false,
     "start_time": "2022-06-17T07:03:54.171830",
     "status": "completed"
    },
    "tags": []
   },
   "outputs": [],
   "source": [
    "from translatepy import Translator"
   ]
  },
  {
   "cell_type": "code",
   "execution_count": 4,
   "id": "90ed01b0",
   "metadata": {
    "execution": {
     "iopub.execute_input": "2022-06-17T07:03:54.782341Z",
     "iopub.status.busy": "2022-06-17T07:03:54.781383Z",
     "iopub.status.idle": "2022-06-17T07:03:54.788008Z",
     "shell.execute_reply": "2022-06-17T07:03:54.788814Z",
     "shell.execute_reply.started": "2022-06-17T06:51:37.934642Z"
    },
    "papermill": {
     "duration": 0.052958,
     "end_time": "2022-06-17T07:03:54.789077",
     "exception": false,
     "start_time": "2022-06-17T07:03:54.736119",
     "status": "completed"
    },
    "tags": []
   },
   "outputs": [],
   "source": [
    "from goslate import Goslate\n",
    "import time"
   ]
  },
  {
   "cell_type": "markdown",
   "id": "144ce9eb",
   "metadata": {
    "papermill": {
     "duration": 0.039248,
     "end_time": "2022-06-17T07:03:54.870058",
     "exception": false,
     "start_time": "2022-06-17T07:03:54.830810",
     "status": "completed"
    },
    "tags": []
   },
   "source": [
    "# **Développement du code**"
   ]
  },
  {
   "cell_type": "code",
   "execution_count": 5,
   "id": "6d939f5e",
   "metadata": {
    "execution": {
     "iopub.execute_input": "2022-06-17T07:03:54.953531Z",
     "iopub.status.busy": "2022-06-17T07:03:54.952861Z",
     "iopub.status.idle": "2022-06-17T07:03:54.956426Z",
     "shell.execute_reply": "2022-06-17T07:03:54.955874Z",
     "shell.execute_reply.started": "2022-06-17T06:51:37.957852Z"
    },
    "papermill": {
     "duration": 0.048715,
     "end_time": "2022-06-17T07:03:54.956589",
     "exception": false,
     "start_time": "2022-06-17T07:03:54.907874",
     "status": "completed"
    },
    "tags": []
   },
   "outputs": [],
   "source": [
    "class Traduction :\n",
    "    \"\"\"\n",
    "    The Translation class returns, from a given text, \n",
    "    its translation into English.\n",
    "    \"\"\"\n",
    "    \n",
    "    def english(self, text) :\n",
    "        \"\"\"Use of goslate library to translate text to English\"\"\"\n",
    "        text = self.translator.translate(text.replace(\"\\n\", \" \"), \"English\")\n",
    "        return text\n",
    "    \n",
    "    def __init__(self):\n",
    "        # self.gs = Goslate()\n",
    "        self.translator = Translator()"
   ]
  },
  {
   "cell_type": "markdown",
   "id": "0b1f6707",
   "metadata": {
    "papermill": {
     "duration": 0.03981,
     "end_time": "2022-06-17T07:03:55.036355",
     "exception": false,
     "start_time": "2022-06-17T07:03:54.996545",
     "status": "completed"
    },
    "tags": []
   },
   "source": [
    "# **Exécution du code**"
   ]
  },
  {
   "cell_type": "code",
   "execution_count": 6,
   "id": "6cf7a96f",
   "metadata": {
    "execution": {
     "iopub.execute_input": "2022-06-17T07:03:55.121160Z",
     "iopub.status.busy": "2022-06-17T07:03:55.120400Z",
     "iopub.status.idle": "2022-06-17T07:03:55.988783Z",
     "shell.execute_reply": "2022-06-17T07:03:55.989554Z",
     "shell.execute_reply.started": "2022-06-17T06:51:37.968878Z"
    },
    "papermill": {
     "duration": 0.914074,
     "end_time": "2022-06-17T07:03:55.989801",
     "exception": false,
     "start_time": "2022-06-17T07:03:55.075727",
     "status": "completed"
    },
    "tags": []
   },
   "outputs": [
    {
     "name": "stdout",
     "output_type": "stream",
     "text": [
      "Toilet code: 0322 Starbucks Fünffe Amtest Hoffee Germany SH.20.0.& Co. KG connector plates 21 53111 Bonn 100832 CH 2284 22Sepp’15 12:45 Fr Heer 1 relay run Ö 4.49 + clown figure Gamma 1 tazochakatattus1y 4.79 + Clowfatmiikcalv bar 10.00 0.72 Muts.EO 19% 4.49 Netto |3.77.0.76 Muts.19% 4.19 Net 4,03 Suboptimal 9.28 Payment 9.28 Tempery 072 Tax number 2/1849/2293 Exchange only with treasurer!Thanks for your visit!Now download the Starbucks Alp and many lake A those available for i0s & Android\n",
      "0.8605084419250488\n"
     ]
    }
   ],
   "source": [
    "epson = open(\"../input/textes/EPSON090.txt\",\"r\", encoding=\"utf-8\")\n",
    "text =\"\"\n",
    "for line in epson.readlines():\n",
    "    text = text + line\n",
    "# print(text)\n",
    "start = time.time()\n",
    "traduction = Traduction()\n",
    "print(traduction.english(text))\n",
    "end = time.time()\n",
    "print(end-start)"
   ]
  },
  {
   "cell_type": "code",
   "execution_count": 7,
   "id": "64b9c036",
   "metadata": {
    "execution": {
     "iopub.execute_input": "2022-06-17T07:03:56.076144Z",
     "iopub.status.busy": "2022-06-17T07:03:56.074773Z",
     "iopub.status.idle": "2022-06-17T07:04:00.620527Z",
     "shell.execute_reply": "2022-06-17T07:04:00.621315Z",
     "shell.execute_reply.started": "2022-06-17T06:51:39.139652Z"
    },
    "papermill": {
     "duration": 4.587175,
     "end_time": "2022-06-17T07:04:00.621596",
     "exception": false,
     "start_time": "2022-06-17T07:03:56.034421",
     "status": "completed"
    },
    "tags": []
   },
   "outputs": [
    {
     "name": "stdout",
     "output_type": "stream",
     "text": [
      "Key Trends and Challenges of Cloud Computing in 2021 01 JAN 2021 Vol.     Digital Services Issue Report 01 Key Trends and Challenges of Cloud Computing in 2021 03 │Representative of TechFrontier 02 Distributed Cloud, Its Background and Future Prospects 09 │Professor Yoon Dae-kyun Aju University 03 Selection Criteria and Latest Trends in the Enterprise Cloud 16 │Senior Program Manager Kim Young-wook 04 Cloud Activist in CES 2021 26 │Doan-gu TechSuda Editor-in-Chief This production is copyrighted by the Digital Services Utilization Support System. Some or all of the contents of the issue report may not be used for any other purpose without the approval of the Digital Service Utilization Support System. Digital Services Issue Report 01 Key Trends and Challenges of Cloud Computing in 2021 │ Representative of TechFrontier Han Sang The new normal, the post-corona, the era shift brought about by the pandemic and so on continues, but the share of IT technology at the center of this discussion is higher than ever. Digital services, especially cloud computing, have been at the center of all change, whether in the public sector or in the private sector, and digital telephones are rapidly becoming a challenge in an era where companies and governments have no choice.  Therefore, I think it is very meaningful at this point to look at the key trends in cloud computing in 2021 and the challenges that need to be solved in the future. This article summarizes the major issues of cloud computing in 2021 predicted by experts in terms of the 2021 Cloud Computing Outlook for 2021 in a variety of professional magazines and media, including InfoWorld, CNN, Forbes, TechHQ, Datamation, and other professional magazines and media, based on reports from market forecasting agencies such as Gartner. The global public cloud infrastructure market, where the cloud is at the center of overcoming the pandemic, is expected to grow by 35% in 2021 to reach $1.20 billion.1) In a global pandemic situation, the transition to the cloud is accelerating for all enterprises and organizations, and this will happen more rapidly in 2021.  Forrester's previous forecast was $1.131 billion for 28 percent growth, but that number has been increased. Without cloud apps, tools, services, and businesses, millions of employees wouldn't be able to work from home, manage the global supply chain, and migrate the entire business model in a matter of weeks. Etsy chose the Google Cloud to handle the traffic rushing to e-commerce, Lowe created a pickup app in 3 days, and Moderna used AWS to accelerate its COVID-19 vaccine research.  During this period, public cloud companies experienced rapid revenue growth, with AWS growing by 29 percent, Microsoft Azure by 47 percent, Google Cloud by 43 percent, and Alibaba by 59 percent. The global public cloud is now ranked 3rd by Alibaba, behind AWS and Azure.  Alibaba's growth is attributed to the digitalization of all industries and enterprises in China, with the Internet, finance and retail industries in particular being considered the main growth drivers. 1) Forrester Research, \"Predictions 2021,\" Oct 2020 3 Digital Services Issue Report However, the demand for cloud professionals will increase more and more, recognizing that the transition to cloud computing is not just an automatic improvement in performance or cost savings, and that it must be repeatedly optimized and aligned with the company's current and future goals with security concerns in the first place. Gartner predicts that in 2021, the growth in the cost of global IT into the cloud will accelerate even further.  The cost of public cloud usage by end users around the world is expected to reach $3,049 billion, an increase of 18 percent.2) Of these, the SaaS market is expected to account for the largest share, with 16 percent growth at $1,178 billion and the PaaS market at $555 billion, growing by 26.6 percent. IaaS is expected to grow by 26.9% to become a $653 billion market. The growth of PaaS is expected to be further accelerated by the remote work environment, which is seen as a change in the strategic direction of the company in order to get the most out of its financial benefits. According to a study by Flexera, companies have expanded their use of the cloud more than planned because of COVID-19.3) (Figure 1) Figure 1 Increased cloud usage due to COVID-19 [Source: Flexera] 2) CRN, \"10 Future Cloud Computing Trends To Watch In 2021,\" Nov 20, 2020 3) Flexera, \"Flexera Releases 2020 State of Cloiud Report,\" Apr 28, 2020 4 Digital Services Issue Report Forrester predicts that edge computing is a new cloud edge and that new business models are expected to emerge that drive edge adoption. In particular, we believe that the use of the edge will be expanded by the efforts of cloud platforms, artificial intelligence and 5G. Dell, HPE, IBM, and Intel will focus on edge-based solutions, and CDNs and data center colocation vendors will provide edge computing services at hundreds or thousands of local points. Frost & Sullivan predicts that by the second half of 2021, 90% of enterprises in the industrial sector will use edge computing, and the proliferation of 5G will significantly spark demand for cloud-edge applications.4 More tasks will be replaced by edge-based, smart sensor data and artificial intelligence processes for small-scale machine learning tasks. Centralized clouds will continue, but serverless computing models and distributed services will power new real-time IT applications around the cloud. Enterprises will look at the network edge to fill the gap between the centralized cloud and the end user, and they will want to deliver low-latency applications and content performance wherever they work. As a result, the integration of a broad range of cloud computing and a distributed edge strategy is expected to be a key area of innovation that will continue in 2021. In addition, this trend allows enterprises to embrace a distributed application environment, further emphasizing security and user protection at the enterprise network edge. IBM/Red Hat, HPE, and Microsoft will invest more in the strategic 5G/Edge/AI platform they launched in 2020, and NVIDIA, which acquired Arm, will also expand its portfolio of solutions further towards the edge. AI Engineering Gartner noted in its 2021 Top Strategic Technology Trends report that companies and institutions need to use a robust AI engineering strategy to ensure that AI projects don't fail.5 Without AI engineering, most organizations believe that AI projects won't go from a proof of concept or prototype to a full-fledged product or service. 4) Frost and Sullivan, \"5G and Edge Computing-Cloud Workloads Shifting to the Edge, Forecast to 2024,\" Aug 2020 5) Gartner, \"Gartner Top Strategic Technology Trends for 2021,\" Oct 19, 2020 5 Digital Services Issues Report Artificial intelligence projects are often unsuccessful due to maintenance, scalability, and governance issues, and powerful AI engineering can help ensure that models achieve performance, scalability, interpretability, and reliability and have the full value of their AI investments.  AI engineering can make AI a part of the mainstream DevOps process, rather than a special, separate project. There are three important elements here: DataOps, Model Ops, and DevOps. DevOps primarily deals with high-speed code changes, but that's because AI projects experience dynamic changes in code, models, and data.  DevOps principles need to be applied across data pipelines for DataOps and machine learning models, collectively referred to as MLOps. When it comes to governance and AI engineering, reliable AI is emerging as an umbrella, which must address AI risks, trust, transparency, ethics, fairness, interpretability, accountability, safety and compliance. It must now move beyond declarations and principles to the stage of full-scale implementation of how the responsibilities of AI should be addressed at the organizational and social levels. To avoid the subordination of hybrid, multi-cloud, and joint services enterprises for enterprises to a single cloud enterprise, in 2021 they will be looking to move away from being subordinated to a specific cloud vendor by leveraging hybrid and multicloud or joint cloud services. Already, these strategies are becoming mainstream, and Flexera confirms that 93 percent of enterprises are adopting a multi-cloud strategy, while 87 percent are adopting a hybrid cloud strategy. Already, AWS, Microsoft, and Google are attracting enterprises through hybrid/multicloud offerings, and private cloud-focused companies such as IBM, HPE, Cisco, Dell EMC, and VMware are looking to protect their market share by offering hybrid/multicloud integration with major public cloud service companies. Still, the area is in a state of consumption, and it doesn't appear that AWS' Outpost or Google's Antos will significantly boost its market share. Multicloud and hybrid clouds will enable enterprises to share data with or access their partners' data, making it interoperable even in environments that use a variety of applications and data standards.  This area can lead to the emergence of new innovations in startups, and the emergence of services that can make the operational process simpler among different platform providers. 6 Digital Services Issue Report Building an Open Ecosystem for Big Tech Companies The recent moves by the U.S. government and the European Union to regulate and legislate Amazon, Microsoft, Google, etc. are likely to affect the cloud strategy of big tech companies as well.  Major cloud companies will increasingly reduce strategic acquisitions and focus more on building an ecosystem based on open partnerships. This would be an effort to escape the suspicion that potential competitors have been thwarted through mergers and acquisitions.  They will act as back-end fulfilment agents and help ensure that partner-led enterprise deals are made. Through these moves, we will strengthen stronger partnerships and linkage with innovative startups and medium-sized enterprises that are more competitive so that we can spread our influence while calming the controversy over the growing discipline and excessive dominance of the giants. Cloud Gaming Amazon also recently unveiled a service that offers cloud gaming.  Now, just like streaming music or video from the cloud, cloud gaming will drastically change the way you play games, making your vast library of games accessible through a monthly subscription fee. In 2020, Google, Microsoft, Nvidia, Sony and others have provided their services, and while new game consoles like Xbox and Sony Flation are coming out, most experts predict that cloud gaming will be the flagship service rather than a gaming service that changes devices every few years at such a high cost. However, how quickly the best-selling quality games that people can be excited about will be a judgment on how quickly they can accelerate this trend, and the touchstone will be available this year. More people are using virtual desktops to work from home, subscription economics, and the cloud will reduce the amount of hardware people need for work and ensure that the most up-to-date software is always available at the right level on the desktop. Desktop-as-a-Service is now a service offered by most public cloud companies. Services based on Amazon's Workspace, Microsoft's Windows Virtual Desktop, and Google's Chromebook are among the main service groups. In fact, these services allow employees to use the latest and most concurrent, integrated technologies to increase the efficiency of the entire workforce. It also allows for the management of the security of all devices in a medium-pressure centralized manner in the 7 Digital Services Issue Report, and the flexibility to increase or decrease the cost of just the time an employee joins or leaves the company. Even for domestic companies and institutions, the review of virtual desktop services in earnest will naturally emerge as an important issue as the work environment changes in the age of COVID-19. 8 Digital Services Issue Report 02 Distributed Cloud, Its Background and Future Prospects │Professor Yoon Dae-kyun Aju University Background Distributed Cloud Comes into the Spotlight Gartner publishes a major strategic technology trend that may be a hot topic the following year each year. Not just technology, but also the impact it can have on the industry as a whole, and even the life changes that ordinary people will encounter, can be seen through the analysis of these trends. As a strategic technology for 2021, we presented 9 keywords. These 9 are divided into 3 topics: Ÿ People Centricity Ÿ Location Independence Ÿ Resilient Delivery The background of the theme in the above three categories is the unprecedented COVID-19 pandemic. With direct contact between people restricted, most companies are moving into telecommuting in earnest, and even in front-line training settings, non-face-to-face remote teaching has become the \"new standard\" and there has been a growing interest in the skills needed to operate it effectively. In the field of services, what is commonly referred to as the user experience has become the focus on experiences optimized for each field, such as the Customer Experience, Patient Experience, and Employee Experience, and the term Total Experience has also emerged.  In addition, the frequency with which individuals are exposed online has increased and privacy has become more emphasized. This is described as a \"people-oriented\" category. With the ubiquity of telecommuting and non-face-to-face remote teaching, it is now necessary to be able to work from anywhere, regardless of location, and to be able to achieve a certain level of performance despite unexpected changes in circumstances.  Technologies for this are included in the \"Location Independent\" and \"Resilient Delivery\" categories.  The transition to a non-face-to-face situation can also make things that previously didn't require special consideration be an important factor in the success or failure of a job. An example is an in-person test. Cheat supervision, which was not a problem in the traditional testing method, which was done in a closed space in one place, is a big issue in a non-face-to-face situation. This is because observing the behavior of the examinee is virtually impossible in a hyper-confrontational environment. This has led to the emergence of new services to address this.  Automated solutions that use artificial intelligence to observe users are included in this category of 9 Digital Services Issue Reports. If we look at this from another angle, it is that the division of work is actually taking shape in many areas.  \"Exam proctoring\" will be differentiated into separate functions in the large category of work of education, forming a new market. Unbundling, and the ability to automate these differentiated functions by effectively combining them so that they can effectively respond to new requirements is a technique referred to in \"Resilient Delivery.\" Non-face-to-face remote work is becoming commonplace and the concept of commuting to work is changing. Once you're networked and have basic access equipment, your place of work will be where you are. In fact, there have been confirmed cases of software engineers with jobs in San Francisco buying homes and working from home in San Diego, where the cost of their homes is much cheaper.  This is true not only for employees, but also for customers. No matter where the customer is located, regardless of their physical location, the business must be able to run smoothly. Strategic techniques for this are covered in Gartner on the topic of \"location irrelevance.\" The 3 major themes Gartner proposed are not independent of each other, but are correlated or partially redundant.  Many users will encounter these strategic technologies through the cloud. The role of the cloud is absolutely critical, especially for business operations independent of physical location. Many enterprises operate their own on-premises infrastructure alongside the public cloud, or simultaneously operate a private cloud that is compatible with the public cloud in a more evolved form. Hive Lead Cloud use cases that utilize both public and private clouds at the same time vary widely.  Typical examples include security issues.  Data that is sensitive to security issues, such as personal information and company secrets, is stored in a dedicated private cloud for added security, while other data is stored in the public cloud for scalability and flexibility. It also has a dedicated cloud in the center or not far away from the institution to perform tasks that require a reliably short response time. This is to eliminate the lag factor on the Internet. As telecommuting becomes the new standard in the way we do things, the homework that can come out is how to overcome these use cases.  Would it be possible to work from home normally if an employee who has a job in San Francisco and works from home in San Diego needs to perform a task that is very sensitive to response times, such as requiring a response within a few hundred microseconds?  In such a situation, it would be almost impossible to work from home reliably. To solve this, however, we can't even build a dedicated private cloud near the San Diego home where our employees live. What are your employees in Phoenix, Arizona? Who is an employee who goes abroad and works from home? In order to respond to these requirements, the Distributed Cloud will receive 10 digital services issue reports. That's why public cloud vendors are working to further expand and distribute their existing region-based services to accommodate diverse needs from any location. What is a distributed cloud? \"Cloud computing\" has traditionally implied the meaning of centralized computing. The basic concept of cloud computing is to keep storage and computing resources in one place and efficiently bring them together as needed.  Therefore, the very call \"distributed cloud\" contradicts cloud computing. There are just two important reasons why many enterprises/institutions are using the public cloud for a growing share: Ÿ Efficient utilization of computing resources: Scaling up and down based on demand without the burden of infrastructure investment Ÿ Leveraging a variety of the latest technologies and features: leveraging the capabilities that are pre-delivered in the cloud Enabling the enterprise/institution to focus on developing unique business functions Distributed cloud is the distributed cloud that has \"decentralized\" the ability to service as close as possible to \"customers\" in more locations locally, while retaining the strength of these cloud computing services \"for the most part\". This concept already existed with the expansion of the Hive Lead Cloud. In particular, with the recent commercialization of 5G, the interest in edge computing is increasing, and the expansion of distributed cloud can be seen as foreseen. As mentioned in the background description, the COVID-19 pandemic has accelerated this even further, making it one of the strategic technology trends in 2021. At Gartner, we differentiate distributed clouds into several styles: Ÿ On-premises public cloud: Public cloud services built within the enterprise/institution site Ÿ IoT edge cloud: cloud services for edge devices Ÿ Metro-Area Community Cloud: Cloud services for customers in urban or metropolitan areas Ÿ 5G Mobile Edge Clouds: Cloud services offered within the carrier network Ÿ Global network Edge Clouds:  Of the above 5 types of cloud services offered in places such as routers, base stations, and hubs in the network infrastructure, the expression \"on-premises public cloud\" seems very awkward. This is because it contains two incompatible words, \"on-premises\" and \"public.\" In Gartner, it's probably a private cloud 6) Gartner, \"Top Strategic Technology Trends for 2021\", 2020 11 Digital Services Issue Report, but it's understood to mean receiving Managed Services provided by public cloud vendors. In fact, major cloud vendors are offering all of these managed services. Metro Area Community Service is a concept that extends regional services to areas that are particularly in high demand. For example, Amazon AWS first launched its Local Zone service in the Los Angeles region of the United States at the end of 2019.7 Due to the regional nature, the development of the entertainment media industry is intended to respond to customer demand for greater storage access and reduced latency. It was also taken into account that there are many employees working remotely in the area. For local-zone services, some of the cloud functionality offered in the region is region-customized.  For the aforementioned San Diego remote workers, if you have a nearby San Diego area local zone service, this will provide a more pleasant and responsive work environment. In Gartner's proposed form of distributed cloud, the most talked about is the edge cloud. In fact, it is edge computing that has become a full-fledged topic of distributed claud. A common feature is to provide cloud services as close to the end device as possible to minimize the latency caused by the network between the device and the cloud. So how close should it be? There is no common standard for this. Every time you go through a network device, it is usually added by hops, which I think meets the criteria of an edge cloud if you limit it to a maximum of one hop, or if you can connect directly through the equipment without delays. Fog Computing, the first proposed proposal by network equipment manufacturer Cisco, is a concept almost identical to edge cloud. The edge cloud is a more specific look at 5G services as they are in full swing. Of particular note from a distributed cloud perspective is the cloud services offered by public cloud service vendors through carriers. Physically, the most common form and easily understandable way is to build a public cloud vendor's services within a carrier's own data center and deliver it to its customers. A prime example is the AWS Wavelength Zone.8 Placing \"small\" AWS in the carrier zone to run AWS applications that meet 5G's ultra-reliable low-latency (URLLC) criteria. It is currently offered through Verizon in the United States, KDDI in Japan, and SKT in South Korea.  In the case of Microsoft-operated Azure, it is provided through the Azure Edge Zone service.9) Azure Edge Zone can be used as a managed private cloud service, depending on where it is located, as well as the mobile operator, or as a metro such as AWS Local Zone 7) Businesswire, \"AWS Announces First AWS Local Zone in Los Angeles\", Dec 03, 2019 8) https://aws.amazon.com/wavelength/ 9) https://azure.microsoft.com/ko-kr/solutions/low-latency-edge-computing/ 12 Digital Services Issue Report Community Extension. In other words, it is typical of a distributed cloud. (Figure 2) Figure 2 Distributed Cloud Example: Microsoft Azure Edge Zone (Picture Source Microsoft) The most visible form of distributed cloud in the future will consist of multiple edge clouds.  Add to that the managed private cloud service, and the region-specific public cloud extension service, which is what distributed cloud services look like today and in the near future. Distributed Cloud Service Use Cases The need for distributed clouds has already been mentioned to some extent earlier, but looking at them on a case-by-case basis can also help you develop a cloud strategy in the future. IBM has outlined the distributed cloud use cases as follows:10 Ÿ Gain and manage the visibility of hybrid/multi-cloud: Facilitate the integrated management of hybrid/multi-cloud for enterprises and institutions. Ÿ Efficient expansion and agility: Expanding a data center or setting up a new location requires a large investment and takes a long time. With distributed clouds, cloud scaling that operates in the same way can be done quickly and cost-effectively. 10) IBM, \"Distributed cloud\", Nov 3, 2020 13 Digital Services Issue Report Ÿ Compliance Response Required in a Specific Industry or Region: If there is a stipulation that personal information cannot be stored in a location other than the country in which the person is located, it is easy to respond to this regulation through a distributed cloud.  In addition, you can meet compliance issues that are specific to a variety of locations or regions, while still applying the same techniques and methods as you would if you were leveraging an existing public cloud. Ÿ Fast content delivery: Contents delivery network (CDN) performance can be effectively increased, thus enhancing the user experience in streaming services, which is the current trend of content consumption. Ÿ IoT and Artificial Intelligence/Machine Learning Applications: Enables real-time demanding applications such as smart factories, smart buildings, autonomous vehicles, and healthcare, which are cited as key use cases for edge computing. The use case of distributed clouds is bound to overlap significantly with edge computing. It is by no means unreasonable to define a collection of multiple edge clouds as a distributed cloud.  The classification of hybrid/multi-cloud as a major use case for distributed clouds is believed to be a picture of what cloud adoption in the enterprise was like when it became more full-fledged and is IBM's marketing message to the enterprise market. Distributed Cloud Outlook In describing distributed clouds, we can already guess at the direction of development of distributed clouds to some extent. You should keep an eye on the strategies of public cloud service vendors. Large cloud service vendors such as AWS and Azure will be looking for distributed cloud services in a form that can be managed in a unified manner in the same way as traditional global cloud operations. AWS WaveStrength Zone or Azure Edge Zone are examples of distributed cloud services designed in this direction. From a usecase perspective, the proliferation of edge cloud-centric and hybrid/multi-cloud expansion is expected to be active at the same time. While the spread of 5G is being delayed more than expected due to factors such as COVID-19, edge clouds centered on carriers are expected to spread rapidly. Currently, edge cloud services operated by cloud service vendors within the telco domain are the main pillars, but there will certainly be an attempt by carriers in the future to internalize these cloud services on their own and transition to a new revenue model. I wonder how this result will change the game in the cloud market in the future. Hybrid cloud adoption will continue to expand significantly. According to a survey in a cloud report published annually,11 87% of all enterprises have a hybrid cloud adoption strategy. Hybrid CLA 11) Flexera, \"Flexera 2020 State of the Cloud Report\", 2019 14 Digital Services Issue Report Aiming for Wood presupposes the construction of a private cloud. In other words, hybrid cloud expansion is directly linked to the proliferation of distributed clouds.  The proliferation of edge clouds by carriers and the expansion of hybrid clouds that accompany the adoption of 5G are the two pillars that drive distributed clouds. Figure 3 Strategies for Leveraging Enterprise Cloud Services (Source: Flexera 2020 State of the Clout Report) There is also a very interesting view of the expansion of distributed clouds. As enterprises expand the adoption of hybrid claud, some of the public cloud capabilities will exist on-premises in the form of a smaller cloud. This \"small cloud\" is actually a dedicated cloud for an enterprise or institution that can be utilized in much the same way as the public cloud. This is the current stage of leveraging hybrid clouds, and the next step is to make it available to neighbors around you.[12] Of course, it's difficult for the average business to pursue it easily. However, a hybrid cloud run by a public institution, library, or university is a viable scenario. This will naturally allow more users to see the benefits of distributed clouds. Forecasting the size of the distributed cloud market separately does not seem appropriate right away. This is because there are so many different assumptions involved, that even if you look at the size of the market, you don't deserve the insights you can get here. However, due to the COVID-19 pandemic, changes in the way we work, new services, and the ongoing proliferation of edge computing and hybrid clouds, there are already plenty of conditions in place to pay attention to distributed clouds. Existing public cloud service vendors and carriers are moving very quickly.  Companies are quickly adapting to this rapid move. Meanwhile, companies that provide final services will also be able to adapt to this trend and embrace the change.  The digital services marketplace where these services are distributed should also be evaluated for how well they are doing in the future in the response to distributed clouds. 12) Gartner, \"The CIO's Guide to Distributed Cloud\", Aug 12, 2020 15 Digital Services Issue Report 03 Criteria for Choosing the Cloud for Enterprise and the Latest Trends Senior Program Manager Kim Young-Wook Corporate CEO's Perspective on Responding to the Cloud Transition The world of COVID-19 has forced enterprises to implement digital transformation (hereinafter abbreviated as 'DT') more quickly. At the heart of the DT is the 'Transition to the Cloud' option, which appears first, and there is an atmosphere in which it is understood as if the transition to the cloud completes DT. In the last 1-2 years, the cloud market has experienced explosive growth both quantitatively and qualitatively. It's not just the introduction of a new technology, it's the choice of a technology that has the core survival to keep a company's business going. Gartner said, \"By 2021, more than 85 percent of enterprise organizations will use cloud services to perform business-critical functions.13 As this trend continues to accelerate, the enterprise cloud market is changing very clearly compared to 1 year ago. In the midst of such a change, many companies' top-level leadership is divided among groups in their opinions about what tasks should be prepared and executed first in the cloud transition, and there is a lot of new confusion that comes with it. Suppose you are the CEO of a company.  As a tech-savvy CEO, think about who and what you need to ask if you want to move to the cloud and successfully achieve your business goals. In response to this question, McKinsey says that you should advise your company's chief information/technology officer on three perspectives: a. Building a funding model for the investments needed to get business value from the cloud or developing a new business model that leverages the cloud for speed, agility, and scalability. Establishing the compensation policies needed to attract and retain the professional engineers needed to operate the cloud The CEO's question on top of establishing the compensation policies needed to attract and retain the professional engineers needed to operate the cloud is whether the CEO will use it to create what value the enterprise will create before discussing the cloud technology itself. It's about focusing. 13) Gartner Webinar, Ed Anderson, \"Top Cloud Adoption Trends to Advance Digital Transformation\", Sep 03, 2020 14) McKinsey Article, \"Three actions CEO scan take to get value from cloud computing\", Jul 21, 2020 16 Digital Services Issue Report.  With this perspective, we want to explore which tasks should be considered for the transition first in the enterprise's cloud transition, as well as the trends in cloud choice for enterprises in 2020. 5 Criteria for Cloud Choice What should be the selection criterion when a company wants to adopt a cloud solution is not a luxurious brochure that explains that the brand of the cloud platform provider that provides the solution or the consulting firm promises a shiny future. Moreover, it is clear that the case of the introduction of other companies such as \"Someone introduced this cloud in this way, and there was as much work efficiency as this\" is also a material that should be accepted conservatively. As a company that provides a cloud solution for an enterprise and you plan the product yourself, I recommend that the best scenario is to review whether the following 5 cloud transition top priorities are ready to be implemented to the cloud, and to make a rational plan that aligns with the business situation of the enterprise. The platform service provider that can best support that essential task should then be the criterion for selection. (Figure 4) Figure 4 Five Criteria for Choosing an Enterprise Cloud Platform 17 Digital Services Issue Report a. Enterprise essential applications such as ERP, CRM, SCM, and HCM that support collaboration and content management to sustain all the basic businesses of a company are the first to be considered for conversion. In addition to this, office solutions that facilitate basic collaboration, such as Office 365 or Google G Suite, need to be moved to the cloud. Because these basic applications are applied broadly and horizontally to the organization, they have the optimal cloud effect. The cloud-based collaboration model enables more remote access and satisfies the resilience requirements of work.  In addition, the cloud migration of the vast amount of content (documents, images, multimedia, etc.) that a company has should also be a top priority, as this is something that needs to be done with a very careful review of the legal, governance and licensing models. Sometimes it can be difficult to fully move content management to the cloud, but even with these exceptions, you don't need to rethink your basic cloud transition. B. Mobility and videoconferencing-enabled Using mobile devices to access a company's key services and data is essential in a situation where remote work has become the new standard. Just as the demand for video conferencing technology has been immense in the context of COVID-19, for remote workers, mobile devices and video conferencing are tools to keep their most important work going. In line with the characteristics of mobile services with fluctuating demand, variable usage patterns and video conferencing requiring high network occupancy, an adaptive cloud operating model allows for flexible adjustment of the demand.  If mobility and video conferencing solutions need to reliably support essential tasks, we recommend choosing a hyperscale Claude provider. Before doing that, you need to carefully compare and review the cloud-native technologies and operating models, and the full capabilities of the cloud platform, to clearly set expectations. The important thing to remember is that supporting mobility doesn't increase the utilization of mobile devices together.  In order to support mobile devices, the first priority is to solve not only the existing application, but also the massive technical debt of the new business application (general technology, UX, UI, design, manual). Supporting Virtual Desktop and Remote Management A virtual desktop or virtualization solution is a tool that IT administrators use as a standardization within the enterprise by separating physical desktop systems from their personal environments, which is actually the most important aspect that enables remote operations.  It allows individuals to access their work applications and documents and stay connected from any location.  Until now, it has often been offered as a data center service for enterprises, but cloud-based desktop virtualization technology has already advanced a lot, providing more reliable scalability than traditional data center solutions. 18 Digital Services Issue Report d. Disaster Recovery and Business Continuity Support Cloud-based failover solutions that support rapid system recovery in the event of an unexpected failure have evolved into a form that pays only for what is currently used, which is not only cost-effective, but also provides a variety of options for the consumer and the service provider to ensure maximum continuity of business-critical operations after a failure.  Only 12 percent of attendees of Gartner's \"Business Continuity\" webinar said business operations are progressing normally due to COVID-19.15 In other words, it's not too much to think that this number represents a company's cloud conversion rate. The fact that the workplace is managed in multiple replications alone ensures that the cloud is inherently resilient and has greater resource availability than most common data centers can support. E. Scalability support of the application The application can achieve scalability by quickly and simply adding computing resources to meet the growing demand as needed. This demand for scalability has greatly contributed to the transition of data center applications to cloud platforms for enterprises, and this shift in IT operating models has led to a business case that increases the credibility of cloud platforms. The cloud is perceived as the preferred environment for hosting enterprise applications with varying usage or scaling requirements. Accenture's \"5 Factors of Cloud Value16\" also cited \"scalability\" as the most important cloud value factor. Trends in Choosing Cloud Solutions The trend of choosing cloud in the enterprise cloud market has begun to take shape in the mainstream since 2019, when companies have shown a special interest in their chief executives. Of course, the trend has become more pronounced throughout 2020, with new technologies being introduced and tried rapidly, especially in Asia. ActionChew's survey shows that on average, more than 90 percent of leaders in the Asia-Pacific region are more approachable and interested in cloud opportunities, as shown in Figure 517. In particular, the interest of these leaders is very peculiar in that they are evenly distributed across all cloud technologies. As a Korean company, it can be said that it is a very agreeable part. 15) Gartner,Gartner Business Continuity Survey Shows Just 12 Percent of Organizations Are Highly Prepared for Coronavirus\", Mar 10, 2020 16) Accenture Article, Kunal Shah, Yaron Raps, \"Cloud adoption settosoar in emerging markets\", Sep 21, 2020 17) Accenture Future Systems research study, 2019 19 Digital Services Issue Report Figure 5 Accenture Future Systems research study,  2019) So let's take a look at 4 of the main trends in how the enterprise cloud solutions market is changing. A. The criteria for companies choosing cloud solutions are becoming very wise. Until 2019, the top leadership team's selection criteria for choosing a cloud solution were often very vague.  It's true that the transition project was initiated with the exaggerated conventional wisdom that the transition to the cloud itself would \"save a lot of money\" while also vastly improving the outcome of the business. The change in 2020 is that only the top leadership no longer has the power to decide, but is much included in the opinions of the working group.  In addition to the company's executive staff, working with a number of consulting firms and market experts to develop the best transition plan for the company, they will first discuss whether they can meet the agility and resiliency of their work, based on clear business objectives and realistic expectations at the selection threshold.  Of course, \"cost\" is still an important issue in the final decision, but an attempt is also needed to analyze the current asset operating situation and to compare the cost of cloud adoption in installments between the total cost of ownership (TCO) and the return on investor's return on investment (ROI).  The Gartner survey (18) emphasizes that the initial cloud transition was more expensive than on-premises, and that after that, you should continue to work on how to operate and learn to reduce costs.  As Figure 6 shows, the effect is that after about 3 years in general, the total cost of ownership is saved by 55%.  18) Gartner Research, Marco Meinardi, \"How to Developa Business Case for the Adoption of Public Cloud IaaS\", Nov 21, 2018 20 Digital Services Issue Report Figure 6 The Cost of Cloud Transition in 3 Years Example B. The concept is expanding as hybrid clouds lead the market. The hybrid cloud model with the concept of being divided into public and private clouds is evolving. As Figure 7 shows, it's moving into a hybrid IT model that manages and integrates multiple existing assets together, not just multiple public and private clouds, but also cloud environments (on-premises, hosting services, non-clouds). Figure 7 Evolution of the Hybrid Cloud Model The new hybrid model looks much more complex as it contains 5 evolved concepts, but it's worth recognizing that this in itself is aligned with the goals of digital transformation. 21 Digital Services Issue Report (1) Location: Integrating cloud services running in different physical locations in the enterprise (2) Technology: Integrating heterogeneous hardware/software technologies (3) Control: Federating multiple physically abstract management points (4) Ownership: Ownership and management of integrated services (5) Operating Model: Integrating operating models such as public, private, and on-premises, new suites of solutions that respond to this evolved hybrid model are popping up on the market under the name 'Packaged Hybrid Cloud'. It combines the private and public clouds into one and serves them as separate entities, a technology that brings multiple complex cloud environments together as a virtualized cloud. Depending on the entity model it offers, it can be divided into two types: suites that repackage their public models to fit the customer's environment, such as AWS or Microsoft solutions, and solutions that can be offered in the form of software containers, such as Google or VMware, to run on multiple cloud platforms. (Figure 8) Figure 8 Package Hybrid Cloud The market is reacting quickly, perhaps as companies with existing assets can address some of the biggest concerns of the cloud transition. 22 Digital Services Issue Report c. The transition to a multi-cloud model is fast. When we started the cloud transition, we had high hopes that we could make our business processes and operations more \"simple and simple,\" and as a result, a single cloud strategy became popular. Over the past 1-2 years, companies have learned that \"the cloud operating model must be based on the company's business strategy and real-world situation, and it is impossible to get everything from a single cloud provider.\"  Enterprises can use multi-cloud environments to distribute computing resources and minimize the risk of downtime and data loss. You can flexibly increase compute performance and storage, avoid having to be all tied to one provider, and choose and use best-of-breed features to get the most out of your work. As it is also an operating model that favors the transition to the hybrid model described above, most of the recent enterprise cloud choices choose a multi-cloud strategy. Despite the many advantages of a multicloud operating model, there are also many relative disadvantages that need to be considered in advance compared to a single claud.  Table 1 below summarizes the relative disadvantages of multi-cloud and the relative advantages of a single cloud. Multi-cloud single cloud Ÿ risk can be distributed. Ÿ The complexity of the risk is reduced. Ÿ The supplier is not lock-in. Costs Ÿ Operating costs, management costs increase. Ÿ Volume discounts are available when purchasing. Ÿ Cross-platform development/operation skills required Ÿ Can focus on a single platform / required. Ÿ Platform-specific operation tools with no additional purchase cost Ÿ Multicloud-enabled tools are required. It is possible with the tool. Ÿ You need to write the right application for your cloud. Ÿ The cloud-only application is easy to create and manage similar kinds of applications that are supported by the application Ÿ. Sean increases. Table 1 Considerations for Choosing a Multi-Cloud Operating Model 23 Digital Services Issue Report d. A Bimodal cloud strategy for catching two rabbits in an orderly manner is emerging. Where the initial cloud model saw new IT possibilities and made the transition, it is now evolving into a bimodal approach that builds on that technology and focuses on new business possibilities. Bimodal is a way of managing two separate but consistent ways of working, primarily the first mode values the stability and sustainability of the current state and the next mode focuses on the future value of the predictable and makes progress. As shown in Figure 9 below, it is a strategy to first achieve stability and reliability in line with current business objectives, and then move to the next mode: agility, flexibility, and innovation. Figure 9 A Bimodal Approach to Cloud Evolution An important point is the need to innovate while growing both IT capabilities and business interests. As shown in the example in Table 2 below, it is recommended to divide the IT and business parts into a way to set goals and measure the benefits/benefits associated with them. 24 Digital Services Issue Report IT Profits/Benefits Business Profits/Benefits Ÿ Ability to Reduce IT Costs Ÿ Increase Sales and Improve Profitability Ÿ Greater Transparency About IT Costs. Ÿ Be responsive to changes in the market ÿ Ability to take advantage of new Ÿ time-to-market technologies for new projects and prototypes without having to wait for the next release cycle ÿ Improve customer satisfaction ÿ Improve IT availability and resilience ÿ Improve productivity ÿ Improve the ability to respond to scalability needs ÿ Ability to support new business initiatives ÿ Ability to reallocate IT personnel to other projects Ÿ Ease of operating in new global regions Table 2 Example of Setting Targets for Vimodels The four trends described above show a very clear flow in the enterprise cloud solutions market, but other technologies that are also actively being discussed and experimented with in the enterprise computing or distributed cloud models. Importantly, however, all of these technology and operational tendencies have not been sufficiently validated in terms of effectiveness and productivity. According to the McKinsey report, only 14 percent of the top executives at companies undergoing DT have made sustained performance improvements over the years[19], so they think they will experience a more pronounced effect by the end of 2021 or so. Finalization In 2021, many new and mature technologies will help companies transition to the cloud to support the best performance of their businesses. In order for such technologies and operations to be experienced with distinct business value, it is necessary to practice using methods such as bimodal cloud strategies to set the desired IT outcome benefits and the resulting business outcome benefits as reasonable targets before the introduction of the technology. It also requires the efforts of engineers who are proficient in a variety of cloud technologies. These exercises and efforts should be the basis for a select selection of cloud technology providers or partners to co-create innovative outcomes and build a successful digital transformation. The goal of a company's transition to the cloud is not to move or replace existing assets they are currently using to the cloud, but ultimately to transform them into a much more intelligent enterprise. Creating new business value using new IT technologies should be the end goal. 19) McKinsey Article- Jayne Giemzo, Mark Gu, James Kaplan, Lars Vinter, \"How CIO sand CTO scan accelerate digital transformations through cloud platforms\",Sep 15, 2020 25 Digital Services Issue Report 04 Cloud Activists in CES 2021 Editor-in-Chief of the Consumer Technology Association;  The CES 2021 event organized by the CTA has come to an end. Due to the unprecedented COVID-19 pandemic, it was the first time ever been 100% digital. This year, more than 1,900 observers participated to cover a broad spectrum of technologies, and there are more than 100 conference sessions where you can hear from industry leaders about their visions for a better future. The official event will be Thursday, January 11-14, U.S. Eastern Time, but access to digital platforms and on-demand content will be through Feb. 15. Gary Shapiro, CTA Chairman and CEO, commented, \"The pandemic has forced us to move away from the traditional way CES was conducted and innovate the way we bring the global tech community together.  CES took on a new look this year, but its roots are still deeply rooted in innovation, connectivity, and collaboration. Even if CES returns to Las Vegas in 2022, digital transformation will continue in the years to come. At this year's CES, we discovered the value of digital connectivity. We are very welcome to have people from all over the world who were physically unable to participate at CES come together digitally.\" He said. CES 2021, a 100% digital event due to COVID-19, showcased innovations and products across a wide range of technology industries, from automotive to digital health, 5G and smart cities. Presented exclusively to media participants on Monday, January 11, Media Day featured nearly 20 press conferences by brands around the world to showcase smart homes that become homes, offices, exercise spaces, sustainable products for a safer future, and innovations in transportation and mobility to get a glimpse into CES 2021 trends and themes. As it was a 100% digital event, the development and operation of the site was of paramount importance. The cloud partner at the event is Microsoft.  Microsoft leveraged its Azure cloud infrastructure to make it possible for anyone in the world to participate. In addition to the company's sole presentation video, if you were giving a discussion keynote presentation or a multi-person conference, Microsoft Teams used Microsoft Teams, a Microsoft collaborative software as a service (SaaS).  Q&A and real-time press conferences were also arranged. The video of the presentation was supported with subtitles in 17 languages. Hangul translation still had a lot to improve, and for the first time, I noticed a lack of progress in the field of image processing.  Because of the buffering, it was difficult to immerse. CTAs and many companies have made it available to customers around the world who have not registered their 26 Digital Services Issue Reports through simultaneous transmission to YouTube. The CTA has said it wants to proceed in Las Vegas, USA, as scheduled in the coming 2022, but with a surge in coronavirus confirmed cases in the winter months, and a vaccine is available, it is necessary to bring it up to roughly 60% of the population for herd immunity. 100% digital is something we want to end up with this once, but we are likely to meet 100% digital in 2022. We're already looking forward to seeing how much it improves in the coming year.  In the midst of much discussion, it was also a place to see how quickly the world is changing due to COVID-19 and how much the cloud and AI are contributing in it. Figure 10 Figure 10 State of Digital Acceptance in Each Sector Due to COVID-19 CTA Steve Koenig, Vice President of Research, and Lesley Rohrbaugh, Director of Research, exclusively disclosed the contents of the U.S. Consumer Technology Sales & Forecasts at the 2021 Technology Trends to Watch during Media Day.20 According to the data, the U.S. technology industry retail sales revenue in the U.S. will grow by 4.3% per year, reaching $4.61 billion in 2021, as well as the forecast that retail sales sales in the U.S. will grow by 4.3% per year, reaching $4.61 billion in 2021.  During the pandemic, millions of Americans will stay at home and rely on technology, he said, with streaming services, 5G connectivity and digital health devices expected to stand out in the tech sector in 2021. 20) 2021 Tech Trand 27 Digital Services Issue Report As we spend more time at home, telecommuting and remote work hours, we are spending more time and money on games and online streaming services. Downloads of gaming apps have increased by more than 30 percent annually, and 45 percent of consumers are using more online streaming services at home.21 Cloud and AI Roles Further Highlights Disney's new OTT service, DisneyPlus, announced in early October 2020 that it had 7.37 million subscribers. At the time of its Plus launch, Disney had expected to reach 60 million to 90 million subscribers by 2024. However, thanks to the impact of COVID-19 and the use of cloud infrastructure, we have reached our 3-year goal in just 1 year.  That's just five months of Netflix's seven-year acquisition of 50 million subscribers, and it's a testament to just how powerful the aftermath of COVID-19 is. Experts estimate that underlying this change is the cloud and artificial intelligence. Mastercard CEO Michael Miebach and Accenture CEO Julie Sweet, who delivered the keynote address on the theme of \"Future Reimagined,\" emphasized this in particular. The size of U.S. e-commerce has also increased rapidly. U.S. e-commerce revenue in the second quarter was $2,115 billion (251.2 trillion won), up a whopping 31.8 percent from the previous quarter's $1,603 billion (190.4 trillion won). According to the U.S. Commerce Department, total retail sales for the third quarter of 2020 are forecast to be $1.4.689 trillion, and e-commerce sales in the same quarter accounted for 14.3% of total sales. That's a 36.7 percent increase over e-commerce sales in the third quarter of 2019.22 Mastercard CEO Michael Mievac said, \"A year ago, the share of e-commerce in the U.S. was about 13 percent of all retail transactions. But in 1 year, it was 20%. We had a lot of digital payment tools in place, and we had cloud-based e-commerce services that were able to respond well to the explosion in online consumption.\" Julie Sweet Accenture, CEO, said: \"There are two important factors in terms of technology: the cloud and artificial intelligence. Even before the coronavirus, the cloud transition was an issue, but the pace has accelerated dramatically. We're witnessing what is going to happen in 10 years going on in just 2 weeks or 1 year.  If cloud adoption is 20% today, it is expected to reach an average of 80% of large enterprises by 2025. As a global business platform in the digital age, the cloud is indispensable.\" (Figure 11) 21) McKinsey, Meet the Next Normal Consumer, April 2020 22) https://www.census.gov/retail/mrts/www/data/pdf/ec_current.pdf 28 Digital Services Issues Report Figure 11 The U.S. Department of Commerce Reveals E-Commerce Ratio of Retail in Q3 2020 He also highlighted the role of artificial intelligence. \"With a multitude of problems popping up at the same time, including supply chain disruptions, changes in consumer behavior, and data explosions, AI is increasing the understanding and prediction of different kinds of tasks, and enabling proactive responses through proactive simulations. As the role of the public part grows, the role of artificial intelligence in automation to communicate with many citizens is also huge.\" The two CEOs emphasized that digital leadership is important during these upheavals. The breadth, depth, and speed of digital adoption, and the culture that makes it possible, are more important than anything else.  Before Corona, Accenture surveyed 10 industries and 8,000 companies around the world, with the top 10 percent performing twice as well as the bottom 25 percent. Depending on which leader you are, you can gain a competitive advantage overnight during these upheavals. This is not just a matter of technology. The role of leaders in how to apply the underlying infrastructure of cloud and artificial intelligence to existing businesses, or how to leverage them if they enter a new business, is important, and these leaders should pay particular attention to the changes in the behavior of markets, consumers and customers due to COVID-19. One of the highlights of the event was the actions of Amazon and Google. The irony has arisen that the most digitally optimized companies did not participate properly in events that were 100% digital. In the last 3-4 years, the invisible protagonists of CES events have been Amazon and Google. At CES in 2017, the company unveiled Alexa, Amazon's AI assistant, and its devices and APIs, and in 2020, it was possible to meet a number of device vendors with the \"built-in Amazon\" mark throughout the 2020 CES venue. Google, which first participated in CES in 2018, has been involved in consecutive years in 2019 and 2020, showcasing its commitment to 29 digital services issue reports in the AI assistant showdown with Amazon.  Google's chase to catch Amazon ahead of them caught the attention of many.  Neither Samsung Electronics nor LG Electronics were distracted by the introduction of a cloud-based AI assistant service called Bixby and ThinkCura. Other consumer electronics companies, as well as startups and healthcare-related service companies around the world who participated in the event, all pushed the integration of voice-activated assistants based on cloud-based infrastructure as the biggest feature. But at CES, \"built-in Amazon, built-in Google\" was hard to find. Consumer electronics companies also made use of experience-oriented booths after the announcement, but in the context of the digital transition, they did not invest in setting up sets using innovative VR and AR. In view of the fact that the use of these devices maximizes the sense of immersion, I wonder if the event will be a step forward when the event is also set up digitally in 1 year. LG Electronics ThinkQ 'Open Innovation' Sold Out LG Electronics' announcement that caught the eye during LG Electronics' announcement was LG ThinQ, which is evolving into an intelligent lifestyle platform 'app'. LG Electronics has expanded the platform ecology of the LG ThinkQ app by cooperating with various partners on the basis of open innovation. The app goes beyond simply controlling the appliances and makes everyday life more convenient for customers. LG Electronics has announced that it is working with global food companies Nestle and Kraft-Heinz to help customers purchase food using the LG ThinkQ app. We also introduced the 'Scan-to-Cook' function, which allows you to find the best recipe by photographing the barcode of the food ordered on your smartphone. LG Electronics has also partnered with U.S. home service provider HomeAdvisor to offer a service in the LG ThinkQ app that applies to install appliances in your home in a different space. The LG ThinkQ app is constantly evolving and introducing new services based on customer value, including the addition of Proactive Customer Care to optimally manage household appliances in 2020.  Based on artificial intelligence technology, the proactive service analyzes the operating status of the product and detects and informs the expected failure in advance. LG Electronics is embedding a WiFi chip in most of its appliances coming out in 2020 and weaving them together to enable monitoring. In the case of washing machines, the type and weight of the laundry are also identified so that the minimum use of water can be used in advance, or that we can respond in advance before it breaks down. Park Il-pyeong, CTO of LG Electronics, said he would be more committed to open innovation through open partnerships. The event also offered a glimpse into how humanity is responding in the age of COVID-19.  In the era of the COVID-19 30 Digital Services Issue Report, the various devices needed and the area of digital health received the most attention. It also emphasized that the company is also using cloud infrastructure for the development of COVID-19 vaccines and for the production of masks and anti-epidemic goods. Speaking as the keynote speaker, AMD CEO Lisa Sue said, \"A number of scientists have joined us to learn how AMD-donated AMD Epic (EPYC) processes and 12 petaflops of computing power supported by AMD Radeon Instinct are contributing to the study of the pandemic, including COVID-19.\" In the face of the catastrophe facing humanity, the cloud and artificial intelligence are helping to make a breakthrough. The event was a place to check out that cross-section. \n",
      "4.528003454208374\n"
     ]
    }
   ],
   "source": [
    "zh = open(\"../input/textes/zh.txt\",\"r\", encoding=\"utf-8\")\n",
    "text =\"\"\n",
    "for line in zh.readlines():\n",
    "    text = text + line\n",
    "# print(text)\n",
    "start = time.time()\n",
    "traduction = Traduction()\n",
    "print(traduction.english(text))\n",
    "end = time.time()\n",
    "print(end-start)"
   ]
  },
  {
   "cell_type": "code",
   "execution_count": 8,
   "id": "904b3bd1",
   "metadata": {
    "execution": {
     "iopub.execute_input": "2022-06-17T07:04:00.709514Z",
     "iopub.status.busy": "2022-06-17T07:04:00.708486Z",
     "iopub.status.idle": "2022-06-17T07:04:01.192055Z",
     "shell.execute_reply": "2022-06-17T07:04:01.191377Z",
     "shell.execute_reply.started": "2022-06-17T06:51:45.767882Z"
    },
    "papermill": {
     "duration": 0.530244,
     "end_time": "2022-06-17T07:04:01.192205",
     "exception": false,
     "start_time": "2022-06-17T07:04:00.661961",
     "status": "completed"
    },
    "tags": []
   },
   "outputs": [
    {
     "name": "stdout",
     "output_type": "stream",
     "text": [
      "COVID-19 Epidemiological update - Situation as of March 4, 2020 - 4 p.m. Public Health France, as part of its surveillance, vigilance and alert missions in the fields of public health, analyzes the surveillance data of COVID-19 (infections to SARS-CoV-2) from its network of partners. The indicators resulting from these data are presented in this Epidemiological Update posted on the website. Surveillance is based on the reporting of possible and confirmed cases (meeting the case definition) by clinicians, Samu Centers 15 and medical biology laboratories. The case definition and risk areas are updated on the site. The information is transmitted to the ARS and centralized at the national level by Public Health France. Key points  Worldwide More than 93,076 confirmed cases including 3,202 deaths ►  In France 285 confirmed cases including 4 deaths ► 12 regions (including 1 overseas) report confirmed cases Public Health France ► thanks the partners Close of 60% of confirmed cases linked to a group of surveillance cases ► COVID-19 Regional health agencies (ARS) Situation in France Hospital and private doctors Figure 1. Evolution of the number of confirmed COVID-19 cases reported to Public Health France by date of report, France, 03/04/2020 (4 p.m.) (n=256 cases recorded out of 285) Samu Centers 15 Hospital medical biology laboratories Emergency biological intervention unit (CIBU) National reference center (CNR) - Viruses of respiratory infections (including influenza) as well as learned societies of infectiology, resuscitation and emergency medicine Date of notification ent Situation as of March 4, 2020 - 4 p.m. Page 1 Epidemiological update COVID-19 Epidemiological assessment in France  285 confirmed cases have been reported, of which 172 can be linked to a group of cases (60%)  Six situations of groupings of cases have been observed : − Les Contamines-Montjoie (Haute-Savoie): 12 cases including 6 French − La Balme-de-Sillingy (Haute-Savoie): 30 confirmed cases − Crépy-en-Valois / Creil (Oise): 99 confirmed cases − Mulhouse (Haut-Rhin): 10 confirmed cases − Morbihan (3 towns): 14 confirmed cases − Grouping of cases after returning from an organized trip to Egypt: 13 confirmed cases Table 1. Characteristics of confirmed cases of COVID-19, France, 4/03/2020 (4 p.m.) Confirmed cases Number of cases 285 Of which admitted to intensive care 15 (5.3%) Of which death 4 (1.4%) Identified exposure Cases linked to clusters of cases 172 Cases linked to areas of active broadcasting abroad 39 * (directly or indirectly) Demographic data Gender M/F ratio 1.1 Age groups Under 18 60 (21%) 18-64 148 (52%) 65-74 31 (11%) 75 and plus 46 (16%) Auvergne-Rhône-Alpes region 49 Burgundy-Franche-Comté 16 Brittany 23 Centre-Val de Loire 0 Corsica 0 Grand Est 38 Hauts-de-France 65 Ile-de-France 55 Normandy 2 New Aquitaine 5 Occitanie 9 Pays de la Loire 7 Provence-Alpes-Côte d'Azur 13 Total Métropole 282 Guadeloupe 3 Guyana 0 Martinique 0 Mayotte 0 Reunion 0 Total Overseas 3 * these data no longer take into account cases related to travel to Egypt which were counted so far Situation as of 4 March 2020 - 4 p.m. Page 2 Epidemiological update COVID-19 International situation On 31/12/2019, the WHO was informed by the Chinese authorities of g riddled with pneumonia. The majority of cases were linked to a live animal market in the city of Wuhan (Hubei region) in China: the Huanan South China Seafood Market. On 07/01/2020, a new coronavirus (SARS-CoV-2) was identified as the cause of this COVID-19 disease. The importation of COVID-19 cases from China into other countries was seen early in the outbreak in Wuhan, but has intensified since mid-February. As of March 4, 2020, 77 countries have reported 93,076 confirmed cases, of which 3,202 have died (3.4%). Figure 2. Worldwide distribution of confirmed cases of COVID-19, 4/03/2020, 8 a.m. (source ECDC) Table 2. Geographical distribution of confirmed cases of COVID-19 and deaths, 4/03/2020, 8 a.m. (source ECDC ) Affected countries (n) Confirmed cases (n) Deaths (n) Asia - Middle East 27 88 777 3,101 China 80 380 2,983 Europe 34 3,368 85 Italy 2,502 80 Africa 6 11 0 Americas 8,172 9 Oceania 2 43 1 Total* 77 93,076 3,202 * including the 705 cases (including 6 deaths) reported in connection with cruise ships Situation as of March 4, 2020 - 4 p.m. 2 Director of publication Prof. Geneviève Chêne Editorial team Julie Figoni Find all the prevention tools intended for Fatima Aït El Belghiti for health professionals and the general p ublic Didier Che Patrick Rolland With all Public Health France teams at national and regional levels To find out more about the COVID-19 epidemic Press contact Vanessa Lemoine ► In France: Public Health France and Ministry of Solidarity and Health Tel: +33 (0)1 55 12 53 36 presse@santepubliquefrance.fr ► Internationally: WHO and ECDC Diffusion Public Health France ► A toll-free number 0 800 130 000 (free call) has been set up (7 days /7 24 hours a day). This pla- 12 rue du Val d'Osne gives you information on COVID-19 and advice if you have 94415 Saint-Maurice Cedex traveled to an area where the virus is circulating or rubbed shoulders with people who have traveled there. Tel: +33 (0)1 41 79 67 00 www.santepubliquefrance.fr Situation as of 4 March 2020 - 4 p.m. Page 4 Epidemiological update COVID-19\n",
      "0.47257447242736816\n"
     ]
    }
   ],
   "source": [
    "covid = open(\"../input/textes/COVID19_PE_20200304.txt\",\"r\", encoding=\"utf-8\")\n",
    "text =\"\"\n",
    "for line in covid.readlines():\n",
    "    text = text + line\n",
    "# print(text)\n",
    "start = time.time()\n",
    "traduction = Traduction()\n",
    "print(traduction.english(text))\n",
    "end = time.time()\n",
    "print(end-start)"
   ]
  },
  {
   "cell_type": "code",
   "execution_count": 9,
   "id": "f1b2d693",
   "metadata": {
    "execution": {
     "iopub.execute_input": "2022-06-17T07:04:01.282479Z",
     "iopub.status.busy": "2022-06-17T07:04:01.281748Z",
     "iopub.status.idle": "2022-06-17T07:04:07.777406Z",
     "shell.execute_reply": "2022-06-17T07:04:07.778170Z",
     "shell.execute_reply.started": "2022-06-17T06:51:46.260479Z"
    },
    "papermill": {
     "duration": 6.544958,
     "end_time": "2022-06-17T07:04:07.778463",
     "exception": false,
     "start_time": "2022-06-17T07:04:01.233505",
     "status": "completed"
    },
    "tags": []
   },
   "outputs": [
    {
     "name": "stdout",
     "output_type": "stream",
     "text": [
      "1 -  2 . 3 0.00001% of the voting rights (which corresponds to 14 voting rights) are held by the Company pursuant to Article 22, Paragraph 1, Sentence 1, No. 4 0.00001% of the voting rights (which corresponds to 257 voting rights) are attributable to the Company pursuant to Section 22 para. 5 00:00 DGAP-AFR: AGROB Immobilien AG: Announcement pursuant to section 37v, 37w, 37x ff. WpHG with the aim of Europe-wide distribution 29.12.6\t 00.00 - Turn off the iPad: One hour before bedtime, blue light such as that from the iPad must be avoided. 01.00 am - Sleep: If you go to sleep later, you need an emergency lie about why they slept.' 7\t 0:0 (0:0) Table There were not many clear goal scenes in the sixteenth, both defensive rows were quite sure.' 8\t 00:00: End of the live ticker Today we will end the live ticker of the events surrounding the attack on the French satirical magazine \"Charlie Hebdo\". 9 00:04 On display is a crying, white-clothed prophet holding a poster with the inscription «Je suis Charlie» in his hands\t 00:05Petkovic: \"Rio is my big goal\" No trace of retreat, Andrea Petkovic will continue her career 11\t 00.05: ARD television correspondent Ellis Fröder cannot confirm the number of 35 deaths that circulate in the meantime 12\t 00:09: Serbia cuts off truck traffic from Croatia According to Interior Minister Nebojsa Stefanovic, Serbia does not want to let cargo vehicles from Croatia and trucks with goods from Croatia into the country. 13 000 Swimming in the mountains The fantastic pool of the Hotel Cambrian in Adelboden offers a magnificent panoramic view of the Bernese Alps 14\t 0.00 percent coupon The interest coupon, after the interest transfers are based, was for the first time at 0.00 percent 15\t 0:00 o'clock: Luis from Burgenland is the winner Beate Hruby, 35, employee from Klostermarienberg, gave birth to the little winner exactly at midnight in the hospital Oberpullendorf: Luis is healthy, 3,680 grams heavy and 54 cm tall. 16\t 0 0 1 0 No Comments Martin Schindler Martin Schindler not only writes about the SAPs and IBMs of the world but also has a weakness for something offside and entertaining topics from the world of IT. 17 00:10: Czech Republic could host thousands of refugees according to Prime Minister Bohuslav Sobotka 18\t 00:14 New Year’s Message: SPD leader Gabriel warns against a split in society SPD leader Sigmar Gabriel warned in his message at the turn of the year against a split in society. 19.00.15: In Bremen, a presenter who - sorry, you can’t say otherwise - seems to be incredibly full\t 00:17 h 2 Answer we should never forget our history, for we are again on the way to become the barbarians.'\t 00:19 DGAP-News: Monument Mining achieves -3- 27.02 in the second. DGAP-News: Monument Mining Postpones Commissioning of Iron and Copper Project to Mengapur\t 00:19Mann shows Nazi tattoo in swimming pool - judgment expected Because he put his tattoo of a concentration camp on display in a swimming pool, a man is on trial in Oranienburg this Tuesday. 23 0 0 1 Comment on the topic found 24 00:21 Uhr: A witness reports from the Bataclan concert hall (CNN video) 25\t At least 13 people have been killed in severe flooding in Missouri, Missouri, United States, according to the authorities. 26\t 00:28 - Greek Prime Minister Alexis Tsipras has threatened to resign before the parliament in Athens if he does not get the approval of his coalition for the austerity and reform program demanded by the creditors. 27 00:30Embassy swims in the Nile The Dutch ambassador in Sudan swam in the Nile after a Facebook bet 28\t 00:30 Kele Disclaimer The ORF 29 00.33: Lithuania does not give Russia a single point 30\t 00.43 a.m.: The game wins, of course, Mark 31\t 00.46: RMC journalist Céline Martelet spoke to people who know the two suspicious brothers 32\t 00.49 - NATO Secretary General Jens Stoltenberg assured France of the support of the military alliance 33\t 00.56 a.m.: The SRF presenter uses the national anthems to position himself and takes over as a commentator after the national songs\t $0.05 per minute 35 0.05 percent: The ECB is no longer going lower The European Central Bank is leaving the key interest rate at a historic low\t 007: 2015 on new tracks Agent James Bond 007 leaves new tracks on the Schilthorn in the coming summer 37\t 007 in the success check Connery as Bond brings the most coal Just started with \"Spectre\" the 24th Bond in German cinemas - MEGA successful! 38\t 007: Spectre World Premiere in London Even the Royals came to see the world premiere of the ninth James Bond film starring Daniel Craig, Christoph Walz and Monica Bellucci. 39 007 and the license to earn money After two mysterious shooting days in Altaussee, the Bond crew is now filming in Tyrol 40\t \"007 becomes an ambassador for Styria\", rejoiced Hermann Schützenhöfer, now governor, then tourism officer 41\t 0:0 Blick Special Offers Blick subscription Order your Blick subscription now 42\t 0:0 ended the game of BVB in Hamburg - because the Dortmund team had a lot of possession, but made little of it\t \"0-0 against the best team in Germany, so I have to thank the guys,\" says the 25-year-old, \"I don’t know how many kilometers each of them has run.\" 44 0-0 against donetsk, 3-2 lost in city, weak in moscow, weak at home against city 45\t » 0:0 against Schachtjor Donetsk Dangerous zero number - Sammer:  Not Bayern Munich\" The advance waiver of the banquet proved to be a wise decision. 46\t 0 0 Written by No Name (No Member) at 07 Dec 2015 @ 12:05 If the standard version is converted to the Enhanced Edition, or you get a completely new game ink like with Metro Redux. Steam-Eintrag? 47  » 0:0 - Lucky for Klopp that there is no penalty against Liverpool Gifts are not available on \"Boxing Day\" in the Premier League. 48 0:0 Status: Thu. By the first line the promotion places are marked by the second the relegation place to the Bundesliga, by the third the relegation place to the 3rd league and by the fourth the relegation places. 49 0:0 Stand: Thu. By the first line the promotion places are marked by the second the relegation place to the Bundesliga, by the third the relegation place to the 3rd league and by the fourth the relegation places. 50\t 01004 Moscow concerned about secret US bio-laboratories at Russian border After the anthrax scandal in the US army, Moscow accuses the United States of secretly setting up military bio-laboratories near the Russian border. 51 0:1 (0:0) Schuster: \"A breathtaking game\" Kempe: It’s like before the games against Kaiserslautern and the KSC 52\t 01.00 am - On Tuesday the gate will go to at the Hungarian-Serbian border 53\t 01.01.2015 1 Antwort Böller - Fluch und Segen For me the motto \"Live and let live\" is very clear 54\t 01.01.2015 1 Answer And again the eternal bread-instead-firecracker-wailers are on the road, who not only can not celebrate, but also want to spoil it for everyone else - if they could, they would forbid the fireworks. 55 01.01.2015 The DGAP Distribution Services comprise statutory reporting obligations, corporate news/financial news and press releases 56\t 01.02.14 Basketball Science City Jena set to attack Basketball Second Division side Science City Jena will welcome the German record champion Leverkusen on Sunday, wants to remain unbeaten in the third game in the new hall. 57 01.02.2015 - 14:06 Hamburg (ots) - Shoplifter was arrested for \n",
      "6.481451034545898\n"
     ]
    }
   ],
   "source": [
    "german = open(\"../input/textes/german.txt\",\"r\", encoding=\"utf-8\")\n",
    "text =\"\"\n",
    "for line in german.readlines():\n",
    "    text = text + line\n",
    "# print(text)\n",
    "start = time.time()\n",
    "traduction = Traduction()\n",
    "print(traduction.english(text))\n",
    "end = time.time()\n",
    "print(end-start)"
   ]
  },
  {
   "cell_type": "code",
   "execution_count": 10,
   "id": "01b0e401",
   "metadata": {
    "execution": {
     "iopub.execute_input": "2022-06-17T07:04:07.875101Z",
     "iopub.status.busy": "2022-06-17T07:04:07.874450Z",
     "iopub.status.idle": "2022-06-17T07:04:19.092437Z",
     "shell.execute_reply": "2022-06-17T07:04:19.092943Z",
     "shell.execute_reply.started": "2022-06-17T06:51:56.216620Z"
    },
    "papermill": {
     "duration": 11.268617,
     "end_time": "2022-06-17T07:04:19.093118",
     "exception": false,
     "start_time": "2022-06-17T07:04:07.824501",
     "status": "completed"
    },
    "tags": []
   },
   "outputs": [
    {
     "name": "stdout",
     "output_type": "stream",
     "text": [
      "C A T A L O G U E G 320 M€ 700 40.000 40 63.000 M 2.000 2 OF EMPLOYEES CUSTOMERS AREA AGENCIES ORDERS PROCESSED COMMITTED BUSINESS STORAGE LOYALTY PER DAY WWW.GROUP-RG.COM 2 GENERAL CATALOGUE It is with great pleasure that we find you through this catalogue to write a new page of our history.  In this highly competitive economy, with an international context where many practices are being challenged, in the digital age that is transforming our business as a distributor, innovation is becoming the key factor in our value chain.  The RG Group, a specialist in personal protective equipment, aims to consolidate its leadership in France and extend it to Europe. This strategy of creating value for the satisfaction of its customers is a constant incentive for our Group to challenge itself and innovate. To succeed in this project, all the values defended by the Group for many years, allow it to anticipate the market with strong determination and humility. The PPE market is constantly evolving. Listening skills are required to better understand the demands of our customers. This is what the RG PERFORMANCE teams do every day. In recent years, our Group has achieved exceptional performance. This confirms our PPE expertise, the relevance of our service offer and our know-how in the implementation and support of our clients' prevention plans. We do not forget that we must defend every day this trust so precious for the success of our future. We have implemented EXPERTISE a responsible purchasing policy with the leading brands in the market, but also by developing a sourcing search at the source and creating, with the ERGOS brand, manufacturing agreements with the largest production plants in the world. Our development is part of the requirements of a responsible trade COMMITMENT. Based on the pillars of the circular economy, our strategy integrates the green economy and the fight against climate change. Our new RGreen Concept™ program is the vehicle of this ambition and will make it possible to better identify oneself in the choice of PPE. 2020 was marked by an exceptional pandemic resulting in an unprecedented crisis. It showed the need to change many rules that we thought were immutable. Securing sourcing, rapid adaptation to new situations, and the search for alternative products are fundamental to our business. The engagement of our teams in this new approach is complete. Expertise, which remains at the heart of our DNA INNOVATION, is a real added value that we want you to benefit from each of our interventions on the ground.  The RG teams have the belief and are resolutely at your side to accompany you. TOGETHER, the RG team remains on course to fully satisfy ETHICS with its clients.  Even when the visibility of the moment is reduced, our Group continues to devote all its energy to serving the women and men who trust us. Protecting you engages us! Pierre Manchini CEO RG Group The video presentation of our catalogue 3 THE COMPLETE GUIDE TO CATALOGUE 1 (Re)Discover the EPI regulation (EU) 2016/425 and the normative system EPI, standard products.   The EU Regulation 2016/425 Find at the beginning of each chapter on PPE in summary pages 22-23 product family, an explanation of the normative system and the advice of our experts to guide you in your choices 2 Find the answers to your questions in the product information Pictograms of standards,   performance Inserts and information labels R'GO CUT XTREME,   The brand has an exclusive range of videos EN 388: 2016 ERGOS 100% XTREME! and some tutorials...  • 4X43 F fiberglass-free • EN 407 Stainless Fiber-Free: 2004 •  2X more resistant to cutting than traditional HPPE fibers X1XXXX ISO 13997F RGreen ConceptTM notation Extended sleeve to protect the forearm. 398335 Glass Industry, Automotive, Metallurgy, Stamping, Aeronautical, Recycling, Extremely Sharp Parts Handling Dytec Knitted Glove® • Gauge 7 • HCT Micro Foam Coating on Palm • Thumb Nitrile Reinforcement/Index Reference Size C?ondit&ionne#ment 398335 6 to 11 x 12 x 6 More Products Product Focus and Product Descriptions by Product Experts WWW.GROUP-RG.COM 4 GENERAL CATALOG F Gauge 13 HCT micro foam coating on palm Inch/index finger nitrile reinforcement 6 to 11 Gauge 13 Nitrile foam coating Technology on palm 6 to 11 , Stainless steel, cotton Gauge 10 Crepe latex coating on the palm 8 to 11 3 Find the logistic and purchase data for all products S O M M A I R E The first pictogram in the packing column specifies the smallest sales unit. GROUP RG 6 HEAD PROTECTION 24 HEARING PROTECTION 44 EYE PROTECTION 66 RESPIRATORY PROTECTION 102 The RG reference to be included in your price request References RG HAND PROTECTION 162 and your order for related products The helmet is sold                                 The earplugs are piece by piece and per carton sold per box of 100 pairs BODY PROTECTION 220 of 10 pieces and per carton of 10 boxes FOOT PROTECTION 294 4 Without forgetting, advice from our experts in FALL PROTECTION 356 pages of the catalogue … HYGIÈNE & SÉCURITÉ  386 SOUDAGE INDEX  412 L3elR0adéI nfSGédlEpr ei eLéeNNcs-poecnaa  o -iuIeustc CuaSr e Tnneovl eer CuO tienLaxnnnprsr-ro gEiatei çL 2tcrgr vdReCucpeoae-o1ôUe eé e o oxdrboT rl4Visnma   EipeueueunILsstmlue2mau c Fiétpisdfaaeeil2  rte0to Irilua a ennsdc-0élQClaslr:c 1 tr bl- aosee 1em2tAudépAee oan  eg rge 67 Ad0raarpgumTlmedéiued/oé ln2unr axa2Ini4emréugaoaaOs t0xus né2 cltterou é  cetagxiNrel5oect’ Q cp,vnaoeaslmn rhc oeSéel gtoCè nuétsé ecmWRier gEgtv EvlCohsa.in ildeo ’em  RqndosetGtlAuWEuix ie uaumuee mnOxeriTu g eetsd  ,Ért iecQW, llrdaA eFo T pnGeosdGSp nenenLA L tanee REta. o rsdsEg  NO,Grteetu I’dc  Xran innPCgsnôoeudGnR,édo   a  ilnHnttemEtrpaRver:OU fs mnÉTdrn eoer ’eo   ItveaiGtrExpaaU trieT ttndtcftOvu e fioÉoiitaieGoPf c sve isnilpdpGeteilrcEsÉiutrt ebenesRo aiér - lNE nntmnaIcspveeRoetNoP,  epu tÉur uae  lmG3inmeonl(mtrueRedt p8eoèt olxt.e.ed Aceteg8 e tCysnrnmeRorrlc(s+eLeiofetpm Oe cEt’s no eAietmiiGeGNqq mrnonr1pMemrOuuetr4ftlnpo Ao: éo eeneae0 a2nluéuCch NrstcexnS7 0rlpmr.aUp a Sc:ioe1AoisnnlteanT2r e ni8ipNseFt arnés0tfvvaiDtXésdIscro)cSibe2,B reTcsarce l ia0daSm moeeFR3Rséuletp  ut m)oIMeEee  EaàpaBeLisdc rs ™uvnMpa eorDevéR elraraoco’  c   diEEEgSgmnupuptntou Cn  gPenretdnuroVIruéieealmiEeoNaelers Etp,sEist t ,ss éveOsiRD quee E de.fi™dsnanXq GccruRrRerelltte tLtv9 peeeeEsnGi’riAvus1 uouet cte iOb3S,iai0zsrne tsfs ™o M iS0nus  i  d  pndco Xetd duvte™p ao9oulXp ag t eu u1n odtiragaqjr0rioode onavm0n vn- uneDtnlué o.raeavt lust ie, usto,  sss L  c   :éu  dtAtaCEilcerers BeIo3luO ? lsNpaMrEnNeiusrÉv ,Lt™ior FFnqé iG elFvtsrQOi Oy peuleraaieAiSt sl èEsRcetrcvbnPL rrKateSoTfseEéatiÉeeP  iOoEocm1qtd3l  gUDEant ddu-vMe3aEK TprGiteeiD ipebIsELrm8so™  TGesmAiilXo nsèessoL ASOuS ,r  AelD u  aaeep™deSusFdvs sCe™aLdl seWa rLua9OegaAiec ggsI1 ™d9epE  vtTie09eW m1 gépv   01SA03lorelea0F0iMaAaWL cXsu 0AFbt™aO™CXXlnDarat. X i GAtG geFosIAÉVttIeoLanRCRU3e O dnGbLsiMeOqNrOSesE tlAs™at™PdLe EI qe RO eÉcbBVuOr U ’du G ti NSxoo“aRE \n",
      "11.18799614906311\n"
     ]
    }
   ],
   "source": [
    "catalogue = open(\"../input/textes/catalogue_groupe_rg_fr_657.txt\",\"r\", encoding=\"utf-8\")\n",
    "text =\"\"\n",
    "for line in catalogue.readlines():\n",
    "    text = text + line\n",
    "# print(text)\n",
    "start = time.time()\n",
    "traduction = Traduction()\n",
    "print(traduction.english(text))\n",
    "end = time.time()\n",
    "print(end-start)"
   ]
  },
  {
   "cell_type": "code",
   "execution_count": 11,
   "id": "b4ce5444",
   "metadata": {
    "execution": {
     "iopub.execute_input": "2022-06-17T07:04:19.190803Z",
     "iopub.status.busy": "2022-06-17T07:04:19.190095Z",
     "iopub.status.idle": "2022-06-17T07:04:24.627816Z",
     "shell.execute_reply": "2022-06-17T07:04:24.626681Z",
     "shell.execute_reply.started": "2022-06-17T06:52:12.599604Z"
    },
    "papermill": {
     "duration": 5.488404,
     "end_time": "2022-06-17T07:04:24.628035",
     "exception": false,
     "start_time": "2022-06-17T07:04:19.139631",
     "status": "completed"
    },
    "tags": []
   },
   "outputs": [
    {
     "name": "stdout",
     "output_type": "stream",
     "text": [
      "Resumption of the session I declare the session of the European Parliament resumed on Friday, 17 December last and I renew all my views in the hope that you have had a good holiday. As you can see, the big \"Y2K bug\" didn’t happen. On the other hand, the citizens of a number of our countries have been victims of natural disasters that have been truly terrible. You have called for a debate on this in the next few days during this part session. In the meantime, as a number of Members have asked me, I would like us to observe a minute’s silence for all the victims, particularly the storms in the various countries of the European Union which have been affected. I invite you to rise for this minute of silence. (Parliament rose and observed a minute of silence) Madam Speaker, this is a procedural motion. You have probably learned from the press and television that a number of bombings and crimes have been committed in Sri Lanka. One of the people who has just been murdered in Sri Lanka is Mr. Kumar Ponnambalam, who visited the European Parliament just a few months ago. Do you not think, Madam President, that it would be appropriate to write a letter to the President of Sri Lanka to inform him that Parliament deplores the violent deaths, including that of Mr. Ponnambalam, and to urge him to do everything in his power to seek peaceful reconciliation and put an end to this particularly difficult situation. Yes, Mr. Evans, I think an initiative along the lines you just suggested would be entirely appropriate. If the House agrees, I will do as Mr Evans suggested. Madam Speaker, this is a procedural motion. I would like to ask you for some advice on clause 143, which deals with inadmissibility. My question is on a matter that is on the Thursday agenda, so I will raise it again. Paragraph 6 of the Cunha report on multi annual guidance programmes, which will be submitted to Parliament on Thursday, proposes introducing penalties for countries that fail to meet their annual fleet reduction targets. He clarified that this should be done despite the principle of relative stability. In my view, the principle of relative stability is a fundamental legal principle of the common fisheries policy, and any proposal that upsets it would be legally inadmissible. I would like to know whether we can raise such an objection to what is only a report, not a legislative proposal, and whether I am entitled to do so this Thursday. That is exactly when you will be able to raise this matter, if you wish, on Thursday before the report is tabled. Madam Speaker, as the first session of the European Parliament takes place this year, the execution of a man sentenced to death in Texas in the United States, a 34-year-old man named Hicks, was unfortunately scheduled for Thursday. At the request of a French Member of Parliament, Mr Zimeray, a petition has already been submitted, which has received many signatures, including mine. However, I ask you, in accordance with the direction now constantly expressed by the European Parliament and the whole European Community, to intervene with the President and Governor of Texas, Mr. Bush, by using the prestige of your mandate and the institution you represent, because it is Mr. Bush who has the power to suspend the death sentence and pardon the condemned. And all this in accordance with the principles that we have always supported. Thank you, Mr Segni, I will gladly do so. It is in fact entirely in line with the positions that our Parliament has always adopted. Madam Speaker, I would like to draw your attention to a case that Parliament has dealt with on a regular basis. This is the case of Alexandre Nikitin. We are all pleased in this chamber that the court has released him and has clearly established that in Russia too, access to environmental information is a constitutional right. However, he appears to be charged again, with the Crown having appealed. We know, and we have established this in many, many resolutions - including the last part session of last year -, that this case is not only of a legal nature and that it is false to accuse Alexander Nikitin of criminal activity and treason because we are concerned about his results and we benefit from them. These results form the basis of the European programmes for the protection of the Barents Sea and therefore I would ask you to consider a draft letter describing the essential facts of this case and to inform Russia of the position which results from the decisions of the Parliament. Yes, Mrs Schroedter, I would be happy to look into the facts of this matter when I receive your letter. Madam Speaker, first of all, I would like to congratulate you on keeping your word, because in this first part of the session, in the new year, the number of television channels has actually increased significantly in our premises. However, Madam Speaker, what I asked for has not been achieved. There are two Finnish channels and one Portuguese channel, but there are still no Dutch channels. Yet I asked you for a Dutch channel, because the Dutch also want to be able to follow the news every month when they are sent to this land of exile. So I would ask you again to take the necessary steps so that we can have a Dutch channel. Mrs Plooij-van Gorsel, I can tell you that this matter is on the agenda for Wednesday’s meeting of the Quaestors. It will, I hope, be examined in a positive spirit. Madam Speaker, why is it that Parliament does not comply with the health and safety regulations that it votes on? How is it that no air quality testing has been done in this building since our election? How is it that the health and hygiene committee has not met since 1998? How is it that we have never done an evacuation exercise in the buildings of the Parliament of Brussels and Strasbourg? How is it that there are no instructions in case of fire? How come the stairs haven’t been improved since my accident? How is it that we do not respect non-smoking areas? We pass regulations and we do not even comply with them. That’s outrageous. Ms. Lynne, you’re absolutely right, and I’m going to check to see if that has in fact been done. I shall also put the problem to the College of Quaestors and I am sure that our Quaestors will try to ensure that we comply with the regulations which we are voting for. Madam President, Mrs Díez González and I had presented some questions on certain opinions expressed by the Vice-President, Mrs de Palacio, and published in a Spanish newspaper. The relevant departments did not include them on the agenda, arguing that answers had already been given at a previous session. I ask that this decision be reconsidered because it is not. The questions that were answered earlier were related to Ms. de Palacio’s intervention in a specific case, and not to the statements published in the ABC newspaper on November 18. Dear colleague, we will check all that. I will admit that, for the moment, things seem a little \n",
      "5.420390367507935\n"
     ]
    }
   ],
   "source": [
    "french = open(\"../input/textes/french.txt\",\"r\", encoding=\"utf-8\")\n",
    "text =\"\"\n",
    "for line in french.readlines():\n",
    "    text = text + line\n",
    "# print(text)\n",
    "start = time.time()\n",
    "traduction = Traduction()\n",
    "print(traduction.english(text))\n",
    "end = time.time()\n",
    "print(end-start)"
   ]
  },
  {
   "cell_type": "code",
   "execution_count": 12,
   "id": "ab497995",
   "metadata": {
    "execution": {
     "iopub.execute_input": "2022-06-17T07:04:24.735187Z",
     "iopub.status.busy": "2022-06-17T07:04:24.730694Z",
     "iopub.status.idle": "2022-06-17T07:04:31.735028Z",
     "shell.execute_reply": "2022-06-17T07:04:31.735631Z",
     "shell.execute_reply.started": "2022-06-17T06:52:21.444858Z"
    },
    "papermill": {
     "duration": 7.05749,
     "end_time": "2022-06-17T07:04:31.735822",
     "exception": false,
     "start_time": "2022-06-17T07:04:24.678332",
     "status": "completed"
    },
    "tags": []
   },
   "outputs": [
    {
     "name": "stdout",
     "output_type": "stream",
     "text": [
      "ANNUAL REPORT 2020 OVERSEAS INTERNATIONAL TRANSPORT AND LOGISTICS ORGANIZER THE PRESIDENT’S WORD “CLASQUIN, a unique positioning,  Thanks to the trust of our clients, we have been able to create a DNA based on audacity, conquest, establishment in Europe, Asia, America, and more recently to performance and a strong will to contribute to Maghreb and sub-Saharan Africa. to the general interest.” Our resilience in the face of the current crisis With an integrated network of more than 64 offices and 925 employees, we demonstrate our strong capacity to adapt within a sector in the world, CLASQUIN is the only French multinational ETI transport totally disrupted worldwide and our in the field of international transport organization and ability to design innovative services to accompany the Overseas logistics. better our customers in this unpredictable environment.  This unique positioning allows us to offer solutions Finally, driven by the Group’s growing desire to contribute globally from end to end, like the giants of the sector with to the general interest, the Board of Directors of CLASQUIN has confirmed the quality of service of an ETI (customer proximity, offers at the end of 2020 the creation of the CLASQUIN Foundation; operational as soon as possible, creativity, reactivity). We are offering our clients an April 2021 under the aegis of the Fondation de France.  We will continue with enthusiasm in the coming years to manage the Supply-Chain Overseas: the design and management the expansion of our international network and our services to solutions of transport and logistics «tailor-made» of equal added value in the respect of our values and our identity.  the selection and coordination of a network of subcontracting partners among the most efficient. Driven by our passion for our business and customer service, by the expertise and enthusiasm of our teams, as well as by our culture of conquest and performance, we have been unraveling our international development strategy since Yves REVOL, 1983.  Chair EXECUTIVE SUMMARY PRESIDENT CROSS-TALK 04. ACCOUNTS 56 AND THE MANAGING DIRECTOR 2 2020 HIGHLIGHTS 4 2020 CONSOLIDATED ACCOUNTS 58 •  FINANCIAL STATEMENTS 60 01. PROFILE 6 •  NOTES TO THE CONSOLIDATED FINANCIAL STATEMENTS 66 FINANCIAL PANORAMA 2020 8 •  STATUTORY ACCOUNTS REPORT 114 LEGAL CHART 11 EXTRA-FINANCIAL PANORAMA 2020 12 ANNUAL ACCOUNTS 2020 116 A CULTURE OF CONQUEST 14 •  BALANCE SHEET 118 GOVERNANCE 16 • INCOME STATEMENT 120 CLASQUIN, A UNIQUE PLAYER IN ITS MARKET 20 • APPENDICES TO THE ANNUAL FINANCIAL STATEMENTS 123 KEY SUCCESS FACTORS 24 •  STATUTORY AUDITOR’S REPORT ON THE ANNUAL FINANCIAL STATEMENTS 135 •  STATUTORY AUDITOR’S SPECIAL REPORT, AN INTEGRATED GLOBAL NETWORK 26 ON REGULATED CONVENTIONS 137 02. BUSINESS 28 05.  APPENDICES 142 A COMPLETE OFFER OF SERVICES 30 MANAGEMENT REPORT AN EXPERTISE BY SECTOR 34 OF THE BOARD OF DIRECTORS 146 LE SI AS A PRODUCTIVITY LEVER  • AT APPENDIX 1: TABLE OF SUBSIDIARIES AND INTERESTS 168 AND VALUE CREATION 36 • APPENDIX 2: Table of financial results for the last five fiscal years 170 03. RESOURCES 40 • APPENDIX 3: Extra-financial performance statement - Report of the independent third party organization on the consolidated performance statement MEETING WITH ANOUK GARNIER,  171 AMBASSADOR CLASQUIN 42 TEXT OF RESOLUTIONS 220 OUR APPROACH TO CORPORATE SOCIAL RESPONSIBILITY 44 SHAREHOLDER AND INVESTOR INFORMATION 54 ANNUAL REPORT - CLASQUIN - 2020 / 1 CROSSTALK YVES REVOL, PRESIDENT/HUGUES MORIN, MANAGING DIRECTOR FOR ALL COMPANIES,  n The spectacular performances of several subsidiaries: IN THE WORLD, THE YEAR 2020 WAS GERMANY, Spain, Korea, with many new A YEAR OF UPHEAVALS, customers across the group. DOUBTS AND ADAPTATION, HOW n The development of our CSR policy (WOULD YOU LIKE TO SUM UP THE RESPONSIBILITY OF CLASQUIN?  Social and Societal Company) with our offer “ROAD TO H. M.: Our environment has been volatile and hit throughout GREEN “ to allow our customers to measure, improve 2020 due to permanent “STOP & GO” trade-offs operationally and rethink their environmental impact in terms of both demand and supply.  at the level of Supply Chain and the creation of the CLASQUIN FOUNDATION to support philanthropic initiatives in In this context, our trajectory has been linear based on the service of the general interest and the most disadvantaged. strong convictions: keep our human capital intact, adapt our offers by designating offers in «mirror» of the news Finally, I am very proud of our very good score of 93/100 on the index expectations of our customers, to protect the company by lowering the costs Egalité Femmes/ Hommes 2020 in France.  and securing our cash.  WHAT WILL BE THE TRAJECTORY Beyond these key axes, it is the very strong mobilization of each MAIN OF THE COMPANY across the world that has allowed us to go fast in the execution FOR THE YEAR 2021?  of our plans. H. M.: Our ambition in 2021 is to resume the path of the Very good results 2020 as well as the significant breakthroughs conquest, put to sleep in 2020! CLASQUIN’s digital and CSR initiatives are the result of this ongoing internal movement throughout the year.  This spirit of conquest will be expressed in 3 areas in particular:  1/  Continue the extension and strengthening of our network OUTSIDE THE CONTEXT, WHAT ARE INTERNATIONAL: we have projects in Belgium, Spain, IMPORTANT EVENTS in the Maghreb and sub-Africaparticularly in the Saharan region.  WHO MARKED THE YEAR 2020?  2/  Strengthen our offer: digital first with the deployment Y. R.: Beyond the remarkable results, several facts of LIVE, our collaborative platform for our customers;  interesting, which I quote belowbelow, marked this year 2020 the launch of an international logistics offer since the for CLASQUIN: Belgium integrating e-commerce solutions; an offer \"Key n The successful integration of the company CARGOLUTION Canada, Account\" to better support our clients in their acquisition in October 2019 (C$50 million in 2019), an international conquest.  in which we have already installed all our tools 3/  Deploy the “Operational Excellence” approach through operations and management and with which we are putting in the world to offer even more reliability to our customers and more now places all possible synergies with our other efficiency internally. offices in the world.  Finally, 2021 will be dedicated to our teams with the goal n The chartering in April 2020 by CLASQUIN, of the mythical Antonov to strengthen our human capital: take the time of listening AN225, the largest plane in the world (3 times the size of a post-covid via the FUNOMETER, train to allow the Boeing 747) from China to Vatry;  employees to adapt and progress through the sessions of touching France for the first time in 6 years! this event the CLASQUIN ACADEMY and also recruit many was the trigger of a very regular offer of charters between new talents to support our development 2021.  Asia and Europe thus responding to the demand of the market notoriously helpless in the face of the disorders of the air transport Indeed, we aim to grow at least twice as fast and maritime. that the market in \n",
      "6.971283197402954\n"
     ]
    }
   ],
   "source": [
    "rapport = open(\"../input/textes/Rapport_Annuel_2020.txt\",\"r\", encoding=\"utf-8\")\n",
    "text =\"\"\n",
    "for line in rapport.readlines():\n",
    "    text = text + line\n",
    "# print(text)\n",
    "start = time.time()\n",
    "traduction = Traduction()\n",
    "print(traduction.english(text))\n",
    "end = time.time()\n",
    "print(end-start)"
   ]
  }
 ],
 "metadata": {
  "kernelspec": {
   "display_name": "Python 3",
   "language": "python",
   "name": "python3"
  },
  "language_info": {
   "codemirror_mode": {
    "name": "ipython",
    "version": 3
   },
   "file_extension": ".py",
   "mimetype": "text/x-python",
   "name": "python",
   "nbconvert_exporter": "python",
   "pygments_lexer": "ipython3",
   "version": "3.7.12"
  },
  "papermill": {
   "default_parameters": {},
   "duration": 84.168396,
   "end_time": "2022-06-17T07:04:32.592086",
   "environment_variables": {},
   "exception": null,
   "input_path": "__notebook__.ipynb",
   "output_path": "__notebook__.ipynb",
   "parameters": {},
   "start_time": "2022-06-17T07:03:08.423690",
   "version": "2.3.3"
  }
 },
 "nbformat": 4,
 "nbformat_minor": 5
}
